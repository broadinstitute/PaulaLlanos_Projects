{
 "cells": [
  {
   "cell_type": "code",
   "execution_count": 1,
   "id": "d79644f1",
   "metadata": {},
   "outputs": [],
   "source": [
    "# import pandas library\n",
    "import pandas as pd\n",
    "\n",
    "# read csv file\n",
    "### ENTER THE NAME/PATH OF THE CSV FILE OBTAINED FROM CELLPROFILER ###\n",
    "df = pd.read_csv(\"SpliteData_DATA_objects.csv\",low_memory=False,header=None)\n",
    "\n",
    "# Concatenate the name of the object with the feature (first and second row)\n",
    "df.iloc[0,:] = df.iloc[0,:].str.cat(df.iloc[1,:], sep='_')\n",
    "\n",
    "# drop the row of the second row\n",
    "df.drop(labels=1, inplace=True)\n",
    "\n",
    "#Transpose the csv\n",
    "df2=df.transpose(copy=False)\n",
    "\n",
    "#save the csv\n",
    "df2.to_csv(r'myData_All.csv',sep=',',encoding=\"utf-8\",header=False,index=False)"
   ]
  },
  {
   "cell_type": "code",
   "execution_count": null,
   "id": "1d3094e5",
   "metadata": {},
   "outputs": [],
   "source": []
  }
 ],
 "metadata": {
  "kernelspec": {
   "display_name": "Python 3 (ipykernel)",
   "language": "python",
   "name": "python3"
  },
  "language_info": {
   "codemirror_mode": {
    "name": "ipython",
    "version": 3
   },
   "file_extension": ".py",
   "mimetype": "text/x-python",
   "name": "python",
   "nbconvert_exporter": "python",
   "pygments_lexer": "ipython3",
   "version": "3.10.9"
  }
 },
 "nbformat": 4,
 "nbformat_minor": 5
}
