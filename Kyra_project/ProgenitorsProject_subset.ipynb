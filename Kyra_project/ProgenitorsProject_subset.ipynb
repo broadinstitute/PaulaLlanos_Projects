{
 "cells": [
  {
   "attachments": {},
   "cell_type": "markdown",
   "metadata": {},
   "source": [
    "Importing libraries"
   ]
  },
  {
   "cell_type": "code",
   "execution_count": 550,
   "metadata": {},
   "outputs": [],
   "source": [
    "import sqlite3\n",
    "import pandas as pd\n",
    "import pycytominer"
   ]
  },
  {
   "cell_type": "code",
   "execution_count": 551,
   "metadata": {},
   "outputs": [],
   "source": [
    "inputDir = \"/Users/llanos/Documents/GitHub/Kyra_project/Batch4\"\n",
    "database_name='DS2U_DS1_Neurons_03042024_database'"
   ]
  },
  {
   "cell_type": "code",
   "execution_count": 553,
   "metadata": {},
   "outputs": [
    {
     "ename": "OperationalError",
     "evalue": "no such table: MyExpt_Per_Image",
     "output_type": "error",
     "traceback": [
      "\u001b[0;31m---------------------------------------------------------------------------\u001b[0m",
      "\u001b[0;31mOperationalError\u001b[0m                          Traceback (most recent call last)",
      "Cell \u001b[0;32mIn[553], line 21\u001b[0m\n\u001b[1;32m     18\u001b[0m cursor\u001b[39m.\u001b[39mexecute(table_query)\n\u001b[1;32m     20\u001b[0m \u001b[39m# Add a new column named \"Metadata_genotype\" to the existing table\u001b[39;00m\n\u001b[0;32m---> 21\u001b[0m cursor\u001b[39m.\u001b[39;49mexecute(\u001b[39m'''\u001b[39;49m\u001b[39mALTER TABLE MyExpt_Per_Image\u001b[39;49m\n\u001b[1;32m     22\u001b[0m \u001b[39m                  ADD COLUMN Metadata_genotype TEXT;\u001b[39;49m\u001b[39m'''\u001b[39;49m)\n\u001b[1;32m     24\u001b[0m \u001b[39m# Update the values in the new column based on the conditions\u001b[39;00m\n\u001b[1;32m     26\u001b[0m cursor\u001b[39m.\u001b[39mexecute(\u001b[39m'''\u001b[39m\u001b[39mUPDATE MyExpt_Per_Image\u001b[39m\n\u001b[1;32m     27\u001b[0m \u001b[39m                  SET Metadata_genotype = CASE \u001b[39m\n\u001b[1;32m     28\u001b[0m \u001b[39m                                       WHEN Image_Metadata_Well LIKE \u001b[39m\u001b[39m'\u001b[39m\u001b[39m%\u001b[39m\u001b[39mB\u001b[39m\u001b[39m%\u001b[39m\u001b[39m'\u001b[39m\u001b[39m OR Image_Metadata_Well LIKE \u001b[39m\u001b[39m'\u001b[39m\u001b[39m%\u001b[39m\u001b[39mC\u001b[39m\u001b[39m%\u001b[39m\u001b[39m'\u001b[39m\u001b[39m THEN \u001b[39m\u001b[39m'\u001b[39m\u001b[39mDS2U\u001b[39m\u001b[39m'\u001b[39m\n\u001b[1;32m     29\u001b[0m \u001b[39m                                       WHEN Image_Metadata_Well LIKE \u001b[39m\u001b[39m'\u001b[39m\u001b[39m%E\u001b[39;00m\u001b[39m%\u001b[39m\u001b[39m'\u001b[39m\u001b[39m OR Image_Metadata_Well LIKE \u001b[39m\u001b[39m'\u001b[39m\u001b[39m%F\u001b[39;00m\u001b[39m%\u001b[39m\u001b[39m'\u001b[39m\u001b[39m THEN \u001b[39m\u001b[39m'\u001b[39m\u001b[39mDS1\u001b[39m\u001b[39m'\u001b[39m\n\u001b[1;32m     30\u001b[0m \u001b[39m                                       ELSE NULL  -- You can change this to a default value if needed\u001b[39m\n\u001b[1;32m     31\u001b[0m \u001b[39m                                       END;\u001b[39m\u001b[39m'''\u001b[39m)\n",
      "\u001b[0;31mOperationalError\u001b[0m: no such table: MyExpt_Per_Image"
     ]
    }
   ],
   "source": [
    "#READING Sqlite file\n",
    "\n",
    "\n",
    "# Replace 'your_database.db' with the actual path to your SQLite database\n",
    "database_path = f\"{inputDir}/{database_name}.db\"\n",
    "#database_path = '/Users/llanos/Downloads/BR_109_68_D14_1.sqlite'\n",
    "\n",
    "# Establish a connection to the SQLite database\n",
    "connection = sqlite3.connect(database_path)\n",
    "\n",
    "# Create a cursor object to execute SQL queries\n",
    "cursor = connection.cursor()\n",
    "\n",
    "# Query to retrieve table names from sqlite_master\n",
    "table_query = \"SELECT name FROM sqlite_master WHERE type='table';\"\n",
    "\n",
    "# Execute the query\n",
    "cursor.execute(table_query)\n",
    "\n",
    "# Add a new column named \"Metadata_genotype\" to the existing table\n",
    "cursor.execute('''ALTER TABLE MyExpt_Per_Image\n",
    "                  ADD COLUMN Metadata_genotype TEXT;''')\n",
    "\n",
    "# Update the values in the new column based on the conditions\n",
    "\n",
    "cursor.execute('''UPDATE MyExpt_Per_Image\n",
    "                  SET Metadata_genotype = CASE \n",
    "                                       WHEN Image_Metadata_Well LIKE '%B%' OR Image_Metadata_Well LIKE '%C%' THEN 'DS2U'\n",
    "                                       WHEN Image_Metadata_Well LIKE '%E%' OR Image_Metadata_Well LIKE '%F%' THEN 'DS1'\n",
    "                                       ELSE NULL  -- You can change this to a default value if needed\n",
    "                                       END;''')\n",
    "\n",
    "\n",
    "# Fetch all table names\n",
    "table_names = cursor.fetchall()\n",
    "\n",
    "\n",
    "# Rename the table\n",
    "old_table_Image = 'MyExpt_Per_Image'\n",
    "new_table_Image = 'Image'\n",
    "old_table_Nuclei = 'MyExpt_Per_Nuclei'\n",
    "new_table_Nuclei = 'Nuclei'\n",
    "old_table_Cytoplasm = 'MyExpt_Per_Cytoplasm'\n",
    "new_table_Cytoplasm = 'Cytoplasm'\n",
    "old_table_Cells = 'MyExpt_Per_Cells'\n",
    "new_table_Cells = 'Cells'\n",
    "\n",
    "# Use the ALTER TABLE statement to rename the table\n",
    "cursor.execute(f\"ALTER TABLE {old_table_Image} RENAME TO {new_table_Image}\")\n",
    "cursor.execute(f\"ALTER TABLE {old_table_Nuclei} RENAME TO {new_table_Nuclei}\")\n",
    "cursor.execute(f\"ALTER TABLE {old_table_Cytoplasm} RENAME TO {new_table_Cytoplasm}\")\n",
    "cursor.execute(f\"ALTER TABLE {old_table_Cells} RENAME TO {new_table_Cells}\")\n",
    "\n",
    "\n",
    "#Add a new column for Image_Metadata_Table\n",
    "\n",
    "\n",
    "\n",
    "# Step 1: Add the new column to the table\n",
    "alter_query = '''\n",
    "ALTER TABLE Image\n",
    "ADD COLUMN Image_Metadata_Plate TEXT;\n",
    "'''\n",
    "\n",
    "cursor.execute(alter_query)\n",
    "\n",
    "# Step 2: Update all existing rows in the table with the string \"plate1\"\n",
    "update_query = '''\n",
    "UPDATE Image\n",
    "SET Image_Metadata_Plate = 'plate4';\n",
    "'''\n",
    "\n",
    "cursor.execute(update_query)\n",
    "\n",
    "\n",
    "# Commit the changes\n",
    "connection.commit()\n",
    "\n",
    "\n",
    "# Close the cursor and database connection\n",
    "cursor.close()\n",
    "connection.close()\n",
    "\n"
   ]
  },
  {
   "cell_type": "code",
   "execution_count": 123,
   "metadata": {},
   "outputs": [],
   "source": [
    "#Remove a column that was created previously. This is optional in case that you need to remove a column\n",
    "\n",
    "import sqlite3\n",
    "\n",
    "# Connect to your SQLite database\n",
    "conn = sqlite3.connect('/Users/llanos/Documents/GitHub/Kyra_project/Batch1/WC_NPC_database_subsetTables.db')  # Replace 'your_database.db' with your actual database file\n",
    "\n",
    "# Create a cursor object\n",
    "cursor = conn.cursor()\n",
    "\n",
    "# Step 1: Remove the column from the table\n",
    "alter_query = '''\n",
    "ALTER TABLE Image\n",
    "DROP COLUMN Image_Metadata_Plate;\n",
    "'''\n",
    "\n",
    "cursor.execute(alter_query)\n",
    "\n",
    "# Commit the changes and close the connection\n",
    "conn.commit()\n",
    "conn.close()\n"
   ]
  },
  {
   "attachments": {},
   "cell_type": "markdown",
   "metadata": {},
   "source": [
    "Read the tables name in the database file"
   ]
  },
  {
   "cell_type": "code",
   "execution_count": 555,
   "metadata": {},
   "outputs": [],
   "source": [
    "# Display the table names\n",
    "for table_name in table_names:\n",
    "    print(table_name[0])"
   ]
  },
  {
   "cell_type": "code",
   "execution_count": null,
   "metadata": {},
   "outputs": [],
   "source": []
  },
  {
   "cell_type": "code",
   "execution_count": 556,
   "metadata": {},
   "outputs": [],
   "source": [
    "#MAKE A NEW SQLITE FILE WITH THE FOUR TABLES THAT ARE READ FOR THE PROFILING RECEIPE\n",
    "\n",
    "def copy_tables(source_db, destination_db, tables):\n",
    "    with sqlite3.connect(source_db) as source_conn:\n",
    "        with source_conn as source_cursor:\n",
    "            # Attach the destination database\n",
    "            source_cursor.execute(f\"ATTACH DATABASE '{destination_db}' AS dest\")\n",
    "\n",
    "            # Loop through the specified tables and copy them to the destination\n",
    "            for table in tables:\n",
    "                source_cursor.execute(f\"CREATE TABLE dest.{table} AS SELECT * FROM {table}\")\n",
    "\n",
    "# Replace these values with your actual database file names and table names\n",
    "source_database = f\"{inputDir}/{database_name}.db\"\n",
    "destination_database = f\"{inputDir}/{database_name}.sqlite\"\n",
    "tables_to_copy = ['Cells', 'Nuclei', 'Cytoplasm','Image']\n",
    "\n",
    "# Call the function to copy tables\n",
    "copy_tables(source_database, destination_database, tables_to_copy)"
   ]
  },
  {
   "cell_type": "code",
   "execution_count": 126,
   "metadata": {},
   "outputs": [],
   "source": [
    "#RENAME DATABASE O SQLITE FILE.\n",
    "\n",
    "import os\n",
    "\n",
    "# Specify the current and new file names\n",
    "current_file_name = '/Users/llanos/Documents/GitHub/Kyra_project/Batch1/WC_NPC_database_subsetTables.db'\n",
    "new_file_name = '/Users/llanos/Documents/GitHub/Kyra_project/Batch1/WC_NPC_database_subsetTables.sqlite'\n",
    "\n",
    "# Rename the file\n",
    "os.rename(current_file_name, new_file_name)"
   ]
  },
  {
   "attachments": {},
   "cell_type": "markdown",
   "metadata": {},
   "source": [
    "Convert .sqlite file in a dataframe. From CellProfiler we get a database as \"Single object table\" where all the object are in the same table\n",
    "\n",
    "In the sqlite file you can see the different tables contained there."
   ]
  },
  {
   "attachments": {},
   "cell_type": "markdown",
   "metadata": {},
   "source": [
    "Read the table that contain Objects: MyExpt_Per_Object"
   ]
  },
  {
   "attachments": {},
   "cell_type": "markdown",
   "metadata": {},
   "source": [
    "GROUPING EACH TABLE FROM SQLITE FILE BASED ON IMAGENUMBER COLUMN"
   ]
  },
  {
   "cell_type": "code",
   "execution_count": 557,
   "metadata": {},
   "outputs": [
    {
     "data": {
      "text/plain": [
       "(543, 374)"
      ]
     },
     "execution_count": 557,
     "metadata": {},
     "output_type": "execute_result"
    }
   ],
   "source": [
    "\n",
    "connection = sqlite3.connect(f\"{inputDir}/{database_name}.db\")\n",
    "query = \"SELECT * FROM Cells\"\n",
    "data_frame_objects = pd.read_sql(query, connection)\n",
    "data_frame_objects.to_csv(f\"{inputDir}/Cells.csv\", index=False) \n",
    "\n",
    "\n",
    "#data_frame.columns\n",
    "\n",
    "grouped_df = data_frame_objects.groupby('ImageNumber')\n",
    "\n",
    "# Applying aggregate functions (e.g., sum, mean) to each group\n",
    "result_df_Cells = grouped_df.mean().reset_index(drop=False)\n",
    "result_df_Cells.shape\n",
    "\n"
   ]
  },
  {
   "cell_type": "code",
   "execution_count": 558,
   "metadata": {},
   "outputs": [
    {
     "data": {
      "text/plain": [
       "(543, 374)"
      ]
     },
     "execution_count": 558,
     "metadata": {},
     "output_type": "execute_result"
    }
   ],
   "source": [
    "connection = sqlite3.connect(f\"{inputDir}/{database_name}.db\")\n",
    "query = \"SELECT * FROM Nuclei\"\n",
    "data_frame_objects = pd.read_sql(query, connection)\n",
    "data_frame_objects.to_csv(f\"{inputDir}/Nuclei.csv\", index=False) \n",
    "data_frame_objects.head()\n",
    "data_frame_objects.shape\n",
    "grouped_df = data_frame_objects.groupby('ImageNumber')\n",
    "\n",
    "# Applying aggregate functions (e.g., sum, mean) to each group\n",
    "result_df_Nuclei = grouped_df.mean().reset_index(drop=False)\n",
    "result_df_Nuclei.shape\n"
   ]
  },
  {
   "cell_type": "code",
   "execution_count": 559,
   "metadata": {},
   "outputs": [
    {
     "data": {
      "text/plain": [
       "(543, 188)"
      ]
     },
     "execution_count": 559,
     "metadata": {},
     "output_type": "execute_result"
    }
   ],
   "source": [
    "connection = sqlite3.connect(f\"{inputDir}/{database_name}.db\")\n",
    "query = \"SELECT * FROM Cytoplasm\"\n",
    "data_frame_objects = pd.read_sql(query, connection)\n",
    "data_frame_objects.to_csv(f\"{inputDir}/Cytoplasm.csv\", index=False) \n",
    "\n",
    "#data_frame.columns\n",
    "\n",
    "grouped_df = data_frame_objects.groupby('ImageNumber')\n",
    "\n",
    "# Applying aggregate functions (e.g., sum, mean) to each group\n",
    "result_df_cytoplasm = grouped_df.mean().reset_index(drop=False)\n",
    "\n",
    "result_df_cytoplasm.shape\n"
   ]
  },
  {
   "cell_type": "code",
   "execution_count": 560,
   "metadata": {},
   "outputs": [
    {
     "data": {
      "text/plain": [
       "(659, 443)"
      ]
     },
     "execution_count": 560,
     "metadata": {},
     "output_type": "execute_result"
    }
   ],
   "source": [
    "connection = sqlite3.connect(f\"{inputDir}/{database_name}.db\")\n",
    "query = \"SELECT * FROM Image\"\n",
    "data_frame_image = pd.read_sql(query, connection)\n",
    "\n",
    "data_frame_image.to_csv(f\"{inputDir}/Image.csv\", index=False) \n",
    "data_frame_image.head()\n",
    "data_frame_image.shape\n",
    "#data_frame.columns"
   ]
  },
  {
   "cell_type": "code",
   "execution_count": 561,
   "metadata": {},
   "outputs": [
    {
     "name": "stdout",
     "output_type": "stream",
     "text": [
      "(543, 1376)\n"
     ]
    }
   ],
   "source": [
    "# Merge the DataFrames using 'ID'\n",
    "merged_df = pd.merge(result_df_Cells, result_df_Nuclei, on='ImageNumber', how='inner')\n",
    "merged_df = pd.merge(merged_df, result_df_cytoplasm, on='ImageNumber', how='inner')\n",
    "merged_df = pd.merge(merged_df, data_frame_image, on='ImageNumber', how='inner')\n",
    "merged_df.head()\n",
    "print(merged_df.shape)"
   ]
  },
  {
   "cell_type": "code",
   "execution_count": 562,
   "metadata": {},
   "outputs": [
    {
     "name": "stdout",
     "output_type": "stream",
     "text": [
      "There are 266 empty columns:\n",
      "Index(['Image_Intensity_LowerQuartileIntensity_Brightfield_Cytoplasm',\n",
      "       'Image_Intensity_LowerQuartileIntensity_Brightfield_Mtcndr_sgmntd',\n",
      "       'Image_Intensity_LowerQuartileIntensity_Brightfield_Nuclei',\n",
      "       'Image_Intensity_LowerQuartileIntensity_Brightfield_Nuclel_sgmntd',\n",
      "       'Image_Intensity_LowerQuartileIntensity_DNA_Cytoplasm',\n",
      "       'Image_Intensity_LowerQuartileIntensity_DNA_Mitocondria_segmented',\n",
      "       'Image_Intensity_LowerQuartileIntensity_DNA_Nuclei',\n",
      "       'Image_Intensity_LowerQuartileIntensity_DNA_Nucleoli_segmented',\n",
      "       'Image_Intensity_LowerQuartileIntensity_ER_Cytoplasm',\n",
      "       'Image_Intensity_LowerQuartileIntensity_ER_Mitocondria_segmented',\n",
      "       ...\n",
      "       'Image_Intensity_UpperQuartileIntensity_Mito_Cytoplasm',\n",
      "       'Image_Intensity_UpperQuartileIntensity_Mito_Mitocondria_segmentd',\n",
      "       'Image_Intensity_UpperQuartileIntensity_Mito_Nuclei',\n",
      "       'Image_Intensity_UpperQuartileIntensity_Mito_Nucleoli_segmented',\n",
      "       'Image_Intensity_UpperQuartileIntensity_RNA_nucleoli_Cytoplasm',\n",
      "       'Image_Intensity_UpperQuartileIntensity_RNA_nucleol_Mtcndr_sgmntd',\n",
      "       'Image_Intensity_UpperQuartileIntensity_RNA_nucleoli_Nuclei',\n",
      "       'Image_Intensity_UpperQuartileIntensity_RNA_nucleoli_Nucll_sgmntd',\n",
      "       'Image_Metadata_ChannelNumber', 'Image_Metadata_FileLocation'],\n",
      "      dtype='object', length=266)\n"
     ]
    }
   ],
   "source": [
    "# Check for empty columns and count them\n",
    "empty_columns = merged_df.columns[merged_df.isnull().all()]\n",
    "num_empty_columns = len(empty_columns)\n",
    "\n",
    "# Display the result\n",
    "if num_empty_columns == 0:\n",
    "    print(\"No empty columns.\")\n",
    "else:\n",
    "    print(f\"There are {num_empty_columns} empty columns:\")\n",
    "    print(empty_columns)"
   ]
  },
  {
   "cell_type": "code",
   "execution_count": 563,
   "metadata": {},
   "outputs": [
    {
     "data": {
      "text/plain": [
       "(543, 1110)"
      ]
     },
     "execution_count": 563,
     "metadata": {},
     "output_type": "execute_result"
    }
   ],
   "source": [
    "# drop empty columns\n",
    "merged_df_dropped_empty = merged_df.drop(empty_columns, axis=1)\n",
    "merged_df_dropped_empty.shape"
   ]
  },
  {
   "cell_type": "code",
   "execution_count": 564,
   "metadata": {},
   "outputs": [],
   "source": [
    "# Rename the first column to include the label Metadara\n",
    "sorted_df_rename = merged_df_dropped_empty.rename(columns={'Image_ImageNumber': 'Image_Metadata_ImageNumber'})"
   ]
  },
  {
   "cell_type": "code",
   "execution_count": 565,
   "metadata": {},
   "outputs": [
    {
     "data": {
      "text/html": [
       "<div>\n",
       "<style scoped>\n",
       "    .dataframe tbody tr th:only-of-type {\n",
       "        vertical-align: middle;\n",
       "    }\n",
       "\n",
       "    .dataframe tbody tr th {\n",
       "        vertical-align: top;\n",
       "    }\n",
       "\n",
       "    .dataframe thead th {\n",
       "        text-align: right;\n",
       "    }\n",
       "</style>\n",
       "<table border=\"1\" class=\"dataframe\">\n",
       "  <thead>\n",
       "    <tr style=\"text-align: right;\">\n",
       "      <th></th>\n",
       "      <th>Image_Metadata_DiseaseGroup</th>\n",
       "      <th>Image_Metadata_Frame</th>\n",
       "      <th>Image_Metadata_Series</th>\n",
       "      <th>Image_Metadata_Site</th>\n",
       "      <th>Image_Metadata_Well</th>\n",
       "      <th>Image_Metadata_WellColumn</th>\n",
       "      <th>Image_Metadata_WellRow</th>\n",
       "      <th>Image_Metadata_Plate</th>\n",
       "      <th>ImageNumber</th>\n",
       "      <th>Cells_Number_Object_Number</th>\n",
       "      <th>...</th>\n",
       "      <th>Image_URL_Membrane</th>\n",
       "      <th>Image_URL_Mito</th>\n",
       "      <th>Image_URL_RNA_nucleoli</th>\n",
       "      <th>Image_Width_Brightfield</th>\n",
       "      <th>Image_Width_DNA</th>\n",
       "      <th>Image_Width_ER</th>\n",
       "      <th>Image_Width_Membrane</th>\n",
       "      <th>Image_Width_Mito</th>\n",
       "      <th>Image_Width_RNA_nucleoli</th>\n",
       "      <th>Metadata_genotype</th>\n",
       "    </tr>\n",
       "  </thead>\n",
       "  <tbody>\n",
       "    <tr>\n",
       "      <th>0</th>\n",
       "      <td>DS2U_DS1 iN</td>\n",
       "      <td>0</td>\n",
       "      <td>0</td>\n",
       "      <td>01</td>\n",
       "      <td>B02</td>\n",
       "      <td>02</td>\n",
       "      <td>02</td>\n",
       "      <td>plate4</td>\n",
       "      <td>1</td>\n",
       "      <td>2.0</td>\n",
       "      <td>...</td>\n",
       "      <td>file:///Z:/Kyra_Export_PB/USE_THESIS%20iN%20DS...</td>\n",
       "      <td>file:///Z:/Kyra_Export_PB/USE_THESIS%20iN%20DS...</td>\n",
       "      <td>file:///Z:/Kyra_Export_PB/USE_THESIS%20iN%20DS...</td>\n",
       "      <td>1080</td>\n",
       "      <td>1080</td>\n",
       "      <td>1080</td>\n",
       "      <td>1080</td>\n",
       "      <td>1080</td>\n",
       "      <td>1080</td>\n",
       "      <td>DS2U</td>\n",
       "    </tr>\n",
       "    <tr>\n",
       "      <th>1</th>\n",
       "      <td>DS2U_DS1 iN</td>\n",
       "      <td>0</td>\n",
       "      <td>0</td>\n",
       "      <td>02</td>\n",
       "      <td>B02</td>\n",
       "      <td>02</td>\n",
       "      <td>02</td>\n",
       "      <td>plate4</td>\n",
       "      <td>2</td>\n",
       "      <td>5.0</td>\n",
       "      <td>...</td>\n",
       "      <td>file:///Z:/Kyra_Export_PB/USE_THESIS%20iN%20DS...</td>\n",
       "      <td>file:///Z:/Kyra_Export_PB/USE_THESIS%20iN%20DS...</td>\n",
       "      <td>file:///Z:/Kyra_Export_PB/USE_THESIS%20iN%20DS...</td>\n",
       "      <td>1080</td>\n",
       "      <td>1080</td>\n",
       "      <td>1080</td>\n",
       "      <td>1080</td>\n",
       "      <td>1080</td>\n",
       "      <td>1080</td>\n",
       "      <td>DS2U</td>\n",
       "    </tr>\n",
       "    <tr>\n",
       "      <th>2</th>\n",
       "      <td>DS2U_DS1 iN</td>\n",
       "      <td>0</td>\n",
       "      <td>0</td>\n",
       "      <td>07</td>\n",
       "      <td>B02</td>\n",
       "      <td>02</td>\n",
       "      <td>02</td>\n",
       "      <td>plate4</td>\n",
       "      <td>7</td>\n",
       "      <td>1.0</td>\n",
       "      <td>...</td>\n",
       "      <td>file:///Z:/Kyra_Export_PB/USE_THESIS%20iN%20DS...</td>\n",
       "      <td>file:///Z:/Kyra_Export_PB/USE_THESIS%20iN%20DS...</td>\n",
       "      <td>file:///Z:/Kyra_Export_PB/USE_THESIS%20iN%20DS...</td>\n",
       "      <td>1080</td>\n",
       "      <td>1080</td>\n",
       "      <td>1080</td>\n",
       "      <td>1080</td>\n",
       "      <td>1080</td>\n",
       "      <td>1080</td>\n",
       "      <td>DS2U</td>\n",
       "    </tr>\n",
       "    <tr>\n",
       "      <th>3</th>\n",
       "      <td>DS2U_DS1 iN</td>\n",
       "      <td>0</td>\n",
       "      <td>0</td>\n",
       "      <td>10</td>\n",
       "      <td>B02</td>\n",
       "      <td>02</td>\n",
       "      <td>02</td>\n",
       "      <td>plate4</td>\n",
       "      <td>10</td>\n",
       "      <td>9.0</td>\n",
       "      <td>...</td>\n",
       "      <td>file:///Z:/Kyra_Export_PB/USE_THESIS%20iN%20DS...</td>\n",
       "      <td>file:///Z:/Kyra_Export_PB/USE_THESIS%20iN%20DS...</td>\n",
       "      <td>file:///Z:/Kyra_Export_PB/USE_THESIS%20iN%20DS...</td>\n",
       "      <td>1080</td>\n",
       "      <td>1080</td>\n",
       "      <td>1080</td>\n",
       "      <td>1080</td>\n",
       "      <td>1080</td>\n",
       "      <td>1080</td>\n",
       "      <td>DS2U</td>\n",
       "    </tr>\n",
       "    <tr>\n",
       "      <th>4</th>\n",
       "      <td>DS2U_DS1 iN</td>\n",
       "      <td>0</td>\n",
       "      <td>0</td>\n",
       "      <td>12</td>\n",
       "      <td>B02</td>\n",
       "      <td>02</td>\n",
       "      <td>02</td>\n",
       "      <td>plate4</td>\n",
       "      <td>12</td>\n",
       "      <td>1.0</td>\n",
       "      <td>...</td>\n",
       "      <td>file:///Z:/Kyra_Export_PB/USE_THESIS%20iN%20DS...</td>\n",
       "      <td>file:///Z:/Kyra_Export_PB/USE_THESIS%20iN%20DS...</td>\n",
       "      <td>file:///Z:/Kyra_Export_PB/USE_THESIS%20iN%20DS...</td>\n",
       "      <td>1080</td>\n",
       "      <td>1080</td>\n",
       "      <td>1080</td>\n",
       "      <td>1080</td>\n",
       "      <td>1080</td>\n",
       "      <td>1080</td>\n",
       "      <td>DS2U</td>\n",
       "    </tr>\n",
       "  </tbody>\n",
       "</table>\n",
       "<p>5 rows × 1110 columns</p>\n",
       "</div>"
      ],
      "text/plain": [
       "  Image_Metadata_DiseaseGroup Image_Metadata_Frame Image_Metadata_Series  \\\n",
       "0                 DS2U_DS1 iN                    0                     0   \n",
       "1                 DS2U_DS1 iN                    0                     0   \n",
       "2                 DS2U_DS1 iN                    0                     0   \n",
       "3                 DS2U_DS1 iN                    0                     0   \n",
       "4                 DS2U_DS1 iN                    0                     0   \n",
       "\n",
       "  Image_Metadata_Site Image_Metadata_Well Image_Metadata_WellColumn  \\\n",
       "0                  01                 B02                        02   \n",
       "1                  02                 B02                        02   \n",
       "2                  07                 B02                        02   \n",
       "3                  10                 B02                        02   \n",
       "4                  12                 B02                        02   \n",
       "\n",
       "  Image_Metadata_WellRow Image_Metadata_Plate  ImageNumber  \\\n",
       "0                     02               plate4            1   \n",
       "1                     02               plate4            2   \n",
       "2                     02               plate4            7   \n",
       "3                     02               plate4           10   \n",
       "4                     02               plate4           12   \n",
       "\n",
       "   Cells_Number_Object_Number  ...  \\\n",
       "0                         2.0  ...   \n",
       "1                         5.0  ...   \n",
       "2                         1.0  ...   \n",
       "3                         9.0  ...   \n",
       "4                         1.0  ...   \n",
       "\n",
       "                                  Image_URL_Membrane  \\\n",
       "0  file:///Z:/Kyra_Export_PB/USE_THESIS%20iN%20DS...   \n",
       "1  file:///Z:/Kyra_Export_PB/USE_THESIS%20iN%20DS...   \n",
       "2  file:///Z:/Kyra_Export_PB/USE_THESIS%20iN%20DS...   \n",
       "3  file:///Z:/Kyra_Export_PB/USE_THESIS%20iN%20DS...   \n",
       "4  file:///Z:/Kyra_Export_PB/USE_THESIS%20iN%20DS...   \n",
       "\n",
       "                                      Image_URL_Mito  \\\n",
       "0  file:///Z:/Kyra_Export_PB/USE_THESIS%20iN%20DS...   \n",
       "1  file:///Z:/Kyra_Export_PB/USE_THESIS%20iN%20DS...   \n",
       "2  file:///Z:/Kyra_Export_PB/USE_THESIS%20iN%20DS...   \n",
       "3  file:///Z:/Kyra_Export_PB/USE_THESIS%20iN%20DS...   \n",
       "4  file:///Z:/Kyra_Export_PB/USE_THESIS%20iN%20DS...   \n",
       "\n",
       "                              Image_URL_RNA_nucleoli  Image_Width_Brightfield  \\\n",
       "0  file:///Z:/Kyra_Export_PB/USE_THESIS%20iN%20DS...                     1080   \n",
       "1  file:///Z:/Kyra_Export_PB/USE_THESIS%20iN%20DS...                     1080   \n",
       "2  file:///Z:/Kyra_Export_PB/USE_THESIS%20iN%20DS...                     1080   \n",
       "3  file:///Z:/Kyra_Export_PB/USE_THESIS%20iN%20DS...                     1080   \n",
       "4  file:///Z:/Kyra_Export_PB/USE_THESIS%20iN%20DS...                     1080   \n",
       "\n",
       "   Image_Width_DNA  Image_Width_ER  Image_Width_Membrane  Image_Width_Mito  \\\n",
       "0             1080            1080                  1080              1080   \n",
       "1             1080            1080                  1080              1080   \n",
       "2             1080            1080                  1080              1080   \n",
       "3             1080            1080                  1080              1080   \n",
       "4             1080            1080                  1080              1080   \n",
       "\n",
       "   Image_Width_RNA_nucleoli  Metadata_genotype  \n",
       "0                      1080               DS2U  \n",
       "1                      1080               DS2U  \n",
       "2                      1080               DS2U  \n",
       "3                      1080               DS2U  \n",
       "4                      1080               DS2U  \n",
       "\n",
       "[5 rows x 1110 columns]"
      ]
     },
     "execution_count": 565,
     "metadata": {},
     "output_type": "execute_result"
    }
   ],
   "source": [
    "columns = merged_df_dropped_empty.columns\n",
    "\n",
    "# Sort column names\n",
    "sorted_columns = sorted(columns, key=lambda x: x.startswith(\"Image_Metadata\"), reverse=True)\n",
    "\n",
    "# Create a new DataFrame with sorted columns\n",
    "sorted_df = merged_df_dropped_empty[sorted_columns]\n",
    "sorted_df.head()"
   ]
  },
  {
   "cell_type": "code",
   "execution_count": 566,
   "metadata": {},
   "outputs": [],
   "source": [
    "sorted_df.to_csv(f\"{inputDir}/sorted_df.csv\", index=False) "
   ]
  },
  {
   "cell_type": "code",
   "execution_count": 567,
   "metadata": {},
   "outputs": [
    {
     "data": {
      "text/plain": [
       "(543, 1110)"
      ]
     },
     "execution_count": 567,
     "metadata": {},
     "output_type": "execute_result"
    }
   ],
   "source": [
    "sorted_df.shape"
   ]
  },
  {
   "cell_type": "code",
   "execution_count": 568,
   "metadata": {},
   "outputs": [],
   "source": [
    "#delete the Image prefix in the columns.\n",
    "sorted_df.columns = [col.replace('Image_Metadata', 'Metadata') if 'Image_Metadata' in col else col for col in sorted_df.columns]\n",
    "sorted_df.to_csv(f\"{inputDir}/sorted_df.csv\", index=False) "
   ]
  },
  {
   "cell_type": "code",
   "execution_count": 569,
   "metadata": {},
   "outputs": [
    {
     "name": "stdout",
     "output_type": "stream",
     "text": [
      "10\n",
      "1010\n"
     ]
    }
   ],
   "source": [
    "# Extract column names with 'Metadata'\n",
    "# Extract column names with 'Metadata'\n",
    "metadata_columns = [col for col in sorted_df.columns if 'Metadata' in col]\n",
    "print(len(metadata_columns))\n",
    "\n",
    "# Extract column names with 'Cells', 'Nuclei', or 'Cytoplasm'\n",
    "cell_related_columns = [col for col in sorted_df.columns if any(keyword in col for keyword in ['Cells', 'Nuclei', 'Cytoplasm'])]\n",
    "print(len(cell_related_columns))\n",
    "\n"
   ]
  },
  {
   "cell_type": "code",
   "execution_count": 570,
   "metadata": {},
   "outputs": [],
   "source": [
    "\n",
    "# Extract column names with 'Image' prefix, excluding those already in cell_related_columns\n",
    "image_columns = [col for col in sorted_df.columns if col.startswith('Image') and col not in cell_related_columns and col not in metadata_columns]\n",
    "\n",
    "\n",
    "# Determine the remaining columns\n",
    "other_columns = [col for col in sorted_df.columns if col not in metadata_columns + cell_related_columns + image_columns]\n",
    "\n",
    "\n",
    "# Concatenate the column lists in the desired order\n",
    "sorted_columns_final = metadata_columns + other_columns + cell_related_columns + image_columns\n",
    "\n",
    "\n",
    "# Create a new DataFrame with the sorted columns\n",
    "sorted_df_final = sorted_df[sorted_columns_final]"
   ]
  },
  {
   "cell_type": "code",
   "execution_count": 571,
   "metadata": {},
   "outputs": [],
   "source": [
    "# Explicitly convert all non-metadata columns to float\n",
    "# in the original df ALL columns are of type object and that breaks pycytominer\n",
    "for col in sorted_df_final.columns:\n",
    "    if 'Nuclei' in col or 'Cells' in col or 'Cytoplasm' in col or 'ImageNumber' in col:\n",
    "        sorted_df_final[col] = sorted_df_final[col].astype(float)\n",
    "#print([df.dtypes])\n",
    "\n",
    "sorted_df_final.to_csv(f\"{inputDir}/sorted_df_final.csv\", index=False)\n"
   ]
  },
  {
   "cell_type": "code",
   "execution_count": 572,
   "metadata": {},
   "outputs": [
    {
     "name": "stdout",
     "output_type": "stream",
     "text": [
      "No duplicate columns found.\n"
     ]
    }
   ],
   "source": [
    "duplicated_columns = sorted_df_final[sorted_df_final.duplicated()]\n",
    "\n",
    "if len(duplicated_columns) > 0:\n",
    "    print(f\"Duplicate columns found: {', '.join(duplicated_columns)}\")\n",
    "else:\n",
    "    print(\"No duplicate columns found.\")"
   ]
  },
  {
   "cell_type": "code",
   "execution_count": 573,
   "metadata": {},
   "outputs": [],
   "source": [
    "# Define the substrings to replace\n",
    "substrings_to_replace = ['_Nuclei']\n",
    "replacement_substrings = ['_Nucle']\n",
    "\n",
    "# Replace substrings in column names\n",
    "sorted_df_final.columns = [col.replace(old, new) for col in sorted_df_final.columns for old, new in zip(substrings_to_replace, replacement_substrings)]\n"
   ]
  },
  {
   "cell_type": "code",
   "execution_count": 575,
   "metadata": {},
   "outputs": [],
   "source": [
    "# Define the substrings to replace\n",
    "substrings_to_replace = ['_Cells']\n",
    "replacement_substrings = ['_Cell']\n",
    "\n",
    "# Replace substrings in column names\n",
    "sorted_df_final.columns = [col.replace(old, new) for col in sorted_df_final.columns for old, new in zip(substrings_to_replace, replacement_substrings)]\n"
   ]
  },
  {
   "cell_type": "code",
   "execution_count": 576,
   "metadata": {},
   "outputs": [],
   "source": [
    "# Define the substrings to replace\n",
    "substrings_to_replace = ['_Cytoplasm']\n",
    "replacement_substrings = ['_Cytoplas']\n",
    "\n",
    "# Replace substrings in column names\n",
    "sorted_df_final.columns = [col.replace(old, new) for col in sorted_df_final.columns for old, new in zip(substrings_to_replace, replacement_substrings)]\n"
   ]
  },
  {
   "cell_type": "code",
   "execution_count": 577,
   "metadata": {},
   "outputs": [],
   "source": [
    "# Filter columns that contain \"Nuclei,\" \"Cytoplasm,\" and \"Cells\"\n",
    "filtered_df = sorted_df_final.filter(like='Nuclei').join(sorted_df_final.filter(like='Cytoplasm')).join(sorted_df_final.filter(like='Cells'))\n",
    "filtered_df.to_csv(f\"{inputDir}/filtered_df.csv\", index=False)"
   ]
  },
  {
   "cell_type": "code",
   "execution_count": 578,
   "metadata": {},
   "outputs": [],
   "source": [
    "#Save the columns discarded in other dataframe\n",
    "\n",
    "\n",
    "# Get column names that start with \"Metadata_\"\n",
    "metadata_column_names = [col for col in sorted_df_final.columns if col.startswith('Metadata_')]\n",
    "\n",
    "# Create a new DataFrame with the filtered columns\n",
    "Columns_metadata = sorted_df_final[metadata_column_names]\n",
    "Columns_metadata.to_csv(f\"{inputDir}/Columns_metadata.csv\", index=False)\n"
   ]
  },
  {
   "cell_type": "code",
   "execution_count": 579,
   "metadata": {},
   "outputs": [],
   "source": [
    "# Define the aggregation functions\n",
    "aggregations = {\n",
    "    'Metadata_Well': 'first',  # Take the first value as it's the same for each group\n",
    "    **{col: ['mean', 'median', 'std', 'min', 'max'] for col in filtered_df.columns}\n",
    "}\n",
    "# Group by \"Metadata_ImageNumber\" and aggregate the statistics for columns with the specified prefix\n",
    "# The .agg (aggregate) method applies the listed operations to all values grouped by ImageNumber\n",
    "well_agg_df = sorted_df_final.groupby(['Metadata_Well','Metadata_genotype'], sort=False).agg(aggregations)"
   ]
  },
  {
   "cell_type": "code",
   "execution_count": 580,
   "metadata": {},
   "outputs": [
    {
     "name": "stderr",
     "output_type": "stream",
     "text": [
      "/var/folders/mm/mp46tk592c10r7w5n0vwcclc0000gq/T/ipykernel_64893/292143542.py:5: PerformanceWarning: DataFrame is highly fragmented.  This is usually the result of calling `frame.insert` many times, which has poor performance.  Consider joining all columns at once using pd.concat(axis=1) instead. To get a de-fragmented frame, use `newframe = frame.copy()`\n",
      "  well_agg_df.reset_index(inplace=True)\n",
      "/var/folders/mm/mp46tk592c10r7w5n0vwcclc0000gq/T/ipykernel_64893/292143542.py:5: PerformanceWarning: DataFrame is highly fragmented.  This is usually the result of calling `frame.insert` many times, which has poor performance.  Consider joining all columns at once using pd.concat(axis=1) instead. To get a de-fragmented frame, use `newframe = frame.copy()`\n",
      "  well_agg_df.reset_index(inplace=True)\n"
     ]
    }
   ],
   "source": [
    "# Flatten MultiIndex columns\n",
    "well_agg_df.columns = well_agg_df.columns.map('_'.join)\n",
    "\n",
    "# Reset index to move 'Metadata_ImageNumber' to a regular column\n",
    "well_agg_df.reset_index(inplace=True)"
   ]
  },
  {
   "cell_type": "code",
   "execution_count": 581,
   "metadata": {},
   "outputs": [],
   "source": [
    "well_agg_df.head()\n",
    "well_agg_df.to_csv(f\"{inputDir}/well_agg_df.csv\", index=False)"
   ]
  },
  {
   "cell_type": "code",
   "execution_count": 598,
   "metadata": {},
   "outputs": [],
   "source": [
    "well_agg_df = pd.read_csv(\"/Users/llanos/Documents/GitHub/Kyra_project/Batch3/well_agg_df.csv\")"
   ]
  },
  {
   "cell_type": "code",
   "execution_count": 599,
   "metadata": {},
   "outputs": [
    {
     "data": {
      "text/plain": [
       "(20, 4663)"
      ]
     },
     "execution_count": 599,
     "metadata": {},
     "output_type": "execute_result"
    }
   ],
   "source": [
    "pycytominer.normalize(\n",
    "    profiles=well_agg_df,    #the dataframe containing the CellProfiler features\n",
    "    #features=feature_cols,   #list of features to normalize; if \"infer\", anything starting with 'Cells', 'Nuclei' or 'Cytoplasm'\n",
    "    #meta_features=metadata_cols,   #list of metadata columns; if \"infer\" (default), any column starting with 'Metadata_'\n",
    "    image_features=False,  #Whether the profiles contain image features\n",
    "    samples=\"Metadata_genotype=='WCB'\",     #The metadata column values to use as a normalization reference. Defaults to \"all\".\n",
    "    method=\"mad_robustize\",    #How to normalize the dataframe. Defaults to \"standardize\". \"mad_robustize\" is used in the profiling recipe by default\n",
    "    mad_robustize_epsilon=0, # The mad_robustize fudge factor parameter. Set this to 0 if mad_robustize generates features with large values.\n",
    "    output_file=f\"{inputDir}/data_normalized_WC.csv\" \n",
    ")\n",
    "df_norm = pd.read_csv(f\"{inputDir}/data_normalized_WC.csv\")\n",
    "df_norm.shape"
   ]
  },
  {
   "attachments": {},
   "cell_type": "markdown",
   "metadata": {},
   "source": [
    "CONCATENATE BEFORE FUTURE SELECT:\n",
    "\n"
   ]
  },
  {
   "cell_type": "code",
   "execution_count": 600,
   "metadata": {},
   "outputs": [],
   "source": [
    "df_norm_DS = pd.read_csv(f\"{inputDir}/data_normalized.csv\")\n"
   ]
  },
  {
   "cell_type": "code",
   "execution_count": 602,
   "metadata": {},
   "outputs": [
    {
     "data": {
      "text/plain": [
       "(20, 4663)"
      ]
     },
     "execution_count": 602,
     "metadata": {},
     "output_type": "execute_result"
    }
   ],
   "source": [
    "df_norm_DS.shape"
   ]
  },
  {
   "cell_type": "code",
   "execution_count": 603,
   "metadata": {},
   "outputs": [
    {
     "data": {
      "text/plain": [
       "(20, 4663)"
      ]
     },
     "execution_count": 603,
     "metadata": {},
     "output_type": "execute_result"
    }
   ],
   "source": [
    "df_norm.shape"
   ]
  },
  {
   "cell_type": "code",
   "execution_count": 604,
   "metadata": {},
   "outputs": [],
   "source": [
    "#Concatenate plates\n",
    "\n",
    "df_norm_WC_DS = pd.concat([df_norm, df_norm_DS], ignore_index=True)"
   ]
  },
  {
   "cell_type": "code",
   "execution_count": 605,
   "metadata": {},
   "outputs": [
    {
     "data": {
      "text/plain": [
       "(40, 4663)"
      ]
     },
     "execution_count": 605,
     "metadata": {},
     "output_type": "execute_result"
    }
   ],
   "source": [
    "df_norm_WC_DS.shape"
   ]
  },
  {
   "cell_type": "code",
   "execution_count": 606,
   "metadata": {},
   "outputs": [
    {
     "data": {
      "text/plain": [
       "(40, 1439)"
      ]
     },
     "execution_count": 606,
     "metadata": {},
     "output_type": "execute_result"
    }
   ],
   "source": [
    "pycytominer.feature_select(\n",
    "    profiles=df_norm_WC_DS,\n",
    "    #features=feature_cols,   #list of features to normalize; if \"infer\", anything starting with 'Cells', 'Nuclei' or 'Cytoplasm'\n",
    "    image_features=False,  #Whether the profiles contain image features\n",
    "    operation=['variance_threshold','correlation_threshold', 'drop_na_columns', 'blocklist', 'drop_outliers'],   #add outlier removal to get rid of \n",
    "    outlier_cutoff=500, #500 is the default\n",
    "    output_file=f\"{inputDir}/data_normalized_featureSelected_WC_DS_bygenotype.csv\", \n",
    "    samples='all', #Samples to provide operation on.Str or list. Defaults to 'all' ...I don't get it\n",
    ")\n",
    "df_ftsel_WC_DS = pd.read_csv(f\"{inputDir}/data_normalized_featureSelected_WC_DS_bygenotype.csv\")\n",
    "df_ftsel_WC_DS.shape"
   ]
  },
  {
   "cell_type": "code",
   "execution_count": 607,
   "metadata": {},
   "outputs": [],
   "source": [
    "df_ftsel_WC_DS.shape\n",
    "df_ftsel_WC_DS.to_csv(f\"{inputDir}/df_ftsel_WC_DS.csv\", index=False)\n"
   ]
  },
  {
   "cell_type": "code",
   "execution_count": 608,
   "metadata": {},
   "outputs": [],
   "source": [
    "# Reorder and transpose df for easier import into Morpheus\n",
    "df_ftsel_WC_DS = df_ftsel_WC_DS.T\n",
    "\n",
    "#save to final .csv\n",
    "# Index=True is necessary so that we save the row labels into the .csv\n",
    "df_ftsel_WC_DS.to_csv(f\"{inputDir}/data_forMorpheus_WC_DS_by_genotype.csv\",sep=',',encoding=\"utf-8\",header=False,index=True)"
   ]
  },
  {
   "attachments": {},
   "cell_type": "markdown",
   "metadata": {},
   "source": [
    "This table as a ID contain the ImageNumber"
   ]
  },
  {
   "attachments": {},
   "cell_type": "markdown",
   "metadata": {},
   "source": [
    "Read the table that contain Image data: MyExpt_Per_Image"
   ]
  },
  {
   "cell_type": "code",
   "execution_count": 5,
   "metadata": {},
   "outputs": [],
   "source": [
    "connection = sqlite3.connect(database_path)\n",
    "query = \"SELECT * FROM MyExpt_Per_Image\"\n",
    "data_frame_image = pd.read_sql(query, connection)\n",
    "#data_frame.columns\n",
    "data_frame_image.to_csv('/Users/llanos/Documents/GitHub/Kyra_project/Subset_PR/Subset_MyExpt_Per_Image.csv', index=False) \n",
    "\n"
   ]
  },
  {
   "cell_type": "code",
   "execution_count": 50,
   "metadata": {},
   "outputs": [
    {
     "data": {
      "text/html": [
       "<div>\n",
       "<style scoped>\n",
       "    .dataframe tbody tr th:only-of-type {\n",
       "        vertical-align: middle;\n",
       "    }\n",
       "\n",
       "    .dataframe tbody tr th {\n",
       "        vertical-align: top;\n",
       "    }\n",
       "\n",
       "    .dataframe thead th {\n",
       "        text-align: right;\n",
       "    }\n",
       "</style>\n",
       "<table border=\"1\" class=\"dataframe\">\n",
       "  <thead>\n",
       "    <tr style=\"text-align: right;\">\n",
       "      <th></th>\n",
       "      <th>ImageNumber</th>\n",
       "      <th>Image_Count_Cells</th>\n",
       "      <th>Image_Count_CellsPR_Related</th>\n",
       "      <th>Image_Count_CellsPR_filtered</th>\n",
       "      <th>Image_Count_Cells_PR1</th>\n",
       "      <th>Image_Count_Cytoplasm</th>\n",
       "      <th>Image_Count_Mitocondria_related</th>\n",
       "      <th>Image_Count_Mitocondria_segmented</th>\n",
       "      <th>Image_Count_Neurons</th>\n",
       "      <th>Image_Count_Neurons1</th>\n",
       "      <th>...</th>\n",
       "      <th>Image_URL_ER</th>\n",
       "      <th>Image_URL_Membrane</th>\n",
       "      <th>Image_URL_Mito</th>\n",
       "      <th>Image_URL_RNA_nucleoli</th>\n",
       "      <th>Image_Width_Brightfield</th>\n",
       "      <th>Image_Width_DNA</th>\n",
       "      <th>Image_Width_ER</th>\n",
       "      <th>Image_Width_Membrane</th>\n",
       "      <th>Image_Width_Mito</th>\n",
       "      <th>Image_Width_RNA_nucleoli</th>\n",
       "    </tr>\n",
       "  </thead>\n",
       "  <tbody>\n",
       "    <tr>\n",
       "      <th>0</th>\n",
       "      <td>1</td>\n",
       "      <td>11</td>\n",
       "      <td>11</td>\n",
       "      <td>11</td>\n",
       "      <td>11</td>\n",
       "      <td>11</td>\n",
       "      <td>3</td>\n",
       "      <td>3</td>\n",
       "      <td>0</td>\n",
       "      <td>0</td>\n",
       "      <td>...</td>\n",
       "      <td>file:/Users/llanos/Documents/Kyra_images/DS2U%...</td>\n",
       "      <td>file:/Users/llanos/Documents/Kyra_images/DS2U%...</td>\n",
       "      <td>file:/Users/llanos/Documents/Kyra_images/DS2U%...</td>\n",
       "      <td>file:/Users/llanos/Documents/Kyra_images/DS2U%...</td>\n",
       "      <td>1080</td>\n",
       "      <td>1080</td>\n",
       "      <td>1080</td>\n",
       "      <td>1080</td>\n",
       "      <td>1080</td>\n",
       "      <td>1080</td>\n",
       "    </tr>\n",
       "    <tr>\n",
       "      <th>1</th>\n",
       "      <td>2</td>\n",
       "      <td>14</td>\n",
       "      <td>14</td>\n",
       "      <td>14</td>\n",
       "      <td>14</td>\n",
       "      <td>14</td>\n",
       "      <td>72</td>\n",
       "      <td>72</td>\n",
       "      <td>0</td>\n",
       "      <td>0</td>\n",
       "      <td>...</td>\n",
       "      <td>file:/Users/llanos/Documents/Kyra_images/DS2U%...</td>\n",
       "      <td>file:/Users/llanos/Documents/Kyra_images/DS2U%...</td>\n",
       "      <td>file:/Users/llanos/Documents/Kyra_images/DS2U%...</td>\n",
       "      <td>file:/Users/llanos/Documents/Kyra_images/DS2U%...</td>\n",
       "      <td>1080</td>\n",
       "      <td>1080</td>\n",
       "      <td>1080</td>\n",
       "      <td>1080</td>\n",
       "      <td>1080</td>\n",
       "      <td>1080</td>\n",
       "    </tr>\n",
       "    <tr>\n",
       "      <th>2</th>\n",
       "      <td>3</td>\n",
       "      <td>3</td>\n",
       "      <td>2</td>\n",
       "      <td>2</td>\n",
       "      <td>2</td>\n",
       "      <td>3</td>\n",
       "      <td>0</td>\n",
       "      <td>0</td>\n",
       "      <td>1</td>\n",
       "      <td>1</td>\n",
       "      <td>...</td>\n",
       "      <td>file:/Users/llanos/Documents/Kyra_images/DS2U%...</td>\n",
       "      <td>file:/Users/llanos/Documents/Kyra_images/DS2U%...</td>\n",
       "      <td>file:/Users/llanos/Documents/Kyra_images/DS2U%...</td>\n",
       "      <td>file:/Users/llanos/Documents/Kyra_images/DS2U%...</td>\n",
       "      <td>1080</td>\n",
       "      <td>1080</td>\n",
       "      <td>1080</td>\n",
       "      <td>1080</td>\n",
       "      <td>1080</td>\n",
       "      <td>1080</td>\n",
       "    </tr>\n",
       "    <tr>\n",
       "      <th>3</th>\n",
       "      <td>4</td>\n",
       "      <td>14</td>\n",
       "      <td>13</td>\n",
       "      <td>13</td>\n",
       "      <td>13</td>\n",
       "      <td>14</td>\n",
       "      <td>10</td>\n",
       "      <td>10</td>\n",
       "      <td>1</td>\n",
       "      <td>1</td>\n",
       "      <td>...</td>\n",
       "      <td>file:/Users/llanos/Documents/Kyra_images/DS2U%...</td>\n",
       "      <td>file:/Users/llanos/Documents/Kyra_images/DS2U%...</td>\n",
       "      <td>file:/Users/llanos/Documents/Kyra_images/DS2U%...</td>\n",
       "      <td>file:/Users/llanos/Documents/Kyra_images/DS2U%...</td>\n",
       "      <td>1080</td>\n",
       "      <td>1080</td>\n",
       "      <td>1080</td>\n",
       "      <td>1080</td>\n",
       "      <td>1080</td>\n",
       "      <td>1080</td>\n",
       "    </tr>\n",
       "    <tr>\n",
       "      <th>4</th>\n",
       "      <td>5</td>\n",
       "      <td>15</td>\n",
       "      <td>14</td>\n",
       "      <td>14</td>\n",
       "      <td>14</td>\n",
       "      <td>15</td>\n",
       "      <td>19</td>\n",
       "      <td>19</td>\n",
       "      <td>1</td>\n",
       "      <td>1</td>\n",
       "      <td>...</td>\n",
       "      <td>file:/Users/llanos/Documents/Kyra_images/DS2U%...</td>\n",
       "      <td>file:/Users/llanos/Documents/Kyra_images/DS2U%...</td>\n",
       "      <td>file:/Users/llanos/Documents/Kyra_images/DS2U%...</td>\n",
       "      <td>file:/Users/llanos/Documents/Kyra_images/DS2U%...</td>\n",
       "      <td>1080</td>\n",
       "      <td>1080</td>\n",
       "      <td>1080</td>\n",
       "      <td>1080</td>\n",
       "      <td>1080</td>\n",
       "      <td>1080</td>\n",
       "    </tr>\n",
       "  </tbody>\n",
       "</table>\n",
       "<p>5 rows × 130 columns</p>\n",
       "</div>"
      ],
      "text/plain": [
       "   ImageNumber  Image_Count_Cells  Image_Count_CellsPR_Related  \\\n",
       "0            1                 11                           11   \n",
       "1            2                 14                           14   \n",
       "2            3                  3                            2   \n",
       "3            4                 14                           13   \n",
       "4            5                 15                           14   \n",
       "\n",
       "   Image_Count_CellsPR_filtered  Image_Count_Cells_PR1  Image_Count_Cytoplasm  \\\n",
       "0                            11                     11                     11   \n",
       "1                            14                     14                     14   \n",
       "2                             2                      2                      3   \n",
       "3                            13                     13                     14   \n",
       "4                            14                     14                     15   \n",
       "\n",
       "   Image_Count_Mitocondria_related  Image_Count_Mitocondria_segmented  \\\n",
       "0                                3                                  3   \n",
       "1                               72                                 72   \n",
       "2                                0                                  0   \n",
       "3                               10                                 10   \n",
       "4                               19                                 19   \n",
       "\n",
       "   Image_Count_Neurons  Image_Count_Neurons1  ...  \\\n",
       "0                    0                     0  ...   \n",
       "1                    0                     0  ...   \n",
       "2                    1                     1  ...   \n",
       "3                    1                     1  ...   \n",
       "4                    1                     1  ...   \n",
       "\n",
       "                                        Image_URL_ER  \\\n",
       "0  file:/Users/llanos/Documents/Kyra_images/DS2U%...   \n",
       "1  file:/Users/llanos/Documents/Kyra_images/DS2U%...   \n",
       "2  file:/Users/llanos/Documents/Kyra_images/DS2U%...   \n",
       "3  file:/Users/llanos/Documents/Kyra_images/DS2U%...   \n",
       "4  file:/Users/llanos/Documents/Kyra_images/DS2U%...   \n",
       "\n",
       "                                  Image_URL_Membrane  \\\n",
       "0  file:/Users/llanos/Documents/Kyra_images/DS2U%...   \n",
       "1  file:/Users/llanos/Documents/Kyra_images/DS2U%...   \n",
       "2  file:/Users/llanos/Documents/Kyra_images/DS2U%...   \n",
       "3  file:/Users/llanos/Documents/Kyra_images/DS2U%...   \n",
       "4  file:/Users/llanos/Documents/Kyra_images/DS2U%...   \n",
       "\n",
       "                                      Image_URL_Mito  \\\n",
       "0  file:/Users/llanos/Documents/Kyra_images/DS2U%...   \n",
       "1  file:/Users/llanos/Documents/Kyra_images/DS2U%...   \n",
       "2  file:/Users/llanos/Documents/Kyra_images/DS2U%...   \n",
       "3  file:/Users/llanos/Documents/Kyra_images/DS2U%...   \n",
       "4  file:/Users/llanos/Documents/Kyra_images/DS2U%...   \n",
       "\n",
       "                              Image_URL_RNA_nucleoli  Image_Width_Brightfield  \\\n",
       "0  file:/Users/llanos/Documents/Kyra_images/DS2U%...                     1080   \n",
       "1  file:/Users/llanos/Documents/Kyra_images/DS2U%...                     1080   \n",
       "2  file:/Users/llanos/Documents/Kyra_images/DS2U%...                     1080   \n",
       "3  file:/Users/llanos/Documents/Kyra_images/DS2U%...                     1080   \n",
       "4  file:/Users/llanos/Documents/Kyra_images/DS2U%...                     1080   \n",
       "\n",
       "   Image_Width_DNA  Image_Width_ER  Image_Width_Membrane  Image_Width_Mito  \\\n",
       "0             1080            1080                  1080              1080   \n",
       "1             1080            1080                  1080              1080   \n",
       "2             1080            1080                  1080              1080   \n",
       "3             1080            1080                  1080              1080   \n",
       "4             1080            1080                  1080              1080   \n",
       "\n",
       "   Image_Width_RNA_nucleoli  \n",
       "0                      1080  \n",
       "1                      1080  \n",
       "2                      1080  \n",
       "3                      1080  \n",
       "4                      1080  \n",
       "\n",
       "[5 rows x 130 columns]"
      ]
     },
     "execution_count": 50,
     "metadata": {},
     "output_type": "execute_result"
    }
   ],
   "source": [
    "data_frame_image.head()"
   ]
  },
  {
   "cell_type": "code",
   "execution_count": 7,
   "metadata": {},
   "outputs": [
    {
     "name": "stdout",
     "output_type": "stream",
     "text": [
      "(6, 395)\n",
      "(133, 1172)\n"
     ]
    }
   ],
   "source": [
    "print(data_frame_image.shape)\n",
    "print(data_frame_objects.shape)\n"
   ]
  },
  {
   "attachments": {},
   "cell_type": "markdown",
   "metadata": {},
   "source": [
    "Get the disease group and add as a column to the dataframe"
   ]
  },
  {
   "cell_type": "code",
   "execution_count": 18,
   "metadata": {},
   "outputs": [],
   "source": [
    "\n",
    "\n",
    "# Extract the desired part of the path and create a new column\n",
    "data_frame_image['Image_Metadata_Disease'] = data_frame_image['Image_PathName_Brightfield'].str.extract(r'\\\\([\\w\\s-]+)\\\\Images')\n"
   ]
  },
  {
   "attachments": {},
   "cell_type": "markdown",
   "metadata": {},
   "source": [
    "This table contain ImageNumber and Well as ID"
   ]
  },
  {
   "cell_type": "code",
   "execution_count": 19,
   "metadata": {},
   "outputs": [],
   "source": [
    "annotated_features = pd.merge(data_frame_image,data_frame_objects, on='ImageNumber', how='outer')\n",
    "annotated_features.head()\n",
    "\n",
    "#annotated_features = aggregated_features.merge(stripped_image_metadata, left_on=['Image_Metadata_Plate','Image_Metadata_Well'], right_on=['Image_Metadata_Plate_DAPI','Image_Metadata_Well_DAPI'], how='left')\n",
    "#annotated_features.columns = annotated_features.columns.str.replace(r'^Image_Metadata', 'Metadata', regex=True)\n",
    "#Replace \"Image in columns headers by \"Metadata\"\n",
    "annotated_features.rename(columns=lambda x: x.replace('Image', 'Metadata'), inplace=True)\n",
    "\n",
    "\n"
   ]
  },
  {
   "cell_type": "code",
   "execution_count": 55,
   "metadata": {},
   "outputs": [
    {
     "data": {
      "text/plain": [
       "(133, 1567)"
      ]
     },
     "execution_count": 55,
     "metadata": {},
     "output_type": "execute_result"
    }
   ],
   "source": [
    "#the number of columns is the sum between the two dataframe, the only column that was merged was ImageNumber\n",
    "annotated_features.shape"
   ]
  },
  {
   "cell_type": "code",
   "execution_count": 56,
   "metadata": {},
   "outputs": [],
   "source": [
    "annotated_features.to_csv('Subset_Neurons_database.csv', index=False) "
   ]
  },
  {
   "cell_type": "code",
   "execution_count": 57,
   "metadata": {},
   "outputs": [
    {
     "data": {
      "text/plain": [
       "(133, 1567)"
      ]
     },
     "execution_count": 57,
     "metadata": {},
     "output_type": "execute_result"
    }
   ],
   "source": [
    "annotated_features.shape"
   ]
  },
  {
   "cell_type": "code",
   "execution_count": 40,
   "metadata": {},
   "outputs": [
    {
     "name": "stdout",
     "output_type": "stream",
     "text": [
      "1\n",
      "Number of completely empty columns: 215\n",
      "Number of duplicated columns: 0\n"
     ]
    }
   ],
   "source": [
    "#SANITY CHECK\n",
    "unique_values_count = annotated_features['Metadata_Metadata_Well'].nunique()\n",
    "print(unique_values_count)\n",
    "\n",
    "\n",
    "# Check for completely empty columns\n",
    "empty_columns = annotated_features.columns[annotated_features.isnull().all()]\n",
    "\n",
    "# Count the number of completely empty columns\n",
    "num_empty_columns = len(empty_columns)\n",
    "print(\"Number of completely empty columns:\", num_empty_columns)\n",
    "duplicated_columns = annotated_features[annotated_features.duplicated()]\n",
    "\n",
    "# Count the occurrences of each duplicated column name\n",
    "column_duplicates_count = annotated_features.columns.duplicated().sum()\n",
    "\n",
    "#print(\"Duplicated columns:\", duplicated_columns.tolist())\n",
    "print(\"Number of duplicated columns:\", column_duplicates_count)\n"
   ]
  },
  {
   "cell_type": "code",
   "execution_count": 58,
   "metadata": {},
   "outputs": [],
   "source": [
    "annotated_features.shape\n",
    "# Select all numerical columns, including integers and floats\n",
    "numerical_metadata_cols = annotated_features.select_dtypes(include='number').columns.difference(['Metadata_Metadata_Well'])\n",
    "\n",
    "# Drop selected columns\n",
    "#numerical_df = annotated_features.drop(columns=numerical_metadata_cols)"
   ]
  },
  {
   "attachments": {},
   "cell_type": "markdown",
   "metadata": {},
   "source": []
  },
  {
   "cell_type": "code",
   "execution_count": 60,
   "metadata": {},
   "outputs": [],
   "source": [
    "# Using groupby and aggregate functions\n",
    "agg_funcs = {col: 'mean' for col in numerical_metadata_cols}\n",
    "aggregate = annotated_features.groupby('Metadata_Metadata_Well',as_index=False).agg({**agg_funcs, 'Metadata_Metadata_Well': 'first'}).reset_index()\n",
    "#aggregate_df = aggregate.mean().reset_index()"
   ]
  },
  {
   "cell_type": "code",
   "execution_count": 61,
   "metadata": {},
   "outputs": [
    {
     "data": {
      "text/html": [
       "<div>\n",
       "<style scoped>\n",
       "    .dataframe tbody tr th:only-of-type {\n",
       "        vertical-align: middle;\n",
       "    }\n",
       "\n",
       "    .dataframe tbody tr th {\n",
       "        vertical-align: top;\n",
       "    }\n",
       "\n",
       "    .dataframe thead th {\n",
       "        text-align: right;\n",
       "    }\n",
       "</style>\n",
       "<table border=\"1\" class=\"dataframe\">\n",
       "  <thead>\n",
       "    <tr style=\"text-align: right;\">\n",
       "      <th></th>\n",
       "      <th>index</th>\n",
       "      <th>CellsPR_Related_Location_Center_X</th>\n",
       "      <th>CellsPR_Related_Location_Center_Y</th>\n",
       "      <th>CellsPR_Related_Location_Center_Z</th>\n",
       "      <th>CellsPR_Related_Number_Object_Number</th>\n",
       "      <th>CellsPR_Related_Parent_CellsPR_filtered</th>\n",
       "      <th>CellsPR_filtered_AreaShape_Area</th>\n",
       "      <th>CellsPR_filtered_AreaShape_BoundingBoxArea</th>\n",
       "      <th>CellsPR_filtered_AreaShape_BoundingBoxMaximum_X</th>\n",
       "      <th>CellsPR_filtered_AreaShape_BoundingBoxMaximum_Y</th>\n",
       "      <th>...</th>\n",
       "      <th>Nucleoli_segmented_Location_MaxIntensity_Y_RNA_nucleoli</th>\n",
       "      <th>Nucleoli_segmented_Location_MaxIntensity_Z_DNA</th>\n",
       "      <th>Nucleoli_segmented_Location_MaxIntensity_Z_ER</th>\n",
       "      <th>Nucleoli_segmented_Location_MaxIntensity_Z_Membrane</th>\n",
       "      <th>Nucleoli_segmented_Location_MaxIntensity_Z_Mito</th>\n",
       "      <th>Nucleoli_segmented_Location_MaxIntensity_Z_RNA_nucleoli</th>\n",
       "      <th>Nucleoli_segmented_Number_Object_Number</th>\n",
       "      <th>Nucleoli_segmented_Parent_Nuclei</th>\n",
       "      <th>ObjectNumber</th>\n",
       "      <th>Metadata_Metadata_Well</th>\n",
       "    </tr>\n",
       "  </thead>\n",
       "  <tbody>\n",
       "    <tr>\n",
       "      <th>0</th>\n",
       "      <td>0</td>\n",
       "      <td>605.645825</td>\n",
       "      <td>453.024636</td>\n",
       "      <td>0.0</td>\n",
       "      <td>6.745455</td>\n",
       "      <td>6.745455</td>\n",
       "      <td>4153.509091</td>\n",
       "      <td>15600.236364</td>\n",
       "      <td>649.581818</td>\n",
       "      <td>502.0</td>\n",
       "      <td>...</td>\n",
       "      <td>454.556962</td>\n",
       "      <td>0.0</td>\n",
       "      <td>0.0</td>\n",
       "      <td>0.0</td>\n",
       "      <td>0.0</td>\n",
       "      <td>0.0</td>\n",
       "      <td>12.139241</td>\n",
       "      <td>7.35443</td>\n",
       "      <td>24.578947</td>\n",
       "      <td>F02</td>\n",
       "    </tr>\n",
       "  </tbody>\n",
       "</table>\n",
       "<p>1 rows × 1323 columns</p>\n",
       "</div>"
      ],
      "text/plain": [
       "   index  CellsPR_Related_Location_Center_X  \\\n",
       "0      0                         605.645825   \n",
       "\n",
       "   CellsPR_Related_Location_Center_Y  CellsPR_Related_Location_Center_Z  \\\n",
       "0                         453.024636                                0.0   \n",
       "\n",
       "   CellsPR_Related_Number_Object_Number  \\\n",
       "0                              6.745455   \n",
       "\n",
       "   CellsPR_Related_Parent_CellsPR_filtered  CellsPR_filtered_AreaShape_Area  \\\n",
       "0                                 6.745455                      4153.509091   \n",
       "\n",
       "   CellsPR_filtered_AreaShape_BoundingBoxArea  \\\n",
       "0                                15600.236364   \n",
       "\n",
       "   CellsPR_filtered_AreaShape_BoundingBoxMaximum_X  \\\n",
       "0                                       649.581818   \n",
       "\n",
       "   CellsPR_filtered_AreaShape_BoundingBoxMaximum_Y  ...  \\\n",
       "0                                            502.0  ...   \n",
       "\n",
       "   Nucleoli_segmented_Location_MaxIntensity_Y_RNA_nucleoli  \\\n",
       "0                                         454.556962         \n",
       "\n",
       "   Nucleoli_segmented_Location_MaxIntensity_Z_DNA  \\\n",
       "0                                             0.0   \n",
       "\n",
       "   Nucleoli_segmented_Location_MaxIntensity_Z_ER  \\\n",
       "0                                            0.0   \n",
       "\n",
       "   Nucleoli_segmented_Location_MaxIntensity_Z_Membrane  \\\n",
       "0                                                0.0     \n",
       "\n",
       "   Nucleoli_segmented_Location_MaxIntensity_Z_Mito  \\\n",
       "0                                              0.0   \n",
       "\n",
       "   Nucleoli_segmented_Location_MaxIntensity_Z_RNA_nucleoli  \\\n",
       "0                                                0.0         \n",
       "\n",
       "   Nucleoli_segmented_Number_Object_Number  Nucleoli_segmented_Parent_Nuclei  \\\n",
       "0                                12.139241                           7.35443   \n",
       "\n",
       "   ObjectNumber  Metadata_Metadata_Well  \n",
       "0     24.578947                     F02  \n",
       "\n",
       "[1 rows x 1323 columns]"
      ]
     },
     "execution_count": 61,
     "metadata": {},
     "output_type": "execute_result"
    }
   ],
   "source": [
    "aggregate.head(50)"
   ]
  },
  {
   "cell_type": "code",
   "execution_count": 63,
   "metadata": {},
   "outputs": [
    {
     "name": "stdout",
     "output_type": "stream",
     "text": [
      "(1, 1323)\n",
      "Dropped columns: ['Metadata_Intensity_StdIntensity_DNA_Nuclei', 'Metadata_Intensity_MeanIntensity_RNA_nucleoli_Cytoplasm', 'Metadata_Intensity_StdIntensity_Membrane_Nuclei', 'Metadata_Intensity_MaxIntensity_Membrane_Cytoplasm', 'Metadata_Intensity_StdIntensity_Mito_Nuclei', 'Metadata_Intensity_MinIntensity_Membrane_Nuclei', 'Metadata_Intensity_MeanIntensity_Membrane_Nuclei', 'Metadata_Intensity_MaxIntensity_Brightfield_Nuclei', 'Metadata_PathName_ER', 'Metadata_Intensity_TotalIntensity_RNA_nucleoli_Neurons_Related', 'Metadata_Intensity_TotalIntensity_ER_Cytoplasm', 'Metadata_Intensity_LowerQuartileIntensity_Brightfield_Nuclei', 'Metadata_Intensity_TotalIntensity_RNA_nucleoli_Cytoplasm', 'Metadata_Intensity_UpperQuartileIntensity_ER_Neurons_Related', 'Metadata_Intensity_MedianIntensity_ER_Cytoplasm', 'Metadata_URL_ER', 'Neurons2_Number_Object_Number', 'Metadata_Intensity_MaxIntensity_DNA_Neurons_Related', 'Metadata_MD5Digest_Brightfield', 'Metadata_Intensity_TotalIntensity_Membrane_Nuclei', 'Metadata_Intensity_UpperQuartileIntensity_RNA_nucleoli_Neurons_Rltd', 'Metadata_Intensity_MinIntensity_Brightfield_Neurons_Related', 'Metadata_Intensity_PercentMaximal_Membrane_Neurons_Related', 'Metadata_Intensity_TotalArea_DNA_Cytoplasm', 'Metadata_Intensity_MADIntensity_DNA_Nuclei', 'Metadata_Intensity_LowerQuartileIntensity_DNA_Nuclei', 'Neurons2_Location_Center_X', 'Metadata_Intensity_TotalIntensity_DNA_Cytoplasm', 'Metadata_Intensity_MeanIntensity_ER_Neurons_Related', 'Metadata_Intensity_MinIntensity_Membrane_Neurons_Related', 'Metadata_Intensity_TotalIntensity_Mito_Nuclei', 'Metadata_Metadata_WellRow', 'Metadata_Intensity_MedianIntensity_DNA_Nuclei', 'Metadata_Intensity_TotalArea_DNA_Nuclei', 'Metadata_FileName_Brightfield', 'Metadata_MD5Digest_ER', 'Metadata_Intensity_MADIntensity_Membrane_Nuclei', 'Metadata_Intensity_TotalArea_ER_Nuclei', 'Metadata_Intensity_LowerQuartileIntensity_Mito_Cytoplasm', 'Metadata_Intensity_TotalArea_RNA_nucleoli_Cytoplasm', 'Metadata_Intensity_TotalArea_RNA_nucleoli_Nuclei', 'Metadata_Intensity_MADIntensity_Mito_Neurons_Related', 'Metadata_Intensity_LowerQuartileIntensity_ER_Cytoplasm', 'Metadata_Intensity_PercentMaximal_Membrane_Cytoplasm', 'Metadata_Intensity_LowerQuartileIntensity_Membrane_Neurons_Related', 'Cells_AreaShape_NormalizedMoment_0_0', 'Metadata_Intensity_UpperQuartileIntensity_ER_Nuclei', 'Metadata_Intensity_MADIntensity_Mito_Cytoplasm', 'Metadata_Intensity_TotalArea_Membrane_Cytoplasm', 'Metadata_Intensity_PercentMaximal_Brightfield_Nuclei', 'Metadata_Intensity_MedianIntensity_Mito_Nuclei', 'Metadata_Intensity_UpperQuartileIntensity_Membrane_Cytoplasm', 'Metadata_Intensity_MedianIntensity_DNA_Neurons_Related', 'Metadata_Intensity_TotalIntensity_ER_Neurons_Related', 'Metadata_Intensity_MADIntensity_ER_Neurons_Related', 'Metadata_Intensity_PercentMaximal_Brightfield_Neurons_Related', 'Metadata_Intensity_UpperQuartileIntensity_Brightfield_Cytoplasm', 'Metadata_Intensity_MinIntensity_ER_Nuclei', 'Metadata_Intensity_LowerQuartileIntensity_Membrane_Nuclei', 'Metadata_Intensity_MeanIntensity_Brightfield_Neurons_Related', 'Metadata_Intensity_MeanIntensity_ER_Cytoplasm', 'Metadata_Intensity_LowerQuartileIntensity_Membrane_Cytoplasm', 'Metadata_Intensity_TotalIntensity_RNA_nucleoli_Nuclei', 'Metadata_Intensity_PercentMaximal_Brightfield_Cytoplasm', 'Metadata_PathName_DNA', 'Metadata_Intensity_TotalArea_Mito_Neurons_Related', 'Metadata_Intensity_TotalIntensity_Brightfield_Cytoplasm', 'Metadata_Intensity_TotalIntensity_Mito_Cytoplasm', 'Metadata_Intensity_StdIntensity_RNA_nucleoli_Neurons_Related', 'Metadata_Intensity_PercentMaximal_RNA_nucleoli_Nuclei', 'Metadata_Intensity_UpperQuartileIntensity_Membrane_Nuclei', 'Metadata_Intensity_LowerQuartileIntensity_Brightfield_Cytoplasm', 'Metadata_Intensity_MaxIntensity_ER_Cytoplasm', 'Metadata_Intensity_UpperQuartileIntensity_Mito_Nuclei', 'Metadata_Intensity_MinIntensity_DNA_Nuclei', 'Metadata_Intensity_TotalIntensity_Mito_Neurons_Related', 'Metadata_MD5Digest_Membrane', 'Metadata_Intensity_UpperQuartileIntensity_RNA_nucleoli_Nuclei', 'Metadata_URL_Brightfield', 'Metadata_Intensity_MADIntensity_Brightfield_Nuclei', 'Metadata_PathName_Mito', 'Metadata_Intensity_MaxIntensity_DNA_Cytoplasm', 'Metadata_Intensity_MedianIntensity_Membrane_Nuclei', 'Metadata_Intensity_MaxIntensity_Membrane_Neurons_Related', 'Metadata_Intensity_MinIntensity_RNA_nucleoli_Neurons_Related', 'Metadata_Intensity_PercentMaximal_ER_Cytoplasm', 'Metadata_Intensity_PercentMaximal_Mito_Nuclei', 'Metadata_Intensity_MeanIntensity_Mito_Nuclei', 'Metadata_URL_DNA', 'Metadata_Intensity_MaxIntensity_Mito_Nuclei', 'Metadata_Intensity_MeanIntensity_Membrane_Cytoplasm', 'Metadata_Intensity_StdIntensity_ER_Nuclei', 'Metadata_Intensity_PercentMaximal_DNA_Cytoplasm', 'Metadata_Intensity_MaxIntensity_RNA_nucleoli_Nuclei', 'Metadata_Intensity_MADIntensity_Membrane_Neurons_Related', 'Metadata_Metadata_Site', 'Metadata_Intensity_UpperQuartileIntensity_RNA_nucleoli_Cytoplasm', 'Metadata_Intensity_MaxIntensity_RNA_nucleoli_Neurons_Related', 'Metadata_Intensity_UpperQuartileIntensity_DNA_Cytoplasm', 'Metadata_Intensity_UpperQuartileIntensity_DNA_Neurons_Related', 'Metadata_Intensity_MedianIntensity_Mito_Cytoplasm', 'Metadata_Intensity_TotalArea_Brightfield_Cytoplasm', 'Metadata_Intensity_TotalIntensity_DNA_Nuclei', 'Metadata_Intensity_StdIntensity_ER_Neurons_Related', 'Metadata_Intensity_PercentMaximal_Membrane_Nuclei', 'Metadata_Intensity_MaxIntensity_Mito_Cytoplasm', 'Metadata_Intensity_MinIntensity_Brightfield_Cytoplasm', 'Metadata_Intensity_MaxIntensity_DNA_Nuclei', 'Nuclei_AreaShape_NormalizedMoment_0_1', 'Metadata_Intensity_StdIntensity_DNA_Neurons_Related', 'Metadata_Intensity_MADIntensity_Brightfield_Neurons_Related', 'Metadata_Intensity_MeanIntensity_RNA_nucleoli_Neurons_Related', 'Metadata_Metadata_Disease', 'Metadata_Intensity_TotalIntensity_DNA_Neurons_Related', 'Neurons2_Parent_Cells_PR1', 'Metadata_Intensity_MeanIntensity_Membrane_Neurons_Related', 'Metadata_Intensity_PercentMaximal_ER_Nuclei', 'Metadata_Intensity_MedianIntensity_Membrane_Cytoplasm', 'Metadata_Intensity_UpperQuartileIntensity_Brightfield_Nuclei', 'Metadata_Intensity_MaxIntensity_Mito_Neurons_Related', 'Metadata_Intensity_TotalArea_Mito_Cytoplasm', 'Metadata_Intensity_MeanIntensity_Mito_Cytoplasm', 'Metadata_Intensity_MaxIntensity_Brightfield_Cytoplasm', 'Metadata_Intensity_MinIntensity_Mito_Neurons_Related', 'Metadata_Intensity_LowerQuartileIntensity_ER_Nuclei', 'Metadata_Intensity_PercentMaximal_ER_Neurons_Related', 'Neurons2_Location_Center_Z', 'Metadata_Intensity_MedianIntensity_Mito_Neurons_Related', 'Metadata_Intensity_UpperQuartileIntensity_DNA_Nuclei', 'Metadata_Intensity_PercentMaximal_RNA_nucleoli_Cytoplasm', 'Metadata_Intensity_PercentMaximal_Mito_Cytoplasm', 'Metadata_Intensity_MedianIntensity_ER_Nuclei', 'Metadata_Intensity_TotalIntensity_Membrane_Cytoplasm', 'Metadata_Intensity_UpperQuartileIntensity_ER_Cytoplasm', 'Metadata_MD5Digest_Mito', 'Metadata_Metadata_WellColumn', 'Metadata_Intensity_LowerQuartileIntensity_DNA_Cytoplasm', 'Metadata_Intensity_UpperQuartileIntensity_Mito_Cytoplasm', 'Metadata_Intensity_TotalArea_Membrane_Nuclei', 'Metadata_PathName_Membrane', 'Metadata_Intensity_LowerQuartileIntensity_Brightfield_Neurons_Reltd', 'Metadata_Intensity_TotalArea_DNA_Neurons_Related', 'Metadata_Intensity_PercentMaximal_DNA_Nuclei', 'Metadata_FileName_Mito', 'Metadata_Intensity_TotalIntensity_ER_Nuclei', 'Metadata_Metadata_Frame', 'Metadata_Intensity_TotalArea_Mito_Nuclei', 'Metadata_Intensity_MeanIntensity_Mito_Neurons_Related', 'Metadata_Intensity_MinIntensity_Mito_Cytoplasm', 'Metadata_Intensity_MedianIntensity_Brightfield_Neurons_Related', 'Metadata_URL_RNA_nucleoli', 'Metadata_Intensity_TotalArea_ER_Neurons_Related', 'Metadata_Intensity_MeanIntensity_Brightfield_Nuclei', 'Metadata_Intensity_UpperQuartileIntensity_Mito_Neurons_Related', 'Metadata_Intensity_LowerQuartileIntensity_Mito_Neurons_Related', 'Metadata_Intensity_MADIntensity_RNA_nucleoli_Nuclei', 'Metadata_Intensity_MADIntensity_Brightfield_Cytoplasm', 'Metadata_Intensity_LowerQuartileIntensity_RNA_nucleoli_Neurons_Rltd', 'Metadata_FileName_RNA_nucleoli', 'Nuclei_AreaShape_NormalizedMoment_0_0', 'Nuclei_AreaShape_NormalizedMoment_1_0', 'Metadata_Intensity_PercentMaximal_Mito_Neurons_Related', 'Metadata_Intensity_MedianIntensity_Membrane_Neurons_Related', 'Metadata_Intensity_TotalIntensity_Brightfield_Neurons_Related', 'Metadata_Intensity_MinIntensity_RNA_nucleoli_Nuclei', 'Metadata_Intensity_MinIntensity_ER_Cytoplasm', 'Cells_PR1_AreaShape_NormalizedMoment_0_1', 'Metadata_FileName_ER', 'Metadata_Intensity_TotalArea_Brightfield_Nuclei', 'Metadata_Intensity_PercentMaximal_RNA_nucleoli_Neurons_Related', 'Cells_PR1_AreaShape_NormalizedMoment_1_0', 'Metadata_Intensity_MedianIntensity_Brightfield_Nuclei', 'Metadata_Intensity_MeanIntensity_RNA_nucleoli_Nuclei', 'Neurons2_Location_Center_Y', 'Metadata_FileName_DNA', 'Metadata_Intensity_TotalIntensity_Membrane_Neurons_Related', 'Metadata_Intensity_MaxIntensity_ER_Neurons_Related', 'Metadata_Intensity_MeanIntensity_DNA_Cytoplasm', 'Metadata_MD5Digest_RNA_nucleoli', 'Metadata_Intensity_MedianIntensity_RNA_nucleoli_Neurons_Related', 'Metadata_PathName_Brightfield', 'Metadata_Metadata_ChannelNumber', 'Metadata_Metadata_Series', 'Metadata_Intensity_MinIntensity_DNA_Neurons_Related', 'Metadata_Intensity_MinIntensity_RNA_nucleoli_Cytoplasm', 'Metadata_Intensity_MADIntensity_DNA_Neurons_Related', 'Metadata_Intensity_StdIntensity_RNA_nucleoli_Cytoplasm', 'Metadata_Intensity_MaxIntensity_Brightfield_Neurons_Related', 'Metadata_Intensity_MinIntensity_Brightfield_Nuclei', 'Metadata_Intensity_MedianIntensity_Brightfield_Cytoplasm', 'Metadata_Intensity_MaxIntensity_Membrane_Nuclei', 'Metadata_Intensity_MADIntensity_Membrane_Cytoplasm', 'Metadata_Intensity_MADIntensity_DNA_Cytoplasm', 'Metadata_Intensity_MADIntensity_Mito_Nuclei', 'Metadata_Intensity_UpperQuartileIntensity_Brightfield_Neurons_Reltd', 'Metadata_Metadata_FileLocation', 'Metadata_Intensity_UpperQuartileIntensity_Membrane_Neurons_Related', 'Metadata_Intensity_TotalArea_RNA_nucleoli_Neurons_Related', 'Metadata_Intensity_MedianIntensity_RNA_nucleoli_Cytoplasm', 'Metadata_Intensity_MedianIntensity_RNA_nucleoli_Nuclei', 'Metadata_Intensity_StdIntensity_Brightfield_Nuclei', 'Metadata_MD5Digest_DNA', 'Metadata_Intensity_StdIntensity_Mito_Cytoplasm', 'Metadata_Intensity_LowerQuartileIntensity_RNA_nucleoli_Cytoplasm', 'Metadata_Intensity_LowerQuartileIntensity_RNA_nucleoli_Nuclei', 'Cells_AreaShape_NormalizedMoment_0_1', 'Metadata_Intensity_TotalArea_Brightfield_Neurons_Related', 'Metadata_Intensity_MeanIntensity_ER_Nuclei', 'Metadata_Intensity_MaxIntensity_ER_Nuclei', 'Metadata_Intensity_MinIntensity_ER_Neurons_Related', 'Metadata_Intensity_MADIntensity_ER_Cytoplasm', 'Metadata_Intensity_MinIntensity_Mito_Nuclei', 'Cells_PR1_AreaShape_NormalizedMoment_0_0', 'Metadata_Intensity_StdIntensity_RNA_nucleoli_Nuclei', 'Metadata_Intensity_MinIntensity_DNA_Cytoplasm', 'Metadata_PathName_RNA_nucleoli', 'Metadata_Metadata_Disease_Group', 'Metadata_Intensity_MADIntensity_RNA_nucleoli_Neurons_Related', 'Metadata_Intensity_StdIntensity_Brightfield_Neurons_Related', 'Metadata_Intensity_MedianIntensity_ER_Neurons_Related', 'Metadata_URL_Mito', 'Metadata_Intensity_MeanIntensity_DNA_Neurons_Related', 'Metadata_Intensity_TotalArea_Membrane_Neurons_Related', 'Metadata_Intensity_MaxIntensity_RNA_nucleoli_Cytoplasm', 'Metadata_Intensity_PercentMaximal_DNA_Neurons_Related', 'Metadata_Intensity_LowerQuartileIntensity_DNA_Neurons_Related', 'Metadata_Intensity_StdIntensity_DNA_Cytoplasm', 'Cells_AreaShape_NormalizedMoment_1_0', 'Metadata_Intensity_StdIntensity_Mito_Neurons_Related', 'Metadata_Intensity_MeanIntensity_Brightfield_Cytoplasm', 'Metadata_Intensity_MeanIntensity_DNA_Nuclei', 'Metadata_Intensity_LowerQuartileIntensity_ER_Neurons_Related', 'Metadata_Intensity_StdIntensity_ER_Cytoplasm', 'Metadata_Intensity_TotalArea_ER_Cytoplasm', 'Metadata_URL_Membrane', 'Metadata_Intensity_TotalIntensity_Brightfield_Nuclei', 'Metadata_Intensity_MedianIntensity_DNA_Cytoplasm', 'Metadata_Intensity_StdIntensity_Membrane_Cytoplasm', 'Metadata_Intensity_StdIntensity_Membrane_Neurons_Related', 'Metadata_Intensity_LowerQuartileIntensity_Mito_Nuclei', 'Metadata_FileName_Membrane', 'Metadata_Intensity_MADIntensity_ER_Nuclei', 'Metadata_Intensity_StdIntensity_Brightfield_Cytoplasm', 'Metadata_Intensity_MADIntensity_RNA_nucleoli_Cytoplasm', 'Metadata_Intensity_MinIntensity_Membrane_Cytoplasm']\n"
     ]
    }
   ],
   "source": [
    "\n",
    "\n",
    "\n",
    "print(aggregate.shape)\n",
    "\n",
    "# Get the names of dropped columns\n",
    "dropped_columns = list(set(annotated_features.columns) - set(aggregate.columns))\n",
    "\n",
    "print(\"Dropped columns:\", dropped_columns)"
   ]
  },
  {
   "cell_type": "code",
   "execution_count": 64,
   "metadata": {},
   "outputs": [],
   "source": [
    "#Generating Backend file\n",
    "\n",
    "#add column \"Metadata_Plate\"\n",
    "aggregate.insert(0, 'Metadata_Plate', 'plate1')\n"
   ]
  },
  {
   "cell_type": "code",
   "execution_count": 65,
   "metadata": {},
   "outputs": [],
   "source": [
    "#SAVING THE FILE: THIS IS THE BACKEND FILE\n",
    "aggregate.to_csv('/Users/llanos/Documents/GitHub/Kyra_project/Subset_PR/Subset_Neurons_database_aggregated.csv', index=False) "
   ]
  },
  {
   "cell_type": "code",
   "execution_count": 64,
   "metadata": {},
   "outputs": [
    {
     "name": "stdout",
     "output_type": "stream",
     "text": [
      "['Image_Metadata_Well', 'Image_ExecutionTime_02Metadata']\n",
      "['index', 'ImageNumber', 'ObjectNumber', 'Cells_Number_Object_Number', 'Cells_AreaShape_Area', 'Cells_AreaShape_BoundingBoxArea', 'Cells_AreaShape_BoundingBoxMaximum_X', 'Cells_AreaShape_BoundingBoxMaximum_Y', 'Cells_AreaShape_BoundingBoxMinimum_X', 'Cells_AreaShape_BoundingBoxMinimum_Y', 'Cells_AreaShape_Center_X', 'Cells_AreaShape_Center_Y', 'Cells_AreaShape_CentralMoment_0_0', 'Cells_AreaShape_CentralMoment_0_1', 'Cells_AreaShape_CentralMoment_0_2', 'Cells_AreaShape_CentralMoment_0_3', 'Cells_AreaShape_CentralMoment_1_0', 'Cells_AreaShape_CentralMoment_1_1', 'Cells_AreaShape_CentralMoment_1_2', 'Cells_AreaShape_CentralMoment_1_3', 'Cells_AreaShape_CentralMoment_2_0', 'Cells_AreaShape_CentralMoment_2_1', 'Cells_AreaShape_CentralMoment_2_2', 'Cells_AreaShape_CentralMoment_2_3', 'Cells_AreaShape_Compactness', 'Cells_AreaShape_ConvexArea', 'Cells_AreaShape_Eccentricity', 'Cells_AreaShape_EquivalentDiameter', 'Cells_AreaShape_EulerNumber', 'Cells_AreaShape_Extent', 'Cells_AreaShape_FormFactor', 'Cells_AreaShape_HuMoment_0', 'Cells_AreaShape_HuMoment_1', 'Cells_AreaShape_HuMoment_2', 'Cells_AreaShape_HuMoment_3', 'Cells_AreaShape_HuMoment_4', 'Cells_AreaShape_HuMoment_5', 'Cells_AreaShape_HuMoment_6', 'Cells_AreaShape_InertiaTensorEigenvalues_0', 'Cells_AreaShape_InertiaTensorEigenvalues_1', 'Cells_AreaShape_InertiaTensor_0_0', 'Cells_AreaShape_InertiaTensor_0_1', 'Cells_AreaShape_InertiaTensor_1_0', 'Cells_AreaShape_InertiaTensor_1_1', 'Cells_AreaShape_MajorAxisLength', 'Cells_AreaShape_MaxFeretDiameter', 'Cells_AreaShape_MaximumRadius', 'Cells_AreaShape_MeanRadius', 'Cells_AreaShape_MedianRadius', 'Cells_AreaShape_MinFeretDiameter', 'Cells_AreaShape_MinorAxisLength', 'Cells_AreaShape_NormalizedMoment_0_2', 'Cells_AreaShape_NormalizedMoment_0_3', 'Cells_AreaShape_NormalizedMoment_1_1', 'Cells_AreaShape_NormalizedMoment_1_2', 'Cells_AreaShape_NormalizedMoment_1_3', 'Cells_AreaShape_NormalizedMoment_2_0', 'Cells_AreaShape_NormalizedMoment_2_1', 'Cells_AreaShape_NormalizedMoment_2_2', 'Cells_AreaShape_NormalizedMoment_2_3', 'Cells_AreaShape_NormalizedMoment_3_0', 'Cells_AreaShape_NormalizedMoment_3_1', 'Cells_AreaShape_NormalizedMoment_3_2', 'Cells_AreaShape_NormalizedMoment_3_3', 'Cells_AreaShape_Orientation', 'Cells_AreaShape_Perimeter', 'Cells_AreaShape_Solidity', 'Cells_AreaShape_SpatialMoment_0_0', 'Cells_AreaShape_SpatialMoment_0_1', 'Cells_AreaShape_SpatialMoment_0_2', 'Cells_AreaShape_SpatialMoment_0_3', 'Cells_AreaShape_SpatialMoment_1_0', 'Cells_AreaShape_SpatialMoment_1_1', 'Cells_AreaShape_SpatialMoment_1_2', 'Cells_AreaShape_SpatialMoment_1_3', 'Cells_AreaShape_SpatialMoment_2_0', 'Cells_AreaShape_SpatialMoment_2_1', 'Cells_AreaShape_SpatialMoment_2_2', 'Cells_AreaShape_SpatialMoment_2_3', 'Cells_AreaShape_Zernike_0_0', 'Cells_AreaShape_Zernike_1_1', 'Cells_AreaShape_Zernike_2_0', 'Cells_AreaShape_Zernike_2_2', 'Cells_AreaShape_Zernike_3_1', 'Cells_AreaShape_Zernike_3_3', 'Cells_AreaShape_Zernike_4_0', 'Cells_AreaShape_Zernike_4_2', 'Cells_AreaShape_Zernike_4_4', 'Cells_AreaShape_Zernike_5_1', 'Cells_AreaShape_Zernike_5_3', 'Cells_AreaShape_Zernike_5_5', 'Cells_AreaShape_Zernike_6_0', 'Cells_AreaShape_Zernike_6_2', 'Cells_AreaShape_Zernike_6_4', 'Cells_AreaShape_Zernike_6_6', 'Cells_AreaShape_Zernike_7_1', 'Cells_AreaShape_Zernike_7_3', 'Cells_AreaShape_Zernike_7_5', 'Cells_AreaShape_Zernike_7_7', 'Cells_AreaShape_Zernike_8_0', 'Cells_AreaShape_Zernike_8_2', 'Cells_AreaShape_Zernike_8_4', 'Cells_AreaShape_Zernike_8_6', 'Cells_AreaShape_Zernike_8_8', 'Cells_AreaShape_Zernike_9_1', 'Cells_AreaShape_Zernike_9_3', 'Cells_AreaShape_Zernike_9_5', 'Cells_AreaShape_Zernike_9_7', 'Cells_AreaShape_Zernike_9_9', 'Cells_Children_CellsPR_filtered_Count', 'Cells_Children_Cells_PR1_Count', 'Cells_Children_Cytoplasm_Count', 'Cells_Children_Mitocondria_segmented_Count', 'Cells_Children_Neurons1_Count', 'Cells_Children_Neurons_Count', 'Cells_Location_Center_X', 'Cells_Location_Center_Y', 'Cells_Location_Center_Z', 'Cells_Math_area_ratio', 'Cells_Mean_CellsPR_filtered_Location_Center_X', 'Cells_Mean_CellsPR_filtered_Location_Center_Y', 'Cells_Mean_CellsPR_filtered_Location_Center_Z', 'Cells_Mean_CellsPR_filtered_Number_Object_Number', 'Cells_Mean_Mitocondria_segmented_Location_Center_X', 'Cells_Mean_Mitocondria_segmented_Location_Center_Y', 'Cells_Mean_Mitocondria_segmented_Location_Center_Z', 'Cells_Mean_Mitocondria_segmented_Number_Object_Number', 'Cells_Mean_Neurons_Location_Center_X', 'Cells_Mean_Neurons_Location_Center_Y', 'Cells_Mean_Neurons_Number_Object_Number', 'Cells_Parent_Nuclei', 'CellsPR_Related_Number_Object_Number', 'CellsPR_Related_Location_Center_X', 'CellsPR_Related_Location_Center_Y', 'CellsPR_Related_Location_Center_Z', 'CellsPR_Related_Parent_CellsPR_filtered', 'CellsPR_filtered_Number_Object_Number', 'CellsPR_filtered_AreaShape_Area', 'CellsPR_filtered_AreaShape_BoundingBoxArea', 'CellsPR_filtered_AreaShape_BoundingBoxMaximum_X', 'CellsPR_filtered_AreaShape_BoundingBoxMaximum_Y', 'CellsPR_filtered_AreaShape_BoundingBoxMinimum_X', 'CellsPR_filtered_AreaShape_BoundingBoxMinimum_Y', 'CellsPR_filtered_AreaShape_Center_X', 'CellsPR_filtered_AreaShape_Center_Y', 'CellsPR_filtered_AreaShape_Compactness', 'CellsPR_filtered_AreaShape_ConvexArea', 'CellsPR_filtered_AreaShape_Eccentricity', 'CellsPR_filtered_AreaShape_EquivalentDiameter', 'CellsPR_filtered_AreaShape_EulerNumber', 'CellsPR_filtered_AreaShape_Extent', 'CellsPR_filtered_AreaShape_FormFactor', 'CellsPR_filtered_AreaShape_MajorAxisLength', 'CellsPR_filtered_AreaShape_MaxFeretDiameter', 'CellsPR_filtered_AreaShape_MaximumRadius', 'CellsPR_filtered_AreaShape_MeanRadius', 'CellsPR_filtered_AreaShape_MedianRadius', 'CellsPR_filtered_AreaShape_MinFeretDiameter', 'CellsPR_filtered_AreaShape_MinorAxisLength', 'CellsPR_filtered_AreaShape_Orientation', 'CellsPR_filtered_AreaShape_Perimeter', 'CellsPR_filtered_AreaShape_Solidity', 'CellsPR_filtered_AreaShape_Zernike_0_0', 'CellsPR_filtered_AreaShape_Zernike_1_1', 'CellsPR_filtered_AreaShape_Zernike_2_0', 'CellsPR_filtered_AreaShape_Zernike_2_2', 'CellsPR_filtered_AreaShape_Zernike_3_1', 'CellsPR_filtered_AreaShape_Zernike_3_3', 'CellsPR_filtered_AreaShape_Zernike_4_0', 'CellsPR_filtered_AreaShape_Zernike_4_2', 'CellsPR_filtered_AreaShape_Zernike_4_4', 'CellsPR_filtered_AreaShape_Zernike_5_1', 'CellsPR_filtered_AreaShape_Zernike_5_3', 'CellsPR_filtered_AreaShape_Zernike_5_5', 'CellsPR_filtered_AreaShape_Zernike_6_0', 'CellsPR_filtered_AreaShape_Zernike_6_2', 'CellsPR_filtered_AreaShape_Zernike_6_4', 'CellsPR_filtered_AreaShape_Zernike_6_6', 'CellsPR_filtered_AreaShape_Zernike_7_1', 'CellsPR_filtered_AreaShape_Zernike_7_3', 'CellsPR_filtered_AreaShape_Zernike_7_5', 'CellsPR_filtered_AreaShape_Zernike_7_7', 'CellsPR_filtered_AreaShape_Zernike_8_0', 'CellsPR_filtered_AreaShape_Zernike_8_2', 'CellsPR_filtered_AreaShape_Zernike_8_4', 'CellsPR_filtered_AreaShape_Zernike_8_6', 'CellsPR_filtered_AreaShape_Zernike_8_8', 'CellsPR_filtered_AreaShape_Zernike_9_1', 'CellsPR_filtered_AreaShape_Zernike_9_3', 'CellsPR_filtered_AreaShape_Zernike_9_5', 'CellsPR_filtered_AreaShape_Zernike_9_7', 'CellsPR_filtered_AreaShape_Zernike_9_9', 'CellsPR_filtered_Children_CellsPR_Related_Count', 'CellsPR_filtered_Intensity_IntegratedIntensityEdge_DNA', 'CellsPR_filtered_Intensity_IntegratedIntensityEdge_ER', 'CellsPR_filtered_Intensity_IntegratedIntensityEdge_Membrane', 'CellsPR_filtered_Intensity_IntegratedIntensityEdge_Mito', 'CellsPR_filtered_Intensity_IntegratedIntensityEdge_RNA_nucleoli', 'CellsPR_filtered_Intensity_IntegratedIntensity_DNA', 'CellsPR_filtered_Intensity_IntegratedIntensity_ER', 'CellsPR_filtered_Intensity_IntegratedIntensity_Membrane', 'CellsPR_filtered_Intensity_IntegratedIntensity_Mito', 'CellsPR_filtered_Intensity_IntegratedIntensity_RNA_nucleoli', 'CellsPR_filtered_Intensity_LowerQuartileIntensity_DNA', 'CellsPR_filtered_Intensity_LowerQuartileIntensity_ER', 'CellsPR_filtered_Intensity_LowerQuartileIntensity_Membrane', 'CellsPR_filtered_Intensity_LowerQuartileIntensity_Mito', 'CellsPR_filtered_Intensity_LowerQuartileIntensity_RNA_nucleoli', 'CellsPR_filtered_Intensity_MADIntensity_DNA', 'CellsPR_filtered_Intensity_MADIntensity_ER', 'CellsPR_filtered_Intensity_MADIntensity_Membrane', 'CellsPR_filtered_Intensity_MADIntensity_Mito', 'CellsPR_filtered_Intensity_MADIntensity_RNA_nucleoli', 'CellsPR_filtered_Intensity_MassDisplacement_DNA', 'CellsPR_filtered_Intensity_MassDisplacement_ER', 'CellsPR_filtered_Intensity_MassDisplacement_Membrane', 'CellsPR_filtered_Intensity_MassDisplacement_Mito', 'CellsPR_filtered_Intensity_MassDisplacement_RNA_nucleoli', 'CellsPR_filtered_Intensity_MaxIntensityEdge_DNA', 'CellsPR_filtered_Intensity_MaxIntensityEdge_ER', 'CellsPR_filtered_Intensity_MaxIntensityEdge_Membrane', 'CellsPR_filtered_Intensity_MaxIntensityEdge_Mito', 'CellsPR_filtered_Intensity_MaxIntensityEdge_RNA_nucleoli', 'CellsPR_filtered_Intensity_MaxIntensity_DNA', 'CellsPR_filtered_Intensity_MaxIntensity_ER', 'CellsPR_filtered_Intensity_MaxIntensity_Membrane', 'CellsPR_filtered_Intensity_MaxIntensity_Mito', 'CellsPR_filtered_Intensity_MaxIntensity_RNA_nucleoli', 'CellsPR_filtered_Intensity_MeanIntensityEdge_DNA', 'CellsPR_filtered_Intensity_MeanIntensityEdge_ER', 'CellsPR_filtered_Intensity_MeanIntensityEdge_Membrane', 'CellsPR_filtered_Intensity_MeanIntensityEdge_Mito', 'CellsPR_filtered_Intensity_MeanIntensityEdge_RNA_nucleoli', 'CellsPR_filtered_Intensity_MeanIntensity_DNA', 'CellsPR_filtered_Intensity_MeanIntensity_ER', 'CellsPR_filtered_Intensity_MeanIntensity_Membrane', 'CellsPR_filtered_Intensity_MeanIntensity_Mito', 'CellsPR_filtered_Intensity_MeanIntensity_RNA_nucleoli', 'CellsPR_filtered_Intensity_MedianIntensity_DNA', 'CellsPR_filtered_Intensity_MedianIntensity_ER', 'CellsPR_filtered_Intensity_MedianIntensity_Membrane', 'CellsPR_filtered_Intensity_MedianIntensity_Mito', 'CellsPR_filtered_Intensity_MedianIntensity_RNA_nucleoli', 'CellsPR_filtered_Intensity_MinIntensityEdge_DNA', 'CellsPR_filtered_Intensity_MinIntensityEdge_ER', 'CellsPR_filtered_Intensity_MinIntensityEdge_Membrane', 'CellsPR_filtered_Intensity_MinIntensityEdge_Mito', 'CellsPR_filtered_Intensity_MinIntensityEdge_RNA_nucleoli', 'CellsPR_filtered_Intensity_MinIntensity_DNA', 'CellsPR_filtered_Intensity_MinIntensity_ER', 'CellsPR_filtered_Intensity_MinIntensity_Membrane', 'CellsPR_filtered_Intensity_MinIntensity_Mito', 'CellsPR_filtered_Intensity_MinIntensity_RNA_nucleoli', 'CellsPR_filtered_Intensity_StdIntensityEdge_DNA', 'CellsPR_filtered_Intensity_StdIntensityEdge_ER', 'CellsPR_filtered_Intensity_StdIntensityEdge_Membrane', 'CellsPR_filtered_Intensity_StdIntensityEdge_Mito', 'CellsPR_filtered_Intensity_StdIntensityEdge_RNA_nucleoli', 'CellsPR_filtered_Intensity_StdIntensity_DNA', 'CellsPR_filtered_Intensity_StdIntensity_ER', 'CellsPR_filtered_Intensity_StdIntensity_Membrane', 'CellsPR_filtered_Intensity_StdIntensity_Mito', 'CellsPR_filtered_Intensity_StdIntensity_RNA_nucleoli', 'CellsPR_filtered_Intensity_UpperQuartileIntensity_DNA', 'CellsPR_filtered_Intensity_UpperQuartileIntensity_ER', 'CellsPR_filtered_Intensity_UpperQuartileIntensity_Membrane', 'CellsPR_filtered_Intensity_UpperQuartileIntensity_Mito', 'CellsPR_filtered_Intensity_UpperQuartileIntensity_RNA_nucleoli', 'CellsPR_filtered_Location_CenterMassIntensity_X_DNA', 'CellsPR_filtered_Location_CenterMassIntensity_X_ER', 'CellsPR_filtered_Location_CenterMassIntensity_X_Membrane', 'CellsPR_filtered_Location_CenterMassIntensity_X_Mito', 'CellsPR_filtered_Location_CenterMassIntensity_X_RNA_nucleoli', 'CellsPR_filtered_Location_CenterMassIntensity_Y_DNA', 'CellsPR_filtered_Location_CenterMassIntensity_Y_ER', 'CellsPR_filtered_Location_CenterMassIntensity_Y_Membrane', 'CellsPR_filtered_Location_CenterMassIntensity_Y_Mito', 'CellsPR_filtered_Location_CenterMassIntensity_Y_RNA_nucleoli', 'CellsPR_filtered_Location_CenterMassIntensity_Z_DNA', 'CellsPR_filtered_Location_CenterMassIntensity_Z_ER', 'CellsPR_filtered_Location_CenterMassIntensity_Z_Membrane', 'CellsPR_filtered_Location_CenterMassIntensity_Z_Mito', 'CellsPR_filtered_Location_CenterMassIntensity_Z_RNA_nucleoli', 'CellsPR_filtered_Location_Center_X', 'CellsPR_filtered_Location_Center_Y', 'CellsPR_filtered_Location_Center_Z', 'CellsPR_filtered_Location_MaxIntensity_X_DNA', 'CellsPR_filtered_Location_MaxIntensity_X_ER', 'CellsPR_filtered_Location_MaxIntensity_X_Membrane', 'CellsPR_filtered_Location_MaxIntensity_X_Mito', 'CellsPR_filtered_Location_MaxIntensity_X_RNA_nucleoli', 'CellsPR_filtered_Location_MaxIntensity_Y_DNA', 'CellsPR_filtered_Location_MaxIntensity_Y_ER', 'CellsPR_filtered_Location_MaxIntensity_Y_Membrane', 'CellsPR_filtered_Location_MaxIntensity_Y_Mito', 'CellsPR_filtered_Location_MaxIntensity_Y_RNA_nucleoli', 'CellsPR_filtered_Location_MaxIntensity_Z_DNA', 'CellsPR_filtered_Location_MaxIntensity_Z_ER', 'CellsPR_filtered_Location_MaxIntensity_Z_Membrane', 'CellsPR_filtered_Location_MaxIntensity_Z_Mito', 'CellsPR_filtered_Location_MaxIntensity_Z_RNA_nucleoli', 'CellsPR_filtered_Parent_Cells', 'CellsPR_filtered_Parent_Cells_PR1', 'Cells_PR1_Number_Object_Number', 'Cells_PR1_AreaShape_Area', 'Cells_PR1_AreaShape_BoundingBoxArea', 'Cells_PR1_AreaShape_BoundingBoxMaximum_X', 'Cells_PR1_AreaShape_BoundingBoxMaximum_Y', 'Cells_PR1_AreaShape_BoundingBoxMinimum_X', 'Cells_PR1_AreaShape_BoundingBoxMinimum_Y', 'Cells_PR1_AreaShape_Center_X', 'Cells_PR1_AreaShape_Center_Y', 'Cells_PR1_AreaShape_CentralMoment_0_0', 'Cells_PR1_AreaShape_CentralMoment_0_1', 'Cells_PR1_AreaShape_CentralMoment_0_2', 'Cells_PR1_AreaShape_CentralMoment_0_3', 'Cells_PR1_AreaShape_CentralMoment_1_0', 'Cells_PR1_AreaShape_CentralMoment_1_1', 'Cells_PR1_AreaShape_CentralMoment_1_2', 'Cells_PR1_AreaShape_CentralMoment_1_3', 'Cells_PR1_AreaShape_CentralMoment_2_0', 'Cells_PR1_AreaShape_CentralMoment_2_1', 'Cells_PR1_AreaShape_CentralMoment_2_2', 'Cells_PR1_AreaShape_CentralMoment_2_3', 'Cells_PR1_AreaShape_Compactness', 'Cells_PR1_AreaShape_ConvexArea', 'Cells_PR1_AreaShape_Eccentricity', 'Cells_PR1_AreaShape_EquivalentDiameter', 'Cells_PR1_AreaShape_EulerNumber', 'Cells_PR1_AreaShape_Extent', 'Cells_PR1_AreaShape_FormFactor', 'Cells_PR1_AreaShape_HuMoment_0', 'Cells_PR1_AreaShape_HuMoment_1', 'Cells_PR1_AreaShape_HuMoment_2', 'Cells_PR1_AreaShape_HuMoment_3', 'Cells_PR1_AreaShape_HuMoment_4', 'Cells_PR1_AreaShape_HuMoment_5', 'Cells_PR1_AreaShape_HuMoment_6', 'Cells_PR1_AreaShape_InertiaTensorEigenvalues_0', 'Cells_PR1_AreaShape_InertiaTensorEigenvalues_1', 'Cells_PR1_AreaShape_InertiaTensor_0_0', 'Cells_PR1_AreaShape_InertiaTensor_0_1', 'Cells_PR1_AreaShape_InertiaTensor_1_0', 'Cells_PR1_AreaShape_InertiaTensor_1_1', 'Cells_PR1_AreaShape_MajorAxisLength', 'Cells_PR1_AreaShape_MaxFeretDiameter', 'Cells_PR1_AreaShape_MaximumRadius', 'Cells_PR1_AreaShape_MeanRadius', 'Cells_PR1_AreaShape_MedianRadius', 'Cells_PR1_AreaShape_MinFeretDiameter', 'Cells_PR1_AreaShape_MinorAxisLength', 'Cells_PR1_AreaShape_NormalizedMoment_0_2', 'Cells_PR1_AreaShape_NormalizedMoment_0_3', 'Cells_PR1_AreaShape_NormalizedMoment_1_1', 'Cells_PR1_AreaShape_NormalizedMoment_1_2', 'Cells_PR1_AreaShape_NormalizedMoment_1_3', 'Cells_PR1_AreaShape_NormalizedMoment_2_0', 'Cells_PR1_AreaShape_NormalizedMoment_2_1', 'Cells_PR1_AreaShape_NormalizedMoment_2_2', 'Cells_PR1_AreaShape_NormalizedMoment_2_3', 'Cells_PR1_AreaShape_NormalizedMoment_3_0', 'Cells_PR1_AreaShape_NormalizedMoment_3_1', 'Cells_PR1_AreaShape_NormalizedMoment_3_2', 'Cells_PR1_AreaShape_NormalizedMoment_3_3', 'Cells_PR1_AreaShape_Orientation', 'Cells_PR1_AreaShape_Perimeter', 'Cells_PR1_AreaShape_Solidity', 'Cells_PR1_AreaShape_SpatialMoment_0_0', 'Cells_PR1_AreaShape_SpatialMoment_0_1', 'Cells_PR1_AreaShape_SpatialMoment_0_2', 'Cells_PR1_AreaShape_SpatialMoment_0_3', 'Cells_PR1_AreaShape_SpatialMoment_1_0', 'Cells_PR1_AreaShape_SpatialMoment_1_1', 'Cells_PR1_AreaShape_SpatialMoment_1_2', 'Cells_PR1_AreaShape_SpatialMoment_1_3', 'Cells_PR1_AreaShape_SpatialMoment_2_0', 'Cells_PR1_AreaShape_SpatialMoment_2_1', 'Cells_PR1_AreaShape_SpatialMoment_2_2', 'Cells_PR1_AreaShape_SpatialMoment_2_3', 'Cells_PR1_AreaShape_Zernike_0_0', 'Cells_PR1_AreaShape_Zernike_1_1', 'Cells_PR1_AreaShape_Zernike_2_0', 'Cells_PR1_AreaShape_Zernike_2_2', 'Cells_PR1_AreaShape_Zernike_3_1', 'Cells_PR1_AreaShape_Zernike_3_3', 'Cells_PR1_AreaShape_Zernike_4_0', 'Cells_PR1_AreaShape_Zernike_4_2', 'Cells_PR1_AreaShape_Zernike_4_4', 'Cells_PR1_AreaShape_Zernike_5_1', 'Cells_PR1_AreaShape_Zernike_5_3', 'Cells_PR1_AreaShape_Zernike_5_5', 'Cells_PR1_AreaShape_Zernike_6_0', 'Cells_PR1_AreaShape_Zernike_6_2', 'Cells_PR1_AreaShape_Zernike_6_4', 'Cells_PR1_AreaShape_Zernike_6_6', 'Cells_PR1_AreaShape_Zernike_7_1', 'Cells_PR1_AreaShape_Zernike_7_3', 'Cells_PR1_AreaShape_Zernike_7_5', 'Cells_PR1_AreaShape_Zernike_7_7', 'Cells_PR1_AreaShape_Zernike_8_0', 'Cells_PR1_AreaShape_Zernike_8_2', 'Cells_PR1_AreaShape_Zernike_8_4', 'Cells_PR1_AreaShape_Zernike_8_6', 'Cells_PR1_AreaShape_Zernike_8_8', 'Cells_PR1_AreaShape_Zernike_9_1', 'Cells_PR1_AreaShape_Zernike_9_3', 'Cells_PR1_AreaShape_Zernike_9_5', 'Cells_PR1_AreaShape_Zernike_9_7', 'Cells_PR1_AreaShape_Zernike_9_9', 'Cells_PR1_Children_CellsPR_filtered_Count', 'Cells_PR1_Children_Neurons2_Count', 'Cells_PR1_Location_Center_X', 'Cells_PR1_Location_Center_Y', 'Cells_PR1_Location_Center_Z', 'Cells_PR1_Parent_Cells', 'Cytoplasm_Number_Object_Number', 'Cytoplasm_Location_Center_X', 'Cytoplasm_Location_Center_Y', 'Cytoplasm_Parent_Cells', 'Cytoplasm_Parent_Nuclei', 'Mitocondria_related_Number_Object_Number', 'Mitocondria_related_Location_Center_X', 'Mitocondria_related_Location_Center_Y', 'Mitocondria_related_Location_Center_Z', 'Mitocondria_related_Parent_Mitocondria_segmented', 'Mitocondria_segmented_Number_Object_Number', 'Mitocondria_segmented_AreaShape_Area', 'Mitocondria_segmented_AreaShape_BoundingBoxArea', 'Mitocondria_segmented_AreaShape_BoundingBoxMaximum_X', 'Mitocondria_segmented_AreaShape_BoundingBoxMaximum_Y', 'Mitocondria_segmented_AreaShape_BoundingBoxMinimum_X', 'Mitocondria_segmented_AreaShape_BoundingBoxMinimum_Y', 'Mitocondria_segmented_AreaShape_Center_X', 'Mitocondria_segmented_AreaShape_Center_Y', 'Mitocondria_segmented_AreaShape_Compactness', 'Mitocondria_segmented_AreaShape_ConvexArea', 'Mitocondria_segmented_AreaShape_Eccentricity', 'Mitocondria_segmented_AreaShape_EquivalentDiameter', 'Mitocondria_segmented_AreaShape_EulerNumber', 'Mitocondria_segmented_AreaShape_Extent', 'Mitocondria_segmented_AreaShape_FormFactor', 'Mitocondria_segmented_AreaShape_MajorAxisLength', 'Mitocondria_segmented_AreaShape_MaxFeretDiameter', 'Mitocondria_segmented_AreaShape_MaximumRadius', 'Mitocondria_segmented_AreaShape_MeanRadius', 'Mitocondria_segmented_AreaShape_MedianRadius', 'Mitocondria_segmented_AreaShape_MinFeretDiameter', 'Mitocondria_segmented_AreaShape_MinorAxisLength', 'Mitocondria_segmented_AreaShape_Orientation', 'Mitocondria_segmented_AreaShape_Perimeter', 'Mitocondria_segmented_AreaShape_Solidity', 'Mitocondria_segmented_AreaShape_Zernike_0_0', 'Mitocondria_segmented_AreaShape_Zernike_1_1', 'Mitocondria_segmented_AreaShape_Zernike_2_0', 'Mitocondria_segmented_AreaShape_Zernike_2_2', 'Mitocondria_segmented_AreaShape_Zernike_3_1', 'Mitocondria_segmented_AreaShape_Zernike_3_3', 'Mitocondria_segmented_AreaShape_Zernike_4_0', 'Mitocondria_segmented_AreaShape_Zernike_4_2', 'Mitocondria_segmented_AreaShape_Zernike_4_4', 'Mitocondria_segmented_AreaShape_Zernike_5_1', 'Mitocondria_segmented_AreaShape_Zernike_5_3', 'Mitocondria_segmented_AreaShape_Zernike_5_5', 'Mitocondria_segmented_AreaShape_Zernike_6_0', 'Mitocondria_segmented_AreaShape_Zernike_6_2', 'Mitocondria_segmented_AreaShape_Zernike_6_4', 'Mitocondria_segmented_AreaShape_Zernike_6_6', 'Mitocondria_segmented_AreaShape_Zernike_7_1', 'Mitocondria_segmented_AreaShape_Zernike_7_3', 'Mitocondria_segmented_AreaShape_Zernike_7_5', 'Mitocondria_segmented_AreaShape_Zernike_7_7', 'Mitocondria_segmented_AreaShape_Zernike_8_0', 'Mitocondria_segmented_AreaShape_Zernike_8_2', 'Mitocondria_segmented_AreaShape_Zernike_8_4', 'Mitocondria_segmented_AreaShape_Zernike_8_6', 'Mitocondria_segmented_AreaShape_Zernike_8_8', 'Mitocondria_segmented_AreaShape_Zernike_9_1', 'Mitocondria_segmented_AreaShape_Zernike_9_3', 'Mitocondria_segmented_AreaShape_Zernike_9_5', 'Mitocondria_segmented_AreaShape_Zernike_9_7', 'Mitocondria_segmented_AreaShape_Zernike_9_9', 'Mitocondria_segmented_Children_Mitocondria_related_Count', 'Mitocondria_segmented_Intensity_IntegratedIntensityEdge_DNA', 'Mitocondria_segmented_Intensity_IntegratedIntensityEdge_ER', 'Mitocondria_segmented_Intensity_IntegratedIntensityEdge_Membrane', 'Mitocondria_segmented_Intensity_IntegratedIntensityEdge_Mito', 'Mitocondria_segmented_Intensity_IntegratedIntensityEdge_RNA_ncll', 'Mitocondria_segmented_Intensity_IntegratedIntensity_DNA', 'Mitocondria_segmented_Intensity_IntegratedIntensity_ER', 'Mitocondria_segmented_Intensity_IntegratedIntensity_Membrane', 'Mitocondria_segmented_Intensity_IntegratedIntensity_Mito', 'Mitocondria_segmented_Intensity_IntegratedIntensity_RNA_nucleoli', 'Mitocondria_segmented_Intensity_LowerQuartileIntensity_DNA', 'Mitocondria_segmented_Intensity_LowerQuartileIntensity_ER', 'Mitocondria_segmented_Intensity_LowerQuartileIntensity_Membrane', 'Mitocondria_segmented_Intensity_LowerQuartileIntensity_Mito', 'Mitocondria_segmented_Intensity_LowerQuartileIntensity_RNA_nucll', 'Mitocondria_segmented_Intensity_MADIntensity_DNA', 'Mitocondria_segmented_Intensity_MADIntensity_ER', 'Mitocondria_segmented_Intensity_MADIntensity_Membrane', 'Mitocondria_segmented_Intensity_MADIntensity_Mito', 'Mitocondria_segmented_Intensity_MADIntensity_RNA_nucleoli', 'Mitocondria_segmented_Intensity_MassDisplacement_DNA', 'Mitocondria_segmented_Intensity_MassDisplacement_ER', 'Mitocondria_segmented_Intensity_MassDisplacement_Membrane', 'Mitocondria_segmented_Intensity_MassDisplacement_Mito', 'Mitocondria_segmented_Intensity_MassDisplacement_RNA_nucleoli', 'Mitocondria_segmented_Intensity_MaxIntensityEdge_DNA', 'Mitocondria_segmented_Intensity_MaxIntensityEdge_ER', 'Mitocondria_segmented_Intensity_MaxIntensityEdge_Membrane', 'Mitocondria_segmented_Intensity_MaxIntensityEdge_Mito', 'Mitocondria_segmented_Intensity_MaxIntensityEdge_RNA_nucleoli', 'Mitocondria_segmented_Intensity_MaxIntensity_DNA', 'Mitocondria_segmented_Intensity_MaxIntensity_ER', 'Mitocondria_segmented_Intensity_MaxIntensity_Membrane', 'Mitocondria_segmented_Intensity_MaxIntensity_Mito', 'Mitocondria_segmented_Intensity_MaxIntensity_RNA_nucleoli', 'Mitocondria_segmented_Intensity_MeanIntensityEdge_DNA', 'Mitocondria_segmented_Intensity_MeanIntensityEdge_ER', 'Mitocondria_segmented_Intensity_MeanIntensityEdge_Membrane', 'Mitocondria_segmented_Intensity_MeanIntensityEdge_Mito', 'Mitocondria_segmented_Intensity_MeanIntensityEdge_RNA_nucleoli', 'Mitocondria_segmented_Intensity_MeanIntensity_DNA', 'Mitocondria_segmented_Intensity_MeanIntensity_ER', 'Mitocondria_segmented_Intensity_MeanIntensity_Membrane', 'Mitocondria_segmented_Intensity_MeanIntensity_Mito', 'Mitocondria_segmented_Intensity_MeanIntensity_RNA_nucleoli', 'Mitocondria_segmented_Intensity_MedianIntensity_DNA', 'Mitocondria_segmented_Intensity_MedianIntensity_ER', 'Mitocondria_segmented_Intensity_MedianIntensity_Membrane', 'Mitocondria_segmented_Intensity_MedianIntensity_Mito', 'Mitocondria_segmented_Intensity_MedianIntensity_RNA_nucleoli', 'Mitocondria_segmented_Intensity_MinIntensityEdge_DNA', 'Mitocondria_segmented_Intensity_MinIntensityEdge_ER', 'Mitocondria_segmented_Intensity_MinIntensityEdge_Membrane', 'Mitocondria_segmented_Intensity_MinIntensityEdge_Mito', 'Mitocondria_segmented_Intensity_MinIntensityEdge_RNA_nucleoli', 'Mitocondria_segmented_Intensity_MinIntensity_DNA', 'Mitocondria_segmented_Intensity_MinIntensity_ER', 'Mitocondria_segmented_Intensity_MinIntensity_Membrane', 'Mitocondria_segmented_Intensity_MinIntensity_Mito', 'Mitocondria_segmented_Intensity_MinIntensity_RNA_nucleoli', 'Mitocondria_segmented_Intensity_StdIntensityEdge_DNA', 'Mitocondria_segmented_Intensity_StdIntensityEdge_ER', 'Mitocondria_segmented_Intensity_StdIntensityEdge_Membrane', 'Mitocondria_segmented_Intensity_StdIntensityEdge_Mito', 'Mitocondria_segmented_Intensity_StdIntensityEdge_RNA_nucleoli', 'Mitocondria_segmented_Intensity_StdIntensity_DNA', 'Mitocondria_segmented_Intensity_StdIntensity_ER', 'Mitocondria_segmented_Intensity_StdIntensity_Membrane', 'Mitocondria_segmented_Intensity_StdIntensity_Mito', 'Mitocondria_segmented_Intensity_StdIntensity_RNA_nucleoli', 'Mitocondria_segmented_Intensity_UpperQuartileIntensity_DNA', 'Mitocondria_segmented_Intensity_UpperQuartileIntensity_ER', 'Mitocondria_segmented_Intensity_UpperQuartileIntensity_Membrane', 'Mitocondria_segmented_Intensity_UpperQuartileIntensity_Mito', 'Mitocondria_segmented_Intensity_UpperQuartileIntensity_RNA_nucll', 'Mitocondria_segmented_Location_CenterMassIntensity_X_DNA', 'Mitocondria_segmented_Location_CenterMassIntensity_X_ER', 'Mitocondria_segmented_Location_CenterMassIntensity_X_Membrane', 'Mitocondria_segmented_Location_CenterMassIntensity_X_Mito', 'Mitocondria_segmented_Location_CenterMassIntensity_X_RNA_nucleol', 'Mitocondria_segmented_Location_CenterMassIntensity_Y_DNA', 'Mitocondria_segmented_Location_CenterMassIntensity_Y_ER', 'Mitocondria_segmented_Location_CenterMassIntensity_Y_Membrane', 'Mitocondria_segmented_Location_CenterMassIntensity_Y_Mito', 'Mitocondria_segmented_Location_CenterMassIntensity_Y_RNA_nucleol', 'Mitocondria_segmented_Location_CenterMassIntensity_Z_DNA', 'Mitocondria_segmented_Location_CenterMassIntensity_Z_ER', 'Mitocondria_segmented_Location_CenterMassIntensity_Z_Membrane', 'Mitocondria_segmented_Location_CenterMassIntensity_Z_Mito', 'Mitocondria_segmented_Location_CenterMassIntensity_Z_RNA_nucleol', 'Mitocondria_segmented_Location_Center_X', 'Mitocondria_segmented_Location_Center_Y', 'Mitocondria_segmented_Location_Center_Z', 'Mitocondria_segmented_Location_MaxIntensity_X_DNA', 'Mitocondria_segmented_Location_MaxIntensity_X_ER', 'Mitocondria_segmented_Location_MaxIntensity_X_Membrane', 'Mitocondria_segmented_Location_MaxIntensity_X_Mito', 'Mitocondria_segmented_Location_MaxIntensity_X_RNA_nucleoli', 'Mitocondria_segmented_Location_MaxIntensity_Y_DNA', 'Mitocondria_segmented_Location_MaxIntensity_Y_ER', 'Mitocondria_segmented_Location_MaxIntensity_Y_Membrane', 'Mitocondria_segmented_Location_MaxIntensity_Y_Mito', 'Mitocondria_segmented_Location_MaxIntensity_Y_RNA_nucleoli', 'Mitocondria_segmented_Location_MaxIntensity_Z_DNA', 'Mitocondria_segmented_Location_MaxIntensity_Z_ER', 'Mitocondria_segmented_Location_MaxIntensity_Z_Membrane', 'Mitocondria_segmented_Location_MaxIntensity_Z_Mito', 'Mitocondria_segmented_Location_MaxIntensity_Z_RNA_nucleoli', 'Mitocondria_segmented_Parent_Cells', 'Neurons_Number_Object_Number', 'Neurons_AreaShape_Area', 'Neurons_AreaShape_BoundingBoxArea', 'Neurons_AreaShape_BoundingBoxMaximum_X', 'Neurons_AreaShape_BoundingBoxMaximum_Y', 'Neurons_AreaShape_BoundingBoxMinimum_X', 'Neurons_AreaShape_BoundingBoxMinimum_Y', 'Neurons_AreaShape_Center_X', 'Neurons_AreaShape_Center_Y', 'Neurons_AreaShape_Compactness', 'Neurons_AreaShape_ConvexArea', 'Neurons_AreaShape_Eccentricity', 'Neurons_AreaShape_EquivalentDiameter', 'Neurons_AreaShape_EulerNumber', 'Neurons_AreaShape_Extent', 'Neurons_AreaShape_FormFactor', 'Neurons_AreaShape_MajorAxisLength', 'Neurons_AreaShape_MaxFeretDiameter', 'Neurons_AreaShape_MaximumRadius', 'Neurons_AreaShape_MeanRadius', 'Neurons_AreaShape_MedianRadius', 'Neurons_AreaShape_MinFeretDiameter', 'Neurons_AreaShape_MinorAxisLength', 'Neurons_AreaShape_Orientation', 'Neurons_AreaShape_Perimeter', 'Neurons_AreaShape_Solidity', 'Neurons_AreaShape_Zernike_0_0', 'Neurons_AreaShape_Zernike_1_1', 'Neurons_AreaShape_Zernike_2_0', 'Neurons_AreaShape_Zernike_2_2', 'Neurons_AreaShape_Zernike_3_1', 'Neurons_AreaShape_Zernike_3_3', 'Neurons_AreaShape_Zernike_4_0', 'Neurons_AreaShape_Zernike_4_2', 'Neurons_AreaShape_Zernike_4_4', 'Neurons_AreaShape_Zernike_5_1', 'Neurons_AreaShape_Zernike_5_3', 'Neurons_AreaShape_Zernike_5_5', 'Neurons_AreaShape_Zernike_6_0', 'Neurons_AreaShape_Zernike_6_2', 'Neurons_AreaShape_Zernike_6_4', 'Neurons_AreaShape_Zernike_6_6', 'Neurons_AreaShape_Zernike_7_1', 'Neurons_AreaShape_Zernike_7_3', 'Neurons_AreaShape_Zernike_7_5', 'Neurons_AreaShape_Zernike_7_7', 'Neurons_AreaShape_Zernike_8_0', 'Neurons_AreaShape_Zernike_8_2', 'Neurons_AreaShape_Zernike_8_4', 'Neurons_AreaShape_Zernike_8_6', 'Neurons_AreaShape_Zernike_8_8', 'Neurons_AreaShape_Zernike_9_1', 'Neurons_AreaShape_Zernike_9_3', 'Neurons_AreaShape_Zernike_9_5', 'Neurons_AreaShape_Zernike_9_7', 'Neurons_AreaShape_Zernike_9_9', 'Neurons_Children_Neurons_Related_Count', 'Neurons_Intensity_IntegratedIntensityEdge_DNA', 'Neurons_Intensity_IntegratedIntensityEdge_ER', 'Neurons_Intensity_IntegratedIntensityEdge_Membrane', 'Neurons_Intensity_IntegratedIntensityEdge_Mito', 'Neurons_Intensity_IntegratedIntensityEdge_RNA_nucleoli', 'Neurons_Intensity_IntegratedIntensity_DNA', 'Neurons_Intensity_IntegratedIntensity_ER', 'Neurons_Intensity_IntegratedIntensity_Membrane', 'Neurons_Intensity_IntegratedIntensity_Mito', 'Neurons_Intensity_IntegratedIntensity_RNA_nucleoli', 'Neurons_Intensity_LowerQuartileIntensity_DNA', 'Neurons_Intensity_LowerQuartileIntensity_ER', 'Neurons_Intensity_LowerQuartileIntensity_Membrane', 'Neurons_Intensity_LowerQuartileIntensity_Mito', 'Neurons_Intensity_LowerQuartileIntensity_RNA_nucleoli', 'Neurons_Intensity_MADIntensity_DNA', 'Neurons_Intensity_MADIntensity_ER', 'Neurons_Intensity_MADIntensity_Membrane', 'Neurons_Intensity_MADIntensity_Mito', 'Neurons_Intensity_MADIntensity_RNA_nucleoli', 'Neurons_Intensity_MassDisplacement_DNA', 'Neurons_Intensity_MassDisplacement_ER', 'Neurons_Intensity_MassDisplacement_Membrane', 'Neurons_Intensity_MassDisplacement_Mito', 'Neurons_Intensity_MassDisplacement_RNA_nucleoli', 'Neurons_Intensity_MaxIntensityEdge_DNA', 'Neurons_Intensity_MaxIntensityEdge_ER', 'Neurons_Intensity_MaxIntensityEdge_Membrane', 'Neurons_Intensity_MaxIntensityEdge_Mito', 'Neurons_Intensity_MaxIntensityEdge_RNA_nucleoli', 'Neurons_Intensity_MaxIntensity_DNA', 'Neurons_Intensity_MaxIntensity_ER', 'Neurons_Intensity_MaxIntensity_Membrane', 'Neurons_Intensity_MaxIntensity_Mito', 'Neurons_Intensity_MaxIntensity_RNA_nucleoli', 'Neurons_Intensity_MeanIntensityEdge_DNA', 'Neurons_Intensity_MeanIntensityEdge_ER', 'Neurons_Intensity_MeanIntensityEdge_Membrane', 'Neurons_Intensity_MeanIntensityEdge_Mito', 'Neurons_Intensity_MeanIntensityEdge_RNA_nucleoli', 'Neurons_Intensity_MeanIntensity_DNA', 'Neurons_Intensity_MeanIntensity_ER', 'Neurons_Intensity_MeanIntensity_Membrane', 'Neurons_Intensity_MeanIntensity_Mito', 'Neurons_Intensity_MeanIntensity_RNA_nucleoli', 'Neurons_Intensity_MedianIntensity_DNA', 'Neurons_Intensity_MedianIntensity_ER', 'Neurons_Intensity_MedianIntensity_Membrane', 'Neurons_Intensity_MedianIntensity_Mito', 'Neurons_Intensity_MedianIntensity_RNA_nucleoli', 'Neurons_Intensity_MinIntensityEdge_DNA', 'Neurons_Intensity_MinIntensityEdge_ER', 'Neurons_Intensity_MinIntensityEdge_Membrane', 'Neurons_Intensity_MinIntensityEdge_Mito', 'Neurons_Intensity_MinIntensityEdge_RNA_nucleoli', 'Neurons_Intensity_MinIntensity_DNA', 'Neurons_Intensity_MinIntensity_ER', 'Neurons_Intensity_MinIntensity_Membrane', 'Neurons_Intensity_MinIntensity_Mito', 'Neurons_Intensity_MinIntensity_RNA_nucleoli', 'Neurons_Intensity_StdIntensityEdge_DNA', 'Neurons_Intensity_StdIntensityEdge_ER', 'Neurons_Intensity_StdIntensityEdge_Membrane', 'Neurons_Intensity_StdIntensityEdge_Mito', 'Neurons_Intensity_StdIntensityEdge_RNA_nucleoli', 'Neurons_Intensity_StdIntensity_DNA', 'Neurons_Intensity_StdIntensity_ER', 'Neurons_Intensity_StdIntensity_Membrane', 'Neurons_Intensity_StdIntensity_Mito', 'Neurons_Intensity_StdIntensity_RNA_nucleoli', 'Neurons_Intensity_UpperQuartileIntensity_DNA', 'Neurons_Intensity_UpperQuartileIntensity_ER', 'Neurons_Intensity_UpperQuartileIntensity_Membrane', 'Neurons_Intensity_UpperQuartileIntensity_Mito', 'Neurons_Intensity_UpperQuartileIntensity_RNA_nucleoli', 'Neurons_Location_CenterMassIntensity_X_DNA', 'Neurons_Location_CenterMassIntensity_X_ER', 'Neurons_Location_CenterMassIntensity_X_Membrane', 'Neurons_Location_CenterMassIntensity_X_Mito', 'Neurons_Location_CenterMassIntensity_X_RNA_nucleoli', 'Neurons_Location_CenterMassIntensity_Y_DNA', 'Neurons_Location_CenterMassIntensity_Y_ER', 'Neurons_Location_CenterMassIntensity_Y_Membrane', 'Neurons_Location_CenterMassIntensity_Y_Mito', 'Neurons_Location_CenterMassIntensity_Y_RNA_nucleoli', 'Neurons_Location_CenterMassIntensity_Z_DNA', 'Neurons_Location_CenterMassIntensity_Z_ER', 'Neurons_Location_CenterMassIntensity_Z_Membrane', 'Neurons_Location_CenterMassIntensity_Z_Mito', 'Neurons_Location_CenterMassIntensity_Z_RNA_nucleoli', 'Neurons_Location_Center_X', 'Neurons_Location_Center_Y', 'Neurons_Location_MaxIntensity_X_DNA', 'Neurons_Location_MaxIntensity_X_ER', 'Neurons_Location_MaxIntensity_X_Membrane', 'Neurons_Location_MaxIntensity_X_Mito', 'Neurons_Location_MaxIntensity_X_RNA_nucleoli', 'Neurons_Location_MaxIntensity_Y_DNA', 'Neurons_Location_MaxIntensity_Y_ER', 'Neurons_Location_MaxIntensity_Y_Membrane', 'Neurons_Location_MaxIntensity_Y_Mito', 'Neurons_Location_MaxIntensity_Y_RNA_nucleoli', 'Neurons_Location_MaxIntensity_Z_DNA', 'Neurons_Location_MaxIntensity_Z_ER', 'Neurons_Location_MaxIntensity_Z_Membrane', 'Neurons_Location_MaxIntensity_Z_Mito', 'Neurons_Location_MaxIntensity_Z_RNA_nucleoli', 'Neurons_Parent_Cells', 'Neurons1_Number_Object_Number', 'Neurons1_Location_Center_X', 'Neurons1_Location_Center_Y', 'Neurons1_Location_Center_Z', 'Neurons1_Parent_Cells', 'Neurons_Related_Number_Object_Number', 'Neurons_Related_Location_Center_X', 'Neurons_Related_Location_Center_Y', 'Neurons_Related_Location_Center_Z', 'Neurons_Related_Parent_Neurons', 'Nuclei_Number_Object_Number', 'Nuclei_AreaShape_Area', 'Nuclei_AreaShape_BoundingBoxArea', 'Nuclei_AreaShape_BoundingBoxMaximum_X', 'Nuclei_AreaShape_BoundingBoxMaximum_Y', 'Nuclei_AreaShape_BoundingBoxMinimum_X', 'Nuclei_AreaShape_BoundingBoxMinimum_Y', 'Nuclei_AreaShape_Center_X', 'Nuclei_AreaShape_Center_Y', 'Nuclei_AreaShape_CentralMoment_0_0', 'Nuclei_AreaShape_CentralMoment_0_1', 'Nuclei_AreaShape_CentralMoment_0_2', 'Nuclei_AreaShape_CentralMoment_0_3', 'Nuclei_AreaShape_CentralMoment_1_0', 'Nuclei_AreaShape_CentralMoment_1_1', 'Nuclei_AreaShape_CentralMoment_1_2', 'Nuclei_AreaShape_CentralMoment_1_3', 'Nuclei_AreaShape_CentralMoment_2_0', 'Nuclei_AreaShape_CentralMoment_2_1', 'Nuclei_AreaShape_CentralMoment_2_2', 'Nuclei_AreaShape_CentralMoment_2_3', 'Nuclei_AreaShape_Compactness', 'Nuclei_AreaShape_ConvexArea', 'Nuclei_AreaShape_Eccentricity', 'Nuclei_AreaShape_EquivalentDiameter', 'Nuclei_AreaShape_EulerNumber', 'Nuclei_AreaShape_Extent', 'Nuclei_AreaShape_FormFactor', 'Nuclei_AreaShape_HuMoment_0', 'Nuclei_AreaShape_HuMoment_1', 'Nuclei_AreaShape_HuMoment_2', 'Nuclei_AreaShape_HuMoment_3', 'Nuclei_AreaShape_HuMoment_4', 'Nuclei_AreaShape_HuMoment_5', 'Nuclei_AreaShape_HuMoment_6', 'Nuclei_AreaShape_InertiaTensorEigenvalues_0', 'Nuclei_AreaShape_InertiaTensorEigenvalues_1', 'Nuclei_AreaShape_InertiaTensor_0_0', 'Nuclei_AreaShape_InertiaTensor_0_1', 'Nuclei_AreaShape_InertiaTensor_1_0', 'Nuclei_AreaShape_InertiaTensor_1_1', 'Nuclei_AreaShape_MajorAxisLength', 'Nuclei_AreaShape_MaxFeretDiameter', 'Nuclei_AreaShape_MaximumRadius', 'Nuclei_AreaShape_MeanRadius', 'Nuclei_AreaShape_MedianRadius', 'Nuclei_AreaShape_MinFeretDiameter', 'Nuclei_AreaShape_MinorAxisLength', 'Nuclei_AreaShape_NormalizedMoment_0_2', 'Nuclei_AreaShape_NormalizedMoment_0_3', 'Nuclei_AreaShape_NormalizedMoment_1_1', 'Nuclei_AreaShape_NormalizedMoment_1_2', 'Nuclei_AreaShape_NormalizedMoment_1_3', 'Nuclei_AreaShape_NormalizedMoment_2_0', 'Nuclei_AreaShape_NormalizedMoment_2_1', 'Nuclei_AreaShape_NormalizedMoment_2_2', 'Nuclei_AreaShape_NormalizedMoment_2_3', 'Nuclei_AreaShape_NormalizedMoment_3_0', 'Nuclei_AreaShape_NormalizedMoment_3_1', 'Nuclei_AreaShape_NormalizedMoment_3_2', 'Nuclei_AreaShape_NormalizedMoment_3_3', 'Nuclei_AreaShape_Orientation', 'Nuclei_AreaShape_Perimeter', 'Nuclei_AreaShape_Solidity', 'Nuclei_AreaShape_SpatialMoment_0_0', 'Nuclei_AreaShape_SpatialMoment_0_1', 'Nuclei_AreaShape_SpatialMoment_0_2', 'Nuclei_AreaShape_SpatialMoment_0_3', 'Nuclei_AreaShape_SpatialMoment_1_0', 'Nuclei_AreaShape_SpatialMoment_1_1', 'Nuclei_AreaShape_SpatialMoment_1_2', 'Nuclei_AreaShape_SpatialMoment_1_3', 'Nuclei_AreaShape_SpatialMoment_2_0', 'Nuclei_AreaShape_SpatialMoment_2_1', 'Nuclei_AreaShape_SpatialMoment_2_2', 'Nuclei_AreaShape_SpatialMoment_2_3', 'Nuclei_AreaShape_Zernike_0_0', 'Nuclei_AreaShape_Zernike_1_1', 'Nuclei_AreaShape_Zernike_2_0', 'Nuclei_AreaShape_Zernike_2_2', 'Nuclei_AreaShape_Zernike_3_1', 'Nuclei_AreaShape_Zernike_3_3', 'Nuclei_AreaShape_Zernike_4_0', 'Nuclei_AreaShape_Zernike_4_2', 'Nuclei_AreaShape_Zernike_4_4', 'Nuclei_AreaShape_Zernike_5_1', 'Nuclei_AreaShape_Zernike_5_3', 'Nuclei_AreaShape_Zernike_5_5', 'Nuclei_AreaShape_Zernike_6_0', 'Nuclei_AreaShape_Zernike_6_2', 'Nuclei_AreaShape_Zernike_6_4', 'Nuclei_AreaShape_Zernike_6_6', 'Nuclei_AreaShape_Zernike_7_1', 'Nuclei_AreaShape_Zernike_7_3', 'Nuclei_AreaShape_Zernike_7_5', 'Nuclei_AreaShape_Zernike_7_7', 'Nuclei_AreaShape_Zernike_8_0', 'Nuclei_AreaShape_Zernike_8_2', 'Nuclei_AreaShape_Zernike_8_4', 'Nuclei_AreaShape_Zernike_8_6', 'Nuclei_AreaShape_Zernike_8_8', 'Nuclei_AreaShape_Zernike_9_1', 'Nuclei_AreaShape_Zernike_9_3', 'Nuclei_AreaShape_Zernike_9_5', 'Nuclei_AreaShape_Zernike_9_7', 'Nuclei_AreaShape_Zernike_9_9', 'Nuclei_Children_Cells_Count', 'Nuclei_Children_Cytoplasm_Count', 'Nuclei_Children_Nucleoli_segmented_Count', 'Nuclei_Intensity_IntegratedIntensityEdge_DNA', 'Nuclei_Intensity_IntegratedIntensityEdge_ER', 'Nuclei_Intensity_IntegratedIntensityEdge_Membrane', 'Nuclei_Intensity_IntegratedIntensityEdge_Mito', 'Nuclei_Intensity_IntegratedIntensityEdge_RNA_nucleoli', 'Nuclei_Intensity_IntegratedIntensity_DNA', 'Nuclei_Intensity_IntegratedIntensity_ER', 'Nuclei_Intensity_IntegratedIntensity_Membrane', 'Nuclei_Intensity_IntegratedIntensity_Mito', 'Nuclei_Intensity_IntegratedIntensity_RNA_nucleoli', 'Nuclei_Intensity_LowerQuartileIntensity_DNA', 'Nuclei_Intensity_LowerQuartileIntensity_ER', 'Nuclei_Intensity_LowerQuartileIntensity_Membrane', 'Nuclei_Intensity_LowerQuartileIntensity_Mito', 'Nuclei_Intensity_LowerQuartileIntensity_RNA_nucleoli', 'Nuclei_Intensity_MADIntensity_DNA', 'Nuclei_Intensity_MADIntensity_ER', 'Nuclei_Intensity_MADIntensity_Membrane', 'Nuclei_Intensity_MADIntensity_Mito', 'Nuclei_Intensity_MADIntensity_RNA_nucleoli', 'Nuclei_Intensity_MassDisplacement_DNA', 'Nuclei_Intensity_MassDisplacement_ER', 'Nuclei_Intensity_MassDisplacement_Membrane', 'Nuclei_Intensity_MassDisplacement_Mito', 'Nuclei_Intensity_MassDisplacement_RNA_nucleoli', 'Nuclei_Intensity_MaxIntensityEdge_DNA', 'Nuclei_Intensity_MaxIntensityEdge_ER', 'Nuclei_Intensity_MaxIntensityEdge_Membrane', 'Nuclei_Intensity_MaxIntensityEdge_Mito', 'Nuclei_Intensity_MaxIntensityEdge_RNA_nucleoli', 'Nuclei_Intensity_MaxIntensity_DNA', 'Nuclei_Intensity_MaxIntensity_ER', 'Nuclei_Intensity_MaxIntensity_Membrane', 'Nuclei_Intensity_MaxIntensity_Mito', 'Nuclei_Intensity_MaxIntensity_RNA_nucleoli', 'Nuclei_Intensity_MeanIntensityEdge_DNA', 'Nuclei_Intensity_MeanIntensityEdge_ER', 'Nuclei_Intensity_MeanIntensityEdge_Membrane', 'Nuclei_Intensity_MeanIntensityEdge_Mito', 'Nuclei_Intensity_MeanIntensityEdge_RNA_nucleoli', 'Nuclei_Intensity_MeanIntensity_DNA', 'Nuclei_Intensity_MeanIntensity_ER', 'Nuclei_Intensity_MeanIntensity_Membrane', 'Nuclei_Intensity_MeanIntensity_Mito', 'Nuclei_Intensity_MeanIntensity_RNA_nucleoli', 'Nuclei_Intensity_MedianIntensity_DNA', 'Nuclei_Intensity_MedianIntensity_ER', 'Nuclei_Intensity_MedianIntensity_Membrane', 'Nuclei_Intensity_MedianIntensity_Mito', 'Nuclei_Intensity_MedianIntensity_RNA_nucleoli', 'Nuclei_Intensity_MinIntensityEdge_DNA', 'Nuclei_Intensity_MinIntensityEdge_ER', 'Nuclei_Intensity_MinIntensityEdge_Membrane', 'Nuclei_Intensity_MinIntensityEdge_Mito', 'Nuclei_Intensity_MinIntensityEdge_RNA_nucleoli', 'Nuclei_Intensity_MinIntensity_DNA', 'Nuclei_Intensity_MinIntensity_ER', 'Nuclei_Intensity_MinIntensity_Membrane', 'Nuclei_Intensity_MinIntensity_Mito', 'Nuclei_Intensity_MinIntensity_RNA_nucleoli', 'Nuclei_Intensity_StdIntensityEdge_DNA', 'Nuclei_Intensity_StdIntensityEdge_ER', 'Nuclei_Intensity_StdIntensityEdge_Membrane', 'Nuclei_Intensity_StdIntensityEdge_Mito', 'Nuclei_Intensity_StdIntensityEdge_RNA_nucleoli', 'Nuclei_Intensity_StdIntensity_DNA', 'Nuclei_Intensity_StdIntensity_ER', 'Nuclei_Intensity_StdIntensity_Membrane', 'Nuclei_Intensity_StdIntensity_Mito', 'Nuclei_Intensity_StdIntensity_RNA_nucleoli', 'Nuclei_Intensity_UpperQuartileIntensity_DNA', 'Nuclei_Intensity_UpperQuartileIntensity_ER', 'Nuclei_Intensity_UpperQuartileIntensity_Membrane', 'Nuclei_Intensity_UpperQuartileIntensity_Mito', 'Nuclei_Intensity_UpperQuartileIntensity_RNA_nucleoli', 'Nuclei_Location_CenterMassIntensity_X_DNA', 'Nuclei_Location_CenterMassIntensity_X_ER', 'Nuclei_Location_CenterMassIntensity_X_Membrane', 'Nuclei_Location_CenterMassIntensity_X_Mito', 'Nuclei_Location_CenterMassIntensity_X_RNA_nucleoli', 'Nuclei_Location_CenterMassIntensity_Y_DNA', 'Nuclei_Location_CenterMassIntensity_Y_ER', 'Nuclei_Location_CenterMassIntensity_Y_Membrane', 'Nuclei_Location_CenterMassIntensity_Y_Mito', 'Nuclei_Location_CenterMassIntensity_Y_RNA_nucleoli', 'Nuclei_Location_CenterMassIntensity_Z_DNA', 'Nuclei_Location_CenterMassIntensity_Z_ER', 'Nuclei_Location_CenterMassIntensity_Z_Membrane', 'Nuclei_Location_CenterMassIntensity_Z_Mito', 'Nuclei_Location_CenterMassIntensity_Z_RNA_nucleoli', 'Nuclei_Location_Center_X', 'Nuclei_Location_Center_Y', 'Nuclei_Location_Center_Z', 'Nuclei_Location_MaxIntensity_X_DNA', 'Nuclei_Location_MaxIntensity_X_ER', 'Nuclei_Location_MaxIntensity_X_Membrane', 'Nuclei_Location_MaxIntensity_X_Mito', 'Nuclei_Location_MaxIntensity_X_RNA_nucleoli', 'Nuclei_Location_MaxIntensity_Y_DNA', 'Nuclei_Location_MaxIntensity_Y_ER', 'Nuclei_Location_MaxIntensity_Y_Membrane', 'Nuclei_Location_MaxIntensity_Y_Mito', 'Nuclei_Location_MaxIntensity_Y_RNA_nucleoli', 'Nuclei_Location_MaxIntensity_Z_DNA', 'Nuclei_Location_MaxIntensity_Z_ER', 'Nuclei_Location_MaxIntensity_Z_Membrane', 'Nuclei_Location_MaxIntensity_Z_Mito', 'Nuclei_Location_MaxIntensity_Z_RNA_nucleoli', 'Nuclei_Math_area_ratio', 'Nuclei_Mean_Nucleoli_segmented_Location_Center_X', 'Nuclei_Mean_Nucleoli_segmented_Location_Center_Y', 'Nuclei_Mean_Nucleoli_segmented_Location_Center_Z', 'Nuclei_Mean_Nucleoli_segmented_Number_Object_Number', 'Nucleoli_related_Number_Object_Number', 'Nucleoli_related_Location_Center_X', 'Nucleoli_related_Location_Center_Y', 'Nucleoli_related_Location_Center_Z', 'Nucleoli_related_Parent_Nucleoli_segmented', 'Nucleoli_segmented_Number_Object_Number', 'Nucleoli_segmented_AreaShape_Area', 'Nucleoli_segmented_AreaShape_BoundingBoxArea', 'Nucleoli_segmented_AreaShape_BoundingBoxMaximum_X', 'Nucleoli_segmented_AreaShape_BoundingBoxMaximum_Y', 'Nucleoli_segmented_AreaShape_BoundingBoxMinimum_X', 'Nucleoli_segmented_AreaShape_BoundingBoxMinimum_Y', 'Nucleoli_segmented_AreaShape_Center_X', 'Nucleoli_segmented_AreaShape_Center_Y', 'Nucleoli_segmented_AreaShape_Compactness', 'Nucleoli_segmented_AreaShape_ConvexArea', 'Nucleoli_segmented_AreaShape_Eccentricity', 'Nucleoli_segmented_AreaShape_EquivalentDiameter', 'Nucleoli_segmented_AreaShape_EulerNumber', 'Nucleoli_segmented_AreaShape_Extent', 'Nucleoli_segmented_AreaShape_FormFactor', 'Nucleoli_segmented_AreaShape_MajorAxisLength', 'Nucleoli_segmented_AreaShape_MaxFeretDiameter', 'Nucleoli_segmented_AreaShape_MaximumRadius', 'Nucleoli_segmented_AreaShape_MeanRadius', 'Nucleoli_segmented_AreaShape_MedianRadius', 'Nucleoli_segmented_AreaShape_MinFeretDiameter', 'Nucleoli_segmented_AreaShape_MinorAxisLength', 'Nucleoli_segmented_AreaShape_Orientation', 'Nucleoli_segmented_AreaShape_Perimeter', 'Nucleoli_segmented_AreaShape_Solidity', 'Nucleoli_segmented_AreaShape_Zernike_0_0', 'Nucleoli_segmented_AreaShape_Zernike_1_1', 'Nucleoli_segmented_AreaShape_Zernike_2_0', 'Nucleoli_segmented_AreaShape_Zernike_2_2', 'Nucleoli_segmented_AreaShape_Zernike_3_1', 'Nucleoli_segmented_AreaShape_Zernike_3_3', 'Nucleoli_segmented_AreaShape_Zernike_4_0', 'Nucleoli_segmented_AreaShape_Zernike_4_2', 'Nucleoli_segmented_AreaShape_Zernike_4_4', 'Nucleoli_segmented_AreaShape_Zernike_5_1', 'Nucleoli_segmented_AreaShape_Zernike_5_3', 'Nucleoli_segmented_AreaShape_Zernike_5_5', 'Nucleoli_segmented_AreaShape_Zernike_6_0', 'Nucleoli_segmented_AreaShape_Zernike_6_2', 'Nucleoli_segmented_AreaShape_Zernike_6_4', 'Nucleoli_segmented_AreaShape_Zernike_6_6', 'Nucleoli_segmented_AreaShape_Zernike_7_1', 'Nucleoli_segmented_AreaShape_Zernike_7_3', 'Nucleoli_segmented_AreaShape_Zernike_7_5', 'Nucleoli_segmented_AreaShape_Zernike_7_7', 'Nucleoli_segmented_AreaShape_Zernike_8_0', 'Nucleoli_segmented_AreaShape_Zernike_8_2', 'Nucleoli_segmented_AreaShape_Zernike_8_4', 'Nucleoli_segmented_AreaShape_Zernike_8_6', 'Nucleoli_segmented_AreaShape_Zernike_8_8', 'Nucleoli_segmented_AreaShape_Zernike_9_1', 'Nucleoli_segmented_AreaShape_Zernike_9_3', 'Nucleoli_segmented_AreaShape_Zernike_9_5', 'Nucleoli_segmented_AreaShape_Zernike_9_7', 'Nucleoli_segmented_AreaShape_Zernike_9_9', 'Nucleoli_segmented_Children_Nucleoli_related_Count', 'Nucleoli_segmented_Intensity_IntegratedIntensityEdge_DNA', 'Nucleoli_segmented_Intensity_IntegratedIntensityEdge_ER', 'Nucleoli_segmented_Intensity_IntegratedIntensityEdge_Membrane', 'Nucleoli_segmented_Intensity_IntegratedIntensityEdge_Mito', 'Nucleoli_segmented_Intensity_IntegratedIntensityEdge_RNA_nucleol', 'Nucleoli_segmented_Intensity_IntegratedIntensity_DNA', 'Nucleoli_segmented_Intensity_IntegratedIntensity_ER', 'Nucleoli_segmented_Intensity_IntegratedIntensity_Membrane', 'Nucleoli_segmented_Intensity_IntegratedIntensity_Mito', 'Nucleoli_segmented_Intensity_IntegratedIntensity_RNA_nucleoli', 'Nucleoli_segmented_Intensity_LowerQuartileIntensity_DNA', 'Nucleoli_segmented_Intensity_LowerQuartileIntensity_ER', 'Nucleoli_segmented_Intensity_LowerQuartileIntensity_Membrane', 'Nucleoli_segmented_Intensity_LowerQuartileIntensity_Mito', 'Nucleoli_segmented_Intensity_LowerQuartileIntensity_RNA_nucleoli', 'Nucleoli_segmented_Intensity_MADIntensity_DNA', 'Nucleoli_segmented_Intensity_MADIntensity_ER', 'Nucleoli_segmented_Intensity_MADIntensity_Membrane', 'Nucleoli_segmented_Intensity_MADIntensity_Mito', 'Nucleoli_segmented_Intensity_MADIntensity_RNA_nucleoli', 'Nucleoli_segmented_Intensity_MassDisplacement_DNA', 'Nucleoli_segmented_Intensity_MassDisplacement_ER', 'Nucleoli_segmented_Intensity_MassDisplacement_Membrane', 'Nucleoli_segmented_Intensity_MassDisplacement_Mito', 'Nucleoli_segmented_Intensity_MassDisplacement_RNA_nucleoli', 'Nucleoli_segmented_Intensity_MaxIntensityEdge_DNA', 'Nucleoli_segmented_Intensity_MaxIntensityEdge_ER', 'Nucleoli_segmented_Intensity_MaxIntensityEdge_Membrane', 'Nucleoli_segmented_Intensity_MaxIntensityEdge_Mito', 'Nucleoli_segmented_Intensity_MaxIntensityEdge_RNA_nucleoli', 'Nucleoli_segmented_Intensity_MaxIntensity_DNA', 'Nucleoli_segmented_Intensity_MaxIntensity_ER', 'Nucleoli_segmented_Intensity_MaxIntensity_Membrane', 'Nucleoli_segmented_Intensity_MaxIntensity_Mito', 'Nucleoli_segmented_Intensity_MaxIntensity_RNA_nucleoli', 'Nucleoli_segmented_Intensity_MeanIntensityEdge_DNA', 'Nucleoli_segmented_Intensity_MeanIntensityEdge_ER', 'Nucleoli_segmented_Intensity_MeanIntensityEdge_Membrane', 'Nucleoli_segmented_Intensity_MeanIntensityEdge_Mito', 'Nucleoli_segmented_Intensity_MeanIntensityEdge_RNA_nucleoli', 'Nucleoli_segmented_Intensity_MeanIntensity_DNA', 'Nucleoli_segmented_Intensity_MeanIntensity_ER', 'Nucleoli_segmented_Intensity_MeanIntensity_Membrane', 'Nucleoli_segmented_Intensity_MeanIntensity_Mito', 'Nucleoli_segmented_Intensity_MeanIntensity_RNA_nucleoli', 'Nucleoli_segmented_Intensity_MedianIntensity_DNA', 'Nucleoli_segmented_Intensity_MedianIntensity_ER', 'Nucleoli_segmented_Intensity_MedianIntensity_Membrane', 'Nucleoli_segmented_Intensity_MedianIntensity_Mito', 'Nucleoli_segmented_Intensity_MedianIntensity_RNA_nucleoli', 'Nucleoli_segmented_Intensity_MinIntensityEdge_DNA', 'Nucleoli_segmented_Intensity_MinIntensityEdge_ER', 'Nucleoli_segmented_Intensity_MinIntensityEdge_Membrane', 'Nucleoli_segmented_Intensity_MinIntensityEdge_Mito', 'Nucleoli_segmented_Intensity_MinIntensityEdge_RNA_nucleoli', 'Nucleoli_segmented_Intensity_MinIntensity_DNA', 'Nucleoli_segmented_Intensity_MinIntensity_ER', 'Nucleoli_segmented_Intensity_MinIntensity_Membrane', 'Nucleoli_segmented_Intensity_MinIntensity_Mito', 'Nucleoli_segmented_Intensity_MinIntensity_RNA_nucleoli', 'Nucleoli_segmented_Intensity_StdIntensityEdge_DNA', 'Nucleoli_segmented_Intensity_StdIntensityEdge_ER', 'Nucleoli_segmented_Intensity_StdIntensityEdge_Membrane', 'Nucleoli_segmented_Intensity_StdIntensityEdge_Mito', 'Nucleoli_segmented_Intensity_StdIntensityEdge_RNA_nucleoli', 'Nucleoli_segmented_Intensity_StdIntensity_DNA', 'Nucleoli_segmented_Intensity_StdIntensity_ER', 'Nucleoli_segmented_Intensity_StdIntensity_Membrane', 'Nucleoli_segmented_Intensity_StdIntensity_Mito', 'Nucleoli_segmented_Intensity_StdIntensity_RNA_nucleoli', 'Nucleoli_segmented_Intensity_UpperQuartileIntensity_DNA', 'Nucleoli_segmented_Intensity_UpperQuartileIntensity_ER', 'Nucleoli_segmented_Intensity_UpperQuartileIntensity_Membrane', 'Nucleoli_segmented_Intensity_UpperQuartileIntensity_Mito', 'Nucleoli_segmented_Intensity_UpperQuartileIntensity_RNA_nucleoli', 'Nucleoli_segmented_Location_CenterMassIntensity_X_DNA', 'Nucleoli_segmented_Location_CenterMassIntensity_X_ER', 'Nucleoli_segmented_Location_CenterMassIntensity_X_Membrane', 'Nucleoli_segmented_Location_CenterMassIntensity_X_Mito', 'Nucleoli_segmented_Location_CenterMassIntensity_X_RNA_nucleoli', 'Nucleoli_segmented_Location_CenterMassIntensity_Y_DNA', 'Nucleoli_segmented_Location_CenterMassIntensity_Y_ER', 'Nucleoli_segmented_Location_CenterMassIntensity_Y_Membrane', 'Nucleoli_segmented_Location_CenterMassIntensity_Y_Mito', 'Nucleoli_segmented_Location_CenterMassIntensity_Y_RNA_nucleoli', 'Nucleoli_segmented_Location_CenterMassIntensity_Z_DNA', 'Nucleoli_segmented_Location_CenterMassIntensity_Z_ER', 'Nucleoli_segmented_Location_CenterMassIntensity_Z_Membrane', 'Nucleoli_segmented_Location_CenterMassIntensity_Z_Mito', 'Nucleoli_segmented_Location_CenterMassIntensity_Z_RNA_nucleoli', 'Nucleoli_segmented_Location_Center_X', 'Nucleoli_segmented_Location_Center_Y', 'Nucleoli_segmented_Location_Center_Z', 'Nucleoli_segmented_Location_MaxIntensity_X_DNA', 'Nucleoli_segmented_Location_MaxIntensity_X_ER', 'Nucleoli_segmented_Location_MaxIntensity_X_Membrane', 'Nucleoli_segmented_Location_MaxIntensity_X_Mito', 'Nucleoli_segmented_Location_MaxIntensity_X_RNA_nucleoli', 'Nucleoli_segmented_Location_MaxIntensity_Y_DNA', 'Nucleoli_segmented_Location_MaxIntensity_Y_ER', 'Nucleoli_segmented_Location_MaxIntensity_Y_Membrane', 'Nucleoli_segmented_Location_MaxIntensity_Y_Mito', 'Nucleoli_segmented_Location_MaxIntensity_Y_RNA_nucleoli', 'Nucleoli_segmented_Location_MaxIntensity_Z_DNA', 'Nucleoli_segmented_Location_MaxIntensity_Z_ER', 'Nucleoli_segmented_Location_MaxIntensity_Z_Membrane', 'Nucleoli_segmented_Location_MaxIntensity_Z_Mito', 'Nucleoli_segmented_Location_MaxIntensity_Z_RNA_nucleoli', 'Nucleoli_segmented_Parent_Nuclei', 'Image_Count_Cells', 'Image_Count_CellsPR_Related', 'Image_Count_CellsPR_filtered', 'Image_Count_Cells_PR1', 'Image_Count_Cytoplasm', 'Image_Count_Mitocondria_related', 'Image_Count_Mitocondria_segmented', 'Image_Count_Neurons', 'Image_Count_Neurons1', 'Image_Count_Neurons2', 'Image_Count_Neurons_Related', 'Image_Count_Nuclei', 'Image_Count_Nucleoli_related', 'Image_Count_Nucleoli_segmented', 'Image_ExecutionTime_01Images', 'Image_ExecutionTime_03NamesAndTypes', 'Image_ExecutionTime_04Groups', 'Image_ExecutionTime_05IdentifyPrimaryObjects', 'Image_ExecutionTime_06ImageMath', 'Image_ExecutionTime_07IdentifySecondaryObjects', 'Image_ExecutionTime_08IdentifyTertiaryObjects', 'Image_ExecutionTime_09MeasureObjectSizeShape', 'Image_ExecutionTime_10CalculateMath', 'Image_ExecutionTime_11FilterObjects', 'Image_ExecutionTime_12MeasureObjectSizeShape', 'Image_ExecutionTime_13FilterObjects', 'Image_ExecutionTime_14CombineObjects', 'Image_ExecutionTime_15EnhanceOrSuppressFeatures', 'Image_ExecutionTime_16EnhanceOrSuppressFeatures', 'Image_ExecutionTime_17MaskImage', 'Image_ExecutionTime_18MaskImage', 'Image_ExecutionTime_19IdentifyPrimaryObjects', 'Image_ExecutionTime_20IdentifyPrimaryObjects', 'Image_ExecutionTime_21RelateObjects', 'Image_ExecutionTime_22RelateObjects', 'Image_ExecutionTime_23RelateObjects', 'Image_ExecutionTime_24OverlayObjects', 'Image_ExecutionTime_25RelateObjects', 'Image_ExecutionTime_26OverlayObjects', 'Image_ExecutionTime_27OverlayObjects', 'Image_ExecutionTime_28OverlayObjects', 'Image_ExecutionTime_29MeasureObjectIntensity', 'Image_ExecutionTime_30MeasureObjectSizeShape', 'Image_Frame_Brightfield', 'Image_Frame_DNA', 'Image_Frame_ER', 'Image_Frame_Membrane', 'Image_Frame_Mito', 'Image_Frame_RNA_nucleoli', 'Image_Group_Index', 'Image_Group_Length', 'Image_Group_Number', 'Image_Height_Brightfield', 'Image_Height_DNA', 'Image_Height_ER', 'Image_Height_Membrane', 'Image_Height_Mito', 'Image_Height_RNA_nucleoli', 'Image_Scaling_Brightfield', 'Image_Scaling_DNA', 'Image_Scaling_ER', 'Image_Scaling_Membrane', 'Image_Scaling_Mito', 'Image_Scaling_RNA_nucleoli', 'Image_Series_Brightfield', 'Image_Series_DNA', 'Image_Series_ER', 'Image_Series_Membrane', 'Image_Series_Mito', 'Image_Series_RNA_nucleoli', 'Image_Threshold_FinalThreshold_Cells', 'Image_Threshold_FinalThreshold_Mitocondria_segmented', 'Image_Threshold_FinalThreshold_Nuclei', 'Image_Threshold_FinalThreshold_Nucleoli_segmented', 'Image_Threshold_GuideThreshold_Cells', 'Image_Threshold_GuideThreshold_Mitocondria_segmented', 'Image_Threshold_GuideThreshold_Nuclei', 'Image_Threshold_OrigThreshold_Cells', 'Image_Threshold_OrigThreshold_Mitocondria_segmented', 'Image_Threshold_OrigThreshold_Nuclei', 'Image_Threshold_OrigThreshold_Nucleoli_segmented', 'Image_Threshold_SumOfEntropies_Cells', 'Image_Threshold_SumOfEntropies_Mitocondria_segmented', 'Image_Threshold_SumOfEntropies_Nuclei', 'Image_Threshold_SumOfEntropies_Nucleoli_segmented', 'Image_Threshold_WeightedVariance_Cells', 'Image_Threshold_WeightedVariance_Mitocondria_segmented', 'Image_Threshold_WeightedVariance_Nuclei', 'Image_Threshold_WeightedVariance_Nucleoli_segmented', 'Image_Width_Brightfield', 'Image_Width_DNA', 'Image_Width_ER', 'Image_Width_Membrane', 'Image_Width_Mito', 'Image_Width_RNA_nucleoli']\n"
     ]
    }
   ],
   "source": [
    "metadata_cols = [x for x in aggregate_df.columns if 'Metadata' in x]\n",
    "print(metadata_cols)\n",
    "non_metadata_cols = [x for x in  aggregate_df.columns if 'Metadata' not in x]\n",
    "print(non_metadata_cols)\n",
    "reordered_annotated_features =  aggregate_df[metadata_cols+non_metadata_cols]\n",
    "namefixed_annotated_columns = {x:x[x.index('Metadata_'):] for x in reordered_annotated_features.columns if 'Metadata_' in x}\n",
    "namefixed_annotated_features = reordered_annotated_features.rename(columns=namefixed_annotated_columns)\n",
    "#columns_to_manually_remove = ['Metadata_Plate_DAPI','Metadata_Well_DAPI','Metadata_compound',\n",
    "#                              'Metadata_concentration','TableNumber','ImageNumber','Image_FileName_DAPI',\n",
    "#                              'Image_PathName_DAPI','Image_FileName_Tubulin','Image_PathName_Tubulin',\n",
    "#                              'Image_FileName_Actin','Image_PathName_Actin','Replicate']\n",
    "#cleaned_features = namefixed_annotated_features.drop(columns=columns_to_manually_remove)\n",
    "#cleaned_features.shape\n",
    "#cleaned_features.head()"
   ]
  },
  {
   "cell_type": "code",
   "execution_count": 27,
   "metadata": {},
   "outputs": [
    {
     "data": {
      "text/html": [
       "<div>\n",
       "<style scoped>\n",
       "    .dataframe tbody tr th:only-of-type {\n",
       "        vertical-align: middle;\n",
       "    }\n",
       "\n",
       "    .dataframe tbody tr th {\n",
       "        vertical-align: top;\n",
       "    }\n",
       "\n",
       "    .dataframe thead th {\n",
       "        text-align: right;\n",
       "    }\n",
       "</style>\n",
       "<table border=\"1\" class=\"dataframe\">\n",
       "  <thead>\n",
       "    <tr style=\"text-align: right;\">\n",
       "      <th></th>\n",
       "      <th>Metadata_Well</th>\n",
       "      <th>Image_ExecutionTime_02Metadata</th>\n",
       "      <th>index</th>\n",
       "      <th>ImageNumber</th>\n",
       "      <th>ObjectNumber</th>\n",
       "      <th>Cells_Number_Object_Number</th>\n",
       "      <th>Cells_AreaShape_Area</th>\n",
       "      <th>Cells_AreaShape_BoundingBoxArea</th>\n",
       "      <th>Cells_AreaShape_BoundingBoxMaximum_X</th>\n",
       "      <th>Cells_AreaShape_BoundingBoxMaximum_Y</th>\n",
       "      <th>...</th>\n",
       "      <th>Image_Threshold_WeightedVariance_Cells</th>\n",
       "      <th>Image_Threshold_WeightedVariance_Mitocondria_segmented</th>\n",
       "      <th>Image_Threshold_WeightedVariance_Nuclei</th>\n",
       "      <th>Image_Threshold_WeightedVariance_Nucleoli_segmented</th>\n",
       "      <th>Image_Width_Brightfield</th>\n",
       "      <th>Image_Width_DNA</th>\n",
       "      <th>Image_Width_ER</th>\n",
       "      <th>Image_Width_Membrane</th>\n",
       "      <th>Image_Width_Mito</th>\n",
       "      <th>Image_Width_RNA_nucleoli</th>\n",
       "    </tr>\n",
       "  </thead>\n",
       "  <tbody>\n",
       "    <tr>\n",
       "      <th>0</th>\n",
       "      <td>B02</td>\n",
       "      <td>0.0</td>\n",
       "      <td>0</td>\n",
       "      <td>3.502374</td>\n",
       "      <td>461.470123</td>\n",
       "      <td>184.017195</td>\n",
       "      <td>1058.537346</td>\n",
       "      <td>2654.990865</td>\n",
       "      <td>543.308436</td>\n",
       "      <td>590.518001</td>\n",
       "      <td>...</td>\n",
       "      <td>0.280613</td>\n",
       "      <td>0.452426</td>\n",
       "      <td>0.261507</td>\n",
       "      <td>0.426685</td>\n",
       "      <td>1080.0</td>\n",
       "      <td>1080.0</td>\n",
       "      <td>1080.0</td>\n",
       "      <td>1080.0</td>\n",
       "      <td>1080.0</td>\n",
       "      <td>1080.0</td>\n",
       "    </tr>\n",
       "    <tr>\n",
       "      <th>1</th>\n",
       "      <td>B04</td>\n",
       "      <td>0.0</td>\n",
       "      <td>1</td>\n",
       "      <td>7.859091</td>\n",
       "      <td>198.735227</td>\n",
       "      <td>58.738397</td>\n",
       "      <td>1608.232068</td>\n",
       "      <td>4628.383966</td>\n",
       "      <td>689.063291</td>\n",
       "      <td>575.514768</td>\n",
       "      <td>...</td>\n",
       "      <td>0.200269</td>\n",
       "      <td>0.493772</td>\n",
       "      <td>0.145162</td>\n",
       "      <td>0.530312</td>\n",
       "      <td>1080.0</td>\n",
       "      <td>1080.0</td>\n",
       "      <td>1080.0</td>\n",
       "      <td>1080.0</td>\n",
       "      <td>1080.0</td>\n",
       "      <td>1080.0</td>\n",
       "    </tr>\n",
       "  </tbody>\n",
       "</table>\n",
       "<p>2 rows × 1098 columns</p>\n",
       "</div>"
      ],
      "text/plain": [
       "  Metadata_Well  Image_ExecutionTime_02Metadata  index  ImageNumber  \\\n",
       "0           B02                             0.0      0     3.502374   \n",
       "1           B04                             0.0      1     7.859091   \n",
       "\n",
       "   ObjectNumber  Cells_Number_Object_Number  Cells_AreaShape_Area  \\\n",
       "0    461.470123                  184.017195           1058.537346   \n",
       "1    198.735227                   58.738397           1608.232068   \n",
       "\n",
       "   Cells_AreaShape_BoundingBoxArea  Cells_AreaShape_BoundingBoxMaximum_X  \\\n",
       "0                      2654.990865                            543.308436   \n",
       "1                      4628.383966                            689.063291   \n",
       "\n",
       "   Cells_AreaShape_BoundingBoxMaximum_Y  ...  \\\n",
       "0                            590.518001  ...   \n",
       "1                            575.514768  ...   \n",
       "\n",
       "   Image_Threshold_WeightedVariance_Cells  \\\n",
       "0                                0.280613   \n",
       "1                                0.200269   \n",
       "\n",
       "   Image_Threshold_WeightedVariance_Mitocondria_segmented  \\\n",
       "0                                           0.452426        \n",
       "1                                           0.493772        \n",
       "\n",
       "   Image_Threshold_WeightedVariance_Nuclei  \\\n",
       "0                                 0.261507   \n",
       "1                                 0.145162   \n",
       "\n",
       "   Image_Threshold_WeightedVariance_Nucleoli_segmented  \\\n",
       "0                                           0.426685     \n",
       "1                                           0.530312     \n",
       "\n",
       "   Image_Width_Brightfield  Image_Width_DNA  Image_Width_ER  \\\n",
       "0                   1080.0           1080.0          1080.0   \n",
       "1                   1080.0           1080.0          1080.0   \n",
       "\n",
       "   Image_Width_Membrane  Image_Width_Mito  Image_Width_RNA_nucleoli  \n",
       "0                1080.0            1080.0                    1080.0  \n",
       "1                1080.0            1080.0                    1080.0  \n",
       "\n",
       "[2 rows x 1098 columns]"
      ]
     },
     "execution_count": 27,
     "metadata": {},
     "output_type": "execute_result"
    }
   ],
   "source": [
    "namefixed_annotated_features.head()"
   ]
  },
  {
   "cell_type": "code",
   "execution_count": 111,
   "metadata": {},
   "outputs": [
    {
     "data": {
      "text/html": [
       "<div>\n",
       "<style scoped>\n",
       "    .dataframe tbody tr th:only-of-type {\n",
       "        vertical-align: middle;\n",
       "    }\n",
       "\n",
       "    .dataframe tbody tr th {\n",
       "        vertical-align: top;\n",
       "    }\n",
       "\n",
       "    .dataframe thead th {\n",
       "        text-align: right;\n",
       "    }\n",
       "</style>\n",
       "<table border=\"1\" class=\"dataframe\">\n",
       "  <thead>\n",
       "    <tr style=\"text-align: right;\">\n",
       "      <th></th>\n",
       "      <th>Metadata_Well</th>\n",
       "      <th>Cells_Number_Object_Number</th>\n",
       "      <th>Cells_AreaShape_Area</th>\n",
       "      <th>Cells_AreaShape_BoundingBoxArea</th>\n",
       "      <th>Cells_AreaShape_BoundingBoxMaximum_X</th>\n",
       "      <th>Cells_AreaShape_BoundingBoxMaximum_Y</th>\n",
       "      <th>Cells_AreaShape_BoundingBoxMinimum_X</th>\n",
       "      <th>Cells_AreaShape_BoundingBoxMinimum_Y</th>\n",
       "      <th>Cells_AreaShape_Center_X</th>\n",
       "      <th>Cells_AreaShape_Center_Y</th>\n",
       "      <th>...</th>\n",
       "      <th>Nuclei_AreaShape_Zernike_9_3</th>\n",
       "      <th>Nuclei_AreaShape_Zernike_9_5</th>\n",
       "      <th>Nuclei_AreaShape_Zernike_9_7</th>\n",
       "      <th>Nuclei_AreaShape_Zernike_9_9</th>\n",
       "      <th>Nuclei_Children_Cells_Count</th>\n",
       "      <th>Nuclei_Children_Cytoplasm_Count</th>\n",
       "      <th>Nuclei_Location_Center_X</th>\n",
       "      <th>Nuclei_Location_Center_Y</th>\n",
       "      <th>Nuclei_Location_Center_Z</th>\n",
       "      <th>Nuclei_Math_area_ratio</th>\n",
       "    </tr>\n",
       "  </thead>\n",
       "  <tbody>\n",
       "    <tr>\n",
       "      <th>0</th>\n",
       "      <td>F02</td>\n",
       "      <td>1.492978</td>\n",
       "      <td>-1.266293</td>\n",
       "      <td>-1.086834</td>\n",
       "      <td>-0.519542</td>\n",
       "      <td>0.711076</td>\n",
       "      <td>-0.615763</td>\n",
       "      <td>0.685927</td>\n",
       "      <td>-0.587913</td>\n",
       "      <td>0.678770</td>\n",
       "      <td>...</td>\n",
       "      <td>1.883021</td>\n",
       "      <td>-0.195625</td>\n",
       "      <td>0.238913</td>\n",
       "      <td>0.365038</td>\n",
       "      <td>0.0</td>\n",
       "      <td>0.0</td>\n",
       "      <td>-0.606109</td>\n",
       "      <td>0.704737</td>\n",
       "      <td>0.0</td>\n",
       "      <td>0.603732</td>\n",
       "    </tr>\n",
       "    <tr>\n",
       "      <th>1</th>\n",
       "      <td>F03</td>\n",
       "      <td>0.741663</td>\n",
       "      <td>-0.138062</td>\n",
       "      <td>-0.010371</td>\n",
       "      <td>0.356315</td>\n",
       "      <td>-0.166569</td>\n",
       "      <td>0.070639</td>\n",
       "      <td>-0.102473</td>\n",
       "      <td>0.267228</td>\n",
       "      <td>-0.119533</td>\n",
       "      <td>...</td>\n",
       "      <td>0.564382</td>\n",
       "      <td>0.550784</td>\n",
       "      <td>1.039415</td>\n",
       "      <td>0.725554</td>\n",
       "      <td>0.0</td>\n",
       "      <td>0.0</td>\n",
       "      <td>0.275334</td>\n",
       "      <td>-0.147610</td>\n",
       "      <td>0.0</td>\n",
       "      <td>0.022784</td>\n",
       "    </tr>\n",
       "    <tr>\n",
       "      <th>2</th>\n",
       "      <td>F04</td>\n",
       "      <td>0.970039</td>\n",
       "      <td>-0.221474</td>\n",
       "      <td>0.145533</td>\n",
       "      <td>-0.078048</td>\n",
       "      <td>0.149857</td>\n",
       "      <td>-0.322601</td>\n",
       "      <td>0.102473</td>\n",
       "      <td>-0.176224</td>\n",
       "      <td>0.119533</td>\n",
       "      <td>...</td>\n",
       "      <td>-1.486497</td>\n",
       "      <td>-0.617605</td>\n",
       "      <td>-0.304691</td>\n",
       "      <td>0.055284</td>\n",
       "      <td>0.0</td>\n",
       "      <td>0.0</td>\n",
       "      <td>-0.164321</td>\n",
       "      <td>0.147610</td>\n",
       "      <td>0.0</td>\n",
       "      <td>0.528982</td>\n",
       "    </tr>\n",
       "    <tr>\n",
       "      <th>3</th>\n",
       "      <td>F05</td>\n",
       "      <td>0.242465</td>\n",
       "      <td>-0.271435</td>\n",
       "      <td>0.010371</td>\n",
       "      <td>1.279740</td>\n",
       "      <td>3.221580</td>\n",
       "      <td>1.068943</td>\n",
       "      <td>2.570646</td>\n",
       "      <td>1.318077</td>\n",
       "      <td>2.886540</td>\n",
       "      <td>...</td>\n",
       "      <td>0.542385</td>\n",
       "      <td>-1.325067</td>\n",
       "      <td>0.252864</td>\n",
       "      <td>1.476376</td>\n",
       "      <td>0.0</td>\n",
       "      <td>0.0</td>\n",
       "      <td>1.300947</td>\n",
       "      <td>2.886608</td>\n",
       "      <td>0.0</td>\n",
       "      <td>0.231416</td>\n",
       "    </tr>\n",
       "    <tr>\n",
       "      <th>4</th>\n",
       "      <td>F06</td>\n",
       "      <td>0.039803</td>\n",
       "      <td>0.249752</td>\n",
       "      <td>0.462540</td>\n",
       "      <td>-1.395660</td>\n",
       "      <td>1.608360</td>\n",
       "      <td>-1.672645</td>\n",
       "      <td>1.129040</td>\n",
       "      <td>-1.654168</td>\n",
       "      <td>1.348424</td>\n",
       "      <td>...</td>\n",
       "      <td>1.727142</td>\n",
       "      <td>0.585978</td>\n",
       "      <td>0.740498</td>\n",
       "      <td>-0.055284</td>\n",
       "      <td>0.0</td>\n",
       "      <td>0.0</td>\n",
       "      <td>-1.659722</td>\n",
       "      <td>1.383784</td>\n",
       "      <td>0.0</td>\n",
       "      <td>-0.667986</td>\n",
       "    </tr>\n",
       "  </tbody>\n",
       "</table>\n",
       "<p>5 rows × 454 columns</p>\n",
       "</div>"
      ],
      "text/plain": [
       "  Metadata_Well  Cells_Number_Object_Number  Cells_AreaShape_Area  \\\n",
       "0           F02                    1.492978             -1.266293   \n",
       "1           F03                    0.741663             -0.138062   \n",
       "2           F04                    0.970039             -0.221474   \n",
       "3           F05                    0.242465             -0.271435   \n",
       "4           F06                    0.039803              0.249752   \n",
       "\n",
       "   Cells_AreaShape_BoundingBoxArea  Cells_AreaShape_BoundingBoxMaximum_X  \\\n",
       "0                        -1.086834                             -0.519542   \n",
       "1                        -0.010371                              0.356315   \n",
       "2                         0.145533                             -0.078048   \n",
       "3                         0.010371                              1.279740   \n",
       "4                         0.462540                             -1.395660   \n",
       "\n",
       "   Cells_AreaShape_BoundingBoxMaximum_Y  Cells_AreaShape_BoundingBoxMinimum_X  \\\n",
       "0                              0.711076                             -0.615763   \n",
       "1                             -0.166569                              0.070639   \n",
       "2                              0.149857                             -0.322601   \n",
       "3                              3.221580                              1.068943   \n",
       "4                              1.608360                             -1.672645   \n",
       "\n",
       "   Cells_AreaShape_BoundingBoxMinimum_Y  Cells_AreaShape_Center_X  \\\n",
       "0                              0.685927                 -0.587913   \n",
       "1                             -0.102473                  0.267228   \n",
       "2                              0.102473                 -0.176224   \n",
       "3                              2.570646                  1.318077   \n",
       "4                              1.129040                 -1.654168   \n",
       "\n",
       "   Cells_AreaShape_Center_Y  ...  Nuclei_AreaShape_Zernike_9_3  \\\n",
       "0                  0.678770  ...                      1.883021   \n",
       "1                 -0.119533  ...                      0.564382   \n",
       "2                  0.119533  ...                     -1.486497   \n",
       "3                  2.886540  ...                      0.542385   \n",
       "4                  1.348424  ...                      1.727142   \n",
       "\n",
       "   Nuclei_AreaShape_Zernike_9_5  Nuclei_AreaShape_Zernike_9_7  \\\n",
       "0                     -0.195625                      0.238913   \n",
       "1                      0.550784                      1.039415   \n",
       "2                     -0.617605                     -0.304691   \n",
       "3                     -1.325067                      0.252864   \n",
       "4                      0.585978                      0.740498   \n",
       "\n",
       "   Nuclei_AreaShape_Zernike_9_9  Nuclei_Children_Cells_Count  \\\n",
       "0                      0.365038                          0.0   \n",
       "1                      0.725554                          0.0   \n",
       "2                      0.055284                          0.0   \n",
       "3                      1.476376                          0.0   \n",
       "4                     -0.055284                          0.0   \n",
       "\n",
       "   Nuclei_Children_Cytoplasm_Count  Nuclei_Location_Center_X  \\\n",
       "0                              0.0                 -0.606109   \n",
       "1                              0.0                  0.275334   \n",
       "2                              0.0                 -0.164321   \n",
       "3                              0.0                  1.300947   \n",
       "4                              0.0                 -1.659722   \n",
       "\n",
       "   Nuclei_Location_Center_Y  Nuclei_Location_Center_Z  Nuclei_Math_area_ratio  \n",
       "0                  0.704737                       0.0                0.603732  \n",
       "1                 -0.147610                       0.0                0.022784  \n",
       "2                  0.147610                       0.0                0.528982  \n",
       "3                  2.886608                       0.0                0.231416  \n",
       "4                  1.383784                       0.0               -0.667986  \n",
       "\n",
       "[5 rows x 454 columns]"
      ]
     },
     "execution_count": 111,
     "metadata": {},
     "output_type": "execute_result"
    }
   ],
   "source": [
    "normalized = pycytominer.normalize(profiles=namefixed_annotated_features ,method='mad_robustize')\n",
    "\n",
    "normalized.to_csv('neurons_normalized_mad_robustize.csv',index=False)\n",
    "\n",
    "pycytominer.cyto_utils.write_gct(normalized,output_file='Neurons_normalized_mad_robustize.gct')\n",
    "\n",
    "normalized.head()"
   ]
  },
  {
   "cell_type": "code",
   "execution_count": 112,
   "metadata": {},
   "outputs": [],
   "source": [
    "feature_selected = pycytominer.feature_select(profiles=normalized, operation = ['variance_threshold','correlation_threshold','drop_na_columns','blocklist'])\n",
    "\n",
    "feature_selected.to_csv('Neurons_feature_selected_mad_robustize.csv',index=False)\n",
    "\n",
    "pycytominer.cyto_utils.write_gct(feature_selected,output_file='Neurons_feature_selected_mad_robustize.gct')"
   ]
  },
  {
   "cell_type": "code",
   "execution_count": 113,
   "metadata": {},
   "outputs": [
    {
     "data": {
      "text/html": [
       "<div>\n",
       "<style scoped>\n",
       "    .dataframe tbody tr th:only-of-type {\n",
       "        vertical-align: middle;\n",
       "    }\n",
       "\n",
       "    .dataframe tbody tr th {\n",
       "        vertical-align: top;\n",
       "    }\n",
       "\n",
       "    .dataframe thead th {\n",
       "        text-align: right;\n",
       "    }\n",
       "</style>\n",
       "<table border=\"1\" class=\"dataframe\">\n",
       "  <thead>\n",
       "    <tr style=\"text-align: right;\">\n",
       "      <th></th>\n",
       "      <th>Metadata_Well</th>\n",
       "      <th>Cells_AreaShape_BoundingBoxMinimum_Y</th>\n",
       "      <th>Cells_AreaShape_CentralMoment_0_1</th>\n",
       "      <th>Cells_AreaShape_CentralMoment_1_1</th>\n",
       "      <th>Cells_AreaShape_CentralMoment_1_3</th>\n",
       "      <th>Cells_AreaShape_CentralMoment_2_1</th>\n",
       "      <th>Cells_AreaShape_CentralMoment_2_2</th>\n",
       "      <th>Cells_AreaShape_Compactness</th>\n",
       "      <th>Cells_AreaShape_Eccentricity</th>\n",
       "      <th>Cells_AreaShape_HuMoment_4</th>\n",
       "      <th>...</th>\n",
       "      <th>Nuclei_AreaShape_Zernike_8_0</th>\n",
       "      <th>Nuclei_AreaShape_Zernike_8_2</th>\n",
       "      <th>Nuclei_AreaShape_Zernike_8_4</th>\n",
       "      <th>Nuclei_AreaShape_Zernike_8_6</th>\n",
       "      <th>Nuclei_AreaShape_Zernike_8_8</th>\n",
       "      <th>Nuclei_AreaShape_Zernike_9_1</th>\n",
       "      <th>Nuclei_AreaShape_Zernike_9_3</th>\n",
       "      <th>Nuclei_AreaShape_Zernike_9_5</th>\n",
       "      <th>Nuclei_AreaShape_Zernike_9_7</th>\n",
       "      <th>Nuclei_AreaShape_Zernike_9_9</th>\n",
       "    </tr>\n",
       "  </thead>\n",
       "  <tbody>\n",
       "    <tr>\n",
       "      <th>0</th>\n",
       "      <td>F02</td>\n",
       "      <td>0.685927</td>\n",
       "      <td>1.120593</td>\n",
       "      <td>-0.045502</td>\n",
       "      <td>0.193021</td>\n",
       "      <td>0.645765</td>\n",
       "      <td>-0.711149</td>\n",
       "      <td>-1.275917</td>\n",
       "      <td>-2.408876</td>\n",
       "      <td>5.600438</td>\n",
       "      <td>...</td>\n",
       "      <td>3.292498</td>\n",
       "      <td>-0.008313</td>\n",
       "      <td>0.985063</td>\n",
       "      <td>0.802632</td>\n",
       "      <td>0.079859</td>\n",
       "      <td>-0.374904</td>\n",
       "      <td>1.883021</td>\n",
       "      <td>-0.195625</td>\n",
       "      <td>0.238913</td>\n",
       "      <td>0.365038</td>\n",
       "    </tr>\n",
       "    <tr>\n",
       "      <th>1</th>\n",
       "      <td>F03</td>\n",
       "      <td>-0.102473</td>\n",
       "      <td>-0.007173</td>\n",
       "      <td>-0.001898</td>\n",
       "      <td>0.074149</td>\n",
       "      <td>-0.049469</td>\n",
       "      <td>-0.430391</td>\n",
       "      <td>0.400625</td>\n",
       "      <td>0.900894</td>\n",
       "      <td>-0.564364</td>\n",
       "      <td>...</td>\n",
       "      <td>-0.592504</td>\n",
       "      <td>0.008313</td>\n",
       "      <td>0.138216</td>\n",
       "      <td>-2.215304</td>\n",
       "      <td>-0.252438</td>\n",
       "      <td>-0.375477</td>\n",
       "      <td>0.564382</td>\n",
       "      <td>0.550784</td>\n",
       "      <td>1.039415</td>\n",
       "      <td>0.725554</td>\n",
       "    </tr>\n",
       "    <tr>\n",
       "      <th>2</th>\n",
       "      <td>F04</td>\n",
       "      <td>0.102473</td>\n",
       "      <td>-0.400288</td>\n",
       "      <td>0.311445</td>\n",
       "      <td>0.140206</td>\n",
       "      <td>1.249388</td>\n",
       "      <td>-0.041925</td>\n",
       "      <td>0.090049</td>\n",
       "      <td>0.786194</td>\n",
       "      <td>0.192704</td>\n",
       "      <td>...</td>\n",
       "      <td>-2.071394</td>\n",
       "      <td>2.153284</td>\n",
       "      <td>0.796938</td>\n",
       "      <td>-0.076434</td>\n",
       "      <td>0.037650</td>\n",
       "      <td>0.882804</td>\n",
       "      <td>-1.486497</td>\n",
       "      <td>-0.617605</td>\n",
       "      <td>-0.304691</td>\n",
       "      <td>0.055284</td>\n",
       "    </tr>\n",
       "    <tr>\n",
       "      <th>3</th>\n",
       "      <td>F05</td>\n",
       "      <td>2.570646</td>\n",
       "      <td>-0.352749</td>\n",
       "      <td>-1.219448</td>\n",
       "      <td>-2.639847</td>\n",
       "      <td>-1.652579</td>\n",
       "      <td>2.273288</td>\n",
       "      <td>-0.342531</td>\n",
       "      <td>0.719103</td>\n",
       "      <td>0.925258</td>\n",
       "      <td>...</td>\n",
       "      <td>-0.145709</td>\n",
       "      <td>-0.694099</td>\n",
       "      <td>-0.298596</td>\n",
       "      <td>0.647733</td>\n",
       "      <td>0.103706</td>\n",
       "      <td>-0.685100</td>\n",
       "      <td>0.542385</td>\n",
       "      <td>-1.325067</td>\n",
       "      <td>0.252864</td>\n",
       "      <td>1.476376</td>\n",
       "    </tr>\n",
       "    <tr>\n",
       "      <th>4</th>\n",
       "      <td>F06</td>\n",
       "      <td>1.129040</td>\n",
       "      <td>0.717468</td>\n",
       "      <td>-0.911519</td>\n",
       "      <td>-1.466574</td>\n",
       "      <td>0.834800</td>\n",
       "      <td>1.522981</td>\n",
       "      <td>0.454199</td>\n",
       "      <td>0.315210</td>\n",
       "      <td>212.196217</td>\n",
       "      <td>...</td>\n",
       "      <td>0.503128</td>\n",
       "      <td>0.807675</td>\n",
       "      <td>0.496614</td>\n",
       "      <td>0.739012</td>\n",
       "      <td>1.634283</td>\n",
       "      <td>0.663882</td>\n",
       "      <td>1.727142</td>\n",
       "      <td>0.585978</td>\n",
       "      <td>0.740498</td>\n",
       "      <td>-0.055284</td>\n",
       "    </tr>\n",
       "  </tbody>\n",
       "</table>\n",
       "<p>5 rows × 166 columns</p>\n",
       "</div>"
      ],
      "text/plain": [
       "  Metadata_Well  Cells_AreaShape_BoundingBoxMinimum_Y  \\\n",
       "0           F02                              0.685927   \n",
       "1           F03                             -0.102473   \n",
       "2           F04                              0.102473   \n",
       "3           F05                              2.570646   \n",
       "4           F06                              1.129040   \n",
       "\n",
       "   Cells_AreaShape_CentralMoment_0_1  Cells_AreaShape_CentralMoment_1_1  \\\n",
       "0                           1.120593                          -0.045502   \n",
       "1                          -0.007173                          -0.001898   \n",
       "2                          -0.400288                           0.311445   \n",
       "3                          -0.352749                          -1.219448   \n",
       "4                           0.717468                          -0.911519   \n",
       "\n",
       "   Cells_AreaShape_CentralMoment_1_3  Cells_AreaShape_CentralMoment_2_1  \\\n",
       "0                           0.193021                           0.645765   \n",
       "1                           0.074149                          -0.049469   \n",
       "2                           0.140206                           1.249388   \n",
       "3                          -2.639847                          -1.652579   \n",
       "4                          -1.466574                           0.834800   \n",
       "\n",
       "   Cells_AreaShape_CentralMoment_2_2  Cells_AreaShape_Compactness  \\\n",
       "0                          -0.711149                    -1.275917   \n",
       "1                          -0.430391                     0.400625   \n",
       "2                          -0.041925                     0.090049   \n",
       "3                           2.273288                    -0.342531   \n",
       "4                           1.522981                     0.454199   \n",
       "\n",
       "   Cells_AreaShape_Eccentricity  Cells_AreaShape_HuMoment_4  ...  \\\n",
       "0                     -2.408876                    5.600438  ...   \n",
       "1                      0.900894                   -0.564364  ...   \n",
       "2                      0.786194                    0.192704  ...   \n",
       "3                      0.719103                    0.925258  ...   \n",
       "4                      0.315210                  212.196217  ...   \n",
       "\n",
       "   Nuclei_AreaShape_Zernike_8_0  Nuclei_AreaShape_Zernike_8_2  \\\n",
       "0                      3.292498                     -0.008313   \n",
       "1                     -0.592504                      0.008313   \n",
       "2                     -2.071394                      2.153284   \n",
       "3                     -0.145709                     -0.694099   \n",
       "4                      0.503128                      0.807675   \n",
       "\n",
       "   Nuclei_AreaShape_Zernike_8_4  Nuclei_AreaShape_Zernike_8_6  \\\n",
       "0                      0.985063                      0.802632   \n",
       "1                      0.138216                     -2.215304   \n",
       "2                      0.796938                     -0.076434   \n",
       "3                     -0.298596                      0.647733   \n",
       "4                      0.496614                      0.739012   \n",
       "\n",
       "   Nuclei_AreaShape_Zernike_8_8  Nuclei_AreaShape_Zernike_9_1  \\\n",
       "0                      0.079859                     -0.374904   \n",
       "1                     -0.252438                     -0.375477   \n",
       "2                      0.037650                      0.882804   \n",
       "3                      0.103706                     -0.685100   \n",
       "4                      1.634283                      0.663882   \n",
       "\n",
       "   Nuclei_AreaShape_Zernike_9_3  Nuclei_AreaShape_Zernike_9_5  \\\n",
       "0                      1.883021                     -0.195625   \n",
       "1                      0.564382                      0.550784   \n",
       "2                     -1.486497                     -0.617605   \n",
       "3                      0.542385                     -1.325067   \n",
       "4                      1.727142                      0.585978   \n",
       "\n",
       "   Nuclei_AreaShape_Zernike_9_7  Nuclei_AreaShape_Zernike_9_9  \n",
       "0                      0.238913                      0.365038  \n",
       "1                      1.039415                      0.725554  \n",
       "2                     -0.304691                      0.055284  \n",
       "3                      0.252864                      1.476376  \n",
       "4                      0.740498                     -0.055284  \n",
       "\n",
       "[5 rows x 166 columns]"
      ]
     },
     "execution_count": 113,
     "metadata": {},
     "output_type": "execute_result"
    }
   ],
   "source": [
    "feature_selected.head()"
   ]
  },
  {
   "cell_type": "code",
   "execution_count": 114,
   "metadata": {},
   "outputs": [
    {
     "data": {
      "text/plain": [
       "(20, 166)"
      ]
     },
     "execution_count": 114,
     "metadata": {},
     "output_type": "execute_result"
    }
   ],
   "source": [
    "feature_selected.shape"
   ]
  },
  {
   "cell_type": "code",
   "execution_count": null,
   "metadata": {},
   "outputs": [],
   "source": [
    "name: profiling\n",
    "dependencies:\n",
    "- conda-forge::python=3.7.1\n",
    "- conda-forge::pandas=1.2.0\n",
    "- conda-forge::pip=19.2.2\n",
    "- conda-forge::pyyaml=5.3.1\n",
    "- conda-forge::plotly=4.14.3\n",
    "- conda-forge::dvc-s3\n",
    "- plotly::python-kaleido=0.0.3\n",
    "- pip\n",
    "- pip:\n",
    "  - git+https://github.com/cytomining/pycytominer@36241269c4293c24484986568ca16b2d7eb9e808"
   ]
  },
  {
   "cell_type": "code",
   "execution_count": null,
   "metadata": {},
   "outputs": [],
   "source": [
    "DATA='Progenitor_project'\n",
    "PROJECT_NAME='Progenitor_project'\n",
    "CONFIG_FILE=\"config_batch1\" \n",
    "\n",
    "#creating the environment\n",
    "\n",
    " conda create -n profiling python=3.9 pyyaml plotly pip 'pandas<2'"
   ]
  },
  {
   "attachments": {},
   "cell_type": "markdown",
   "metadata": {},
   "source": [
    "pipeline: analysis\n",
    "output_dir: profiles\n",
    "platemap_well_column: Metadata_well_position\n",
    "compartments:\n",
    "  - cells\n",
    "  - cytoplasm\n",
    "  - nuclei\n",
    "  - Mitocondria\n",
    "  - Nucleoli\n",
    "aggregate:\n",
    "  perform: false\n",
    "  plate_column: Metadata_Plate\n",
    "  well_column: Metadata_Well\n",
    "  method: median\n",
    "  fields: all\n",
    "  image_feature_categories:\n",
    "    - Count\n",
    "    - Intensity\n",
    "annotate:\n",
    "  perform: true\n",
    "  well_column: Metadata_Well\n",
    "  external :\n",
    "    perform: false\n",
    "    file: <metadata file name>\n",
    "    merge_column: <Column to merge on>\n",
    "normalize:\n",
    "  perform: true\n",
    "  method: mad_robustize\n",
    "  features: infer\n",
    "  mad_robustize_fudge_factor: 0\n",
    "  image_features: true\n",
    "  min_cells: 1\n",
    "normalize_negcon:\n",
    "  perform: false\n",
    "  method: mad_robustize\n",
    "  features: infer\n",
    "  mad_robustize_fudge_factor: 0\n",
    "  image_features: true\n",
    "  min_cells: 1\n",
    "feature_select:\n",
    "  perform: true\n",
    "  features: infer\n",
    "  level: batch\n",
    "  gct: true\n",
    "  image_features: true\n",
    "  operations:\n",
    "    - variance_threshold\n",
    "    - correlation_threshold\n",
    "    - drop_na_columns\n",
    "    - blocklist\n",
    "  min_cells: 1\n",
    "feature_select_negcon:\n",
    "  perform: false\n",
    "  features: infer\n",
    "  level: batch\n",
    "  gct: false\n",
    "  image_features: true\n",
    "  operations:\n",
    "    - variance_threshold\n",
    "    - correlation_threshold\n",
    "    - drop_na_columns \n",
    "    - blocklist\n",
    "  min_cells: 1 \n",
    "quality_control:\n",
    "  perform: false \n",
    "  summary:\n",
    "    perform: true\n",
    "    row: Metadata_Row \n",
    "    column: Metadata_Col\n",
    "  heatmap:\n",
    "    perform : true\n",
    "options:\n",
    "  compression: gzip\n",
    "  float_format: \"%.5g\"\n",
    "  samples: all\n",
    "---\n",
    "batch: batch1\n",
    "plates:\n",
    "  - name: plate1\n",
    "    process: true\n",
    "process: true\n"
   ]
  },
  {
   "attachments": {},
   "cell_type": "markdown",
   "metadata": {},
   "source": [
    "BATCH=\"batch1\"\n",
    "mkdir -p profiles/${BATCH}"
   ]
  },
  {
   "attachments": {},
   "cell_type": "markdown",
   "metadata": {},
   "source": [
    "#run the backend \n",
    "\n",
    "mkdir -p ~/ebs_tmp/${PROJECT_NAME}/workspace/scratch/${BATCH_ID}/\n",
    "PLATES=$(readlink -f ~/ebs_tmp/${PROJECT_NAME}/workspace/scratch/${BATCH_ID}/plates_to_process.txt)\n",
    "aws s3 ls s3://${BUCKET}/projects/${PROJECT_NAME}/workspace/analysis/${BATCH_ID}/ |cut -d \" \" -f29 | cut -d \"/\" -f1 >> ${PLATES}\n",
    "\n",
    "\n",
    "cd ~/ebs_tmp/${PROJECT_NAME}/workspace/software/pycytominer/\n",
    "mkdir -p  ../../log/BR00140145_3/\n",
    "parallel \\\n",
    "--max-procs ${MAXPROCS} \\\n",
    "--ungroup \\\n",
    "--eta \\\n",
    "--joblog ../../log/BR00140145_3/collate.log \\\n",
    "--results ../../log/BR00140145_3/collate \\\n",
    "--files \\\n",
    "--keep-order \\\n",
    "python3 pycytominer/cyto_utils/collate_cmd.py ${BATCH_ID} pycytominer/cyto_utils/database_config/ingest_config.ini plate1 \\\n",
    "--tmp-dir ~/ebs_tmp \\\n",
    "--aggregate-only \\\n",
    "--dont-add-image-features \\\n",
    "\n",
    "python3 pycytominer/cyto_utils/collate_cmd.py batch1 --aggregate-only pycytominer/cyto_utils/database_config/ingest_config.ini ${BATCH_ID} \\\n",
    "\n",
    "python3 pycytominer/cyto_utils/collate_cmd.py batch1 pycytominer/cyto_utils/database_config/ingest_config.ini plate1\n"
   ]
  }
 ],
 "metadata": {
  "kernelspec": {
   "display_name": "base",
   "language": "python",
   "name": "python3"
  },
  "language_info": {
   "codemirror_mode": {
    "name": "ipython",
    "version": 3
   },
   "file_extension": ".py",
   "mimetype": "text/x-python",
   "name": "python",
   "nbconvert_exporter": "python",
   "pygments_lexer": "ipython3",
   "version": "3.10.13"
  },
  "orig_nbformat": 4
 },
 "nbformat": 4,
 "nbformat_minor": 2
}
